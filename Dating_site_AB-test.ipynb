{
 "cells": [
  {
   "cell_type": "markdown",
   "metadata": {},
   "source": [
    "#### Description\n",
    "\n",
    "Imagine we work for a large dating app.\n",
    "\n",
    "In addition to the basic features, the app also has a premium subscription that gives you access to a number of important additional features.\n",
    "\n",
    "An A/B test was conducted, in which the cost of a premium subscription* was changed for new users from several countries when purchasing through two new payment systems. However, the cost of the trial period remained the same.\n",
    "Task:\n",
    "\n",
    "     Check whether the experiment was successful overall.\n",
    "     Analyze whether the innovation makes sense among any specific user groups.\n",
    "     The subscription fee is debited monthly until the user cancels it.\n",
    "\n",
    "There are three groups in total: test, control 1 (control_1) and control 2 (contr\n",
    "#### Task:\n",
    "\n",
    "- Check whether the experiment was successful overall.\n",
    "- Analyze whether the innovation makes sense among any specific user groups.\n",
    "*Subscription fees are charged monthly until the user cancels it.\n",
    "\n",
    "There are three groups in total: test, control 1 (control_1) and control 2 (control_2).\n",
    "#### Data\n",
    "Let's assume that control_1 and control_2 worked according to the old version, and the test version received two new payment systems.\n",
    "users_*.csv – information about users\n",
    "\n"
   ]
  },
  {
   "cell_type": "code",
   "execution_count": 1,
   "metadata": {},
   "outputs": [],
   "source": [
    "import pandas as pd\n",
    "import numpy as np\n",
    "import datetime as dt\n",
    "import seaborn as sns\n",
    "import matplotlib.pyplot as plt\n",
    "from scipy.stats import norm, chi2, shapiro\n",
    "from scipy import stats\n",
    "from tqdm.auto import tqdm"
   ]
  },
  {
   "cell_type": "markdown",
   "metadata": {},
   "source": [
    "### The data on transactions in groups"
   ]
  },
  {
   "cell_type": "code",
   "execution_count": 2,
   "metadata": {},
   "outputs": [],
   "source": [
    "try:\n",
    " A1=pd.read_csv('./Проект_3_transactions_control_1.csv', sep = \";\")\n",
    "except:\n",
    " A1=pd.read_csv('/Проект_3_transactions_control_1.csv', sep = \";\")"
   ]
  },
  {
   "cell_type": "code",
   "execution_count": 3,
   "metadata": {},
   "outputs": [],
   "source": [
    "try:\n",
    " A2=pd.read_csv('./Проект_3_transactions_control_2.csv', sep = \";\")\n",
    "except:\n",
    " A2=pd.read_csv('/Проект_3_transactions_control_2.csv', sep = \";\")\n"
   ]
  },
  {
   "cell_type": "code",
   "execution_count": 4,
   "metadata": {},
   "outputs": [],
   "source": [
    "try:\n",
    " Test=pd.read_csv('./Проект_3_transactions_test.csv', sep = \";\")\n",
    "except:\n",
    " Test=pd.read_csv('/Проект_3_transactions_test.csv', sep = \";\")"
   ]
  },
  {
   "cell_type": "code",
   "execution_count": 5,
   "metadata": {},
   "outputs": [
    {
     "data": {
      "text/html": [
       "<div>\n",
       "<style scoped>\n",
       "    .dataframe tbody tr th:only-of-type {\n",
       "        vertical-align: middle;\n",
       "    }\n",
       "\n",
       "    .dataframe tbody tr th {\n",
       "        vertical-align: top;\n",
       "    }\n",
       "\n",
       "    .dataframe thead th {\n",
       "        text-align: right;\n",
       "    }\n",
       "</style>\n",
       "<table border=\"1\" class=\"dataframe\">\n",
       "  <thead>\n",
       "    <tr style=\"text-align: right;\">\n",
       "      <th></th>\n",
       "      <th>uid</th>\n",
       "      <th>revenue</th>\n",
       "      <th>payment_id</th>\n",
       "    </tr>\n",
       "  </thead>\n",
       "  <tbody>\n",
       "    <tr>\n",
       "      <th>count</th>\n",
       "      <td>3.770000e+02</td>\n",
       "      <td>377.000000</td>\n",
       "      <td>377.000000</td>\n",
       "    </tr>\n",
       "    <tr>\n",
       "      <th>mean</th>\n",
       "      <td>8.923612e+08</td>\n",
       "      <td>6929.206897</td>\n",
       "      <td>91.145889</td>\n",
       "    </tr>\n",
       "    <tr>\n",
       "      <th>std</th>\n",
       "      <td>6.162900e+06</td>\n",
       "      <td>8027.889630</td>\n",
       "      <td>58.599773</td>\n",
       "    </tr>\n",
       "    <tr>\n",
       "      <th>min</th>\n",
       "      <td>8.910923e+08</td>\n",
       "      <td>26.000000</td>\n",
       "      <td>0.000000</td>\n",
       "    </tr>\n",
       "    <tr>\n",
       "      <th>25%</th>\n",
       "      <td>8.913833e+08</td>\n",
       "      <td>2730.000000</td>\n",
       "      <td>19.000000</td>\n",
       "    </tr>\n",
       "    <tr>\n",
       "      <th>50%</th>\n",
       "      <td>8.918225e+08</td>\n",
       "      <td>6266.000000</td>\n",
       "      <td>127.000000</td>\n",
       "    </tr>\n",
       "    <tr>\n",
       "      <th>75%</th>\n",
       "      <td>8.921850e+08</td>\n",
       "      <td>6448.000000</td>\n",
       "      <td>147.000000</td>\n",
       "    </tr>\n",
       "    <tr>\n",
       "      <th>max</th>\n",
       "      <td>9.609370e+08</td>\n",
       "      <td>63037.000000</td>\n",
       "      <td>147.000000</td>\n",
       "    </tr>\n",
       "  </tbody>\n",
       "</table>\n",
       "</div>"
      ],
      "text/plain": [
       "                uid       revenue  payment_id\n",
       "count  3.770000e+02    377.000000  377.000000\n",
       "mean   8.923612e+08   6929.206897   91.145889\n",
       "std    6.162900e+06   8027.889630   58.599773\n",
       "min    8.910923e+08     26.000000    0.000000\n",
       "25%    8.913833e+08   2730.000000   19.000000\n",
       "50%    8.918225e+08   6266.000000  127.000000\n",
       "75%    8.921850e+08   6448.000000  147.000000\n",
       "max    9.609370e+08  63037.000000  147.000000"
      ]
     },
     "execution_count": 5,
     "metadata": {},
     "output_type": "execute_result"
    }
   ],
   "source": [
    "A1.describe()"
   ]
  },
  {
   "cell_type": "code",
   "execution_count": 6,
   "metadata": {},
   "outputs": [
    {
     "data": {
      "text/plain": [
       "(1007, 8)"
      ]
     },
     "execution_count": 6,
     "metadata": {},
     "output_type": "execute_result"
    }
   ],
   "source": [
    "A1.shape # number of rows and columns"
   ]
  },
  {
   "cell_type": "code",
   "execution_count": 7,
   "metadata": {},
   "outputs": [
    {
     "name": "stdout",
     "output_type": "stream",
     "text": [
      "<class 'pandas.core.frame.DataFrame'>\n",
      "RangeIndex: 1007 entries, 0 to 1006\n",
      "Data columns (total 8 columns):\n",
      " #   Column        Non-Null Count  Dtype  \n",
      "---  ------        --------------  -----  \n",
      " 0   uid           377 non-null    float64\n",
      " 1   country       377 non-null    object \n",
      " 2   joined_at     1007 non-null   object \n",
      " 3   paid_at       1007 non-null   object \n",
      " 4   revenue       377 non-null    float64\n",
      " 5   payment_id    377 non-null    float64\n",
      " 6   from_page     377 non-null    object \n",
      " 7   product_type  377 non-null    object \n",
      "dtypes: float64(3), object(5)\n",
      "memory usage: 63.1+ KB\n"
     ]
    }
   ],
   "source": [
    "A1.info()"
   ]
  },
  {
   "cell_type": "code",
   "execution_count": 8,
   "metadata": {},
   "outputs": [
    {
     "data": {
      "text/plain": [
       "650"
      ]
     },
     "execution_count": 8,
     "metadata": {},
     "output_type": "execute_result"
    }
   ],
   "source": [
    "A1.duplicated().sum() # number of duplicates"
   ]
  },
  {
   "cell_type": "code",
   "execution_count": 9,
   "metadata": {},
   "outputs": [],
   "source": [
    "A1.drop_duplicates(inplace=True) # drop rows with dplicates"
   ]
  },
  {
   "cell_type": "code",
   "execution_count": 10,
   "metadata": {},
   "outputs": [
    {
     "name": "stdout",
     "output_type": "stream",
     "text": [
      "There are in А1: 357 transactions. Where 193  are unique IDs; Start date is  2015-01-19 11:49:00, end date NaT\n"
     ]
    }
   ],
   "source": [
    "print(\"There are in А1:\"+\" \"+ str(A1.shape[0])+\" \"+\"transactions\" + \".\"\n",
    "      + \" Where\"+\" \"+ str(A1.uid.nunique())+\" \"+\" are unique IDs\"+\"; \"+ \"Start date is\"+\"  \"+\n",
    "     str(A1['joined_at'].min())+ \", end date \"+ str(A1['joined_at'].max()))"
   ]
  },
  {
   "cell_type": "code",
   "execution_count": 11,
   "metadata": {},
   "outputs": [
    {
     "data": {
      "text/html": [
       "<div>\n",
       "<style scoped>\n",
       "    .dataframe tbody tr th:only-of-type {\n",
       "        vertical-align: middle;\n",
       "    }\n",
       "\n",
       "    .dataframe tbody tr th {\n",
       "        vertical-align: top;\n",
       "    }\n",
       "\n",
       "    .dataframe thead th {\n",
       "        text-align: right;\n",
       "    }\n",
       "</style>\n",
       "<table border=\"1\" class=\"dataframe\">\n",
       "  <thead>\n",
       "    <tr style=\"text-align: right;\">\n",
       "      <th></th>\n",
       "      <th>uid</th>\n",
       "      <th>revenue</th>\n",
       "      <th>payment_id</th>\n",
       "    </tr>\n",
       "  </thead>\n",
       "  <tbody>\n",
       "    <tr>\n",
       "      <th>count</th>\n",
       "      <td>3.280000e+02</td>\n",
       "      <td>328.000000</td>\n",
       "      <td>328.000000</td>\n",
       "    </tr>\n",
       "    <tr>\n",
       "      <th>mean</th>\n",
       "      <td>8.918121e+08</td>\n",
       "      <td>5854.993902</td>\n",
       "      <td>95.527439</td>\n",
       "    </tr>\n",
       "    <tr>\n",
       "      <th>std</th>\n",
       "      <td>3.802149e+05</td>\n",
       "      <td>6582.242539</td>\n",
       "      <td>57.247832</td>\n",
       "    </tr>\n",
       "    <tr>\n",
       "      <th>min</th>\n",
       "      <td>8.910681e+08</td>\n",
       "      <td>481.000000</td>\n",
       "      <td>0.000000</td>\n",
       "    </tr>\n",
       "    <tr>\n",
       "      <th>25%</th>\n",
       "      <td>8.915738e+08</td>\n",
       "      <td>2323.750000</td>\n",
       "      <td>19.000000</td>\n",
       "    </tr>\n",
       "    <tr>\n",
       "      <th>50%</th>\n",
       "      <td>8.918626e+08</td>\n",
       "      <td>4706.000000</td>\n",
       "      <td>146.000000</td>\n",
       "    </tr>\n",
       "    <tr>\n",
       "      <th>75%</th>\n",
       "      <td>8.921281e+08</td>\n",
       "      <td>6314.750000</td>\n",
       "      <td>147.000000</td>\n",
       "    </tr>\n",
       "    <tr>\n",
       "      <th>max</th>\n",
       "      <td>8.924388e+08</td>\n",
       "      <td>81796.000000</td>\n",
       "      <td>147.000000</td>\n",
       "    </tr>\n",
       "  </tbody>\n",
       "</table>\n",
       "</div>"
      ],
      "text/plain": [
       "                uid       revenue  payment_id\n",
       "count  3.280000e+02    328.000000  328.000000\n",
       "mean   8.918121e+08   5854.993902   95.527439\n",
       "std    3.802149e+05   6582.242539   57.247832\n",
       "min    8.910681e+08    481.000000    0.000000\n",
       "25%    8.915738e+08   2323.750000   19.000000\n",
       "50%    8.918626e+08   4706.000000  146.000000\n",
       "75%    8.921281e+08   6314.750000  147.000000\n",
       "max    8.924388e+08  81796.000000  147.000000"
      ]
     },
     "execution_count": 11,
     "metadata": {},
     "output_type": "execute_result"
    }
   ],
   "source": [
    "A2.describe()"
   ]
  },
  {
   "cell_type": "code",
   "execution_count": 12,
   "metadata": {},
   "outputs": [
    {
     "name": "stdout",
     "output_type": "stream",
     "text": [
      "<class 'pandas.core.frame.DataFrame'>\n",
      "RangeIndex: 328 entries, 0 to 327\n",
      "Data columns (total 8 columns):\n",
      " #   Column        Non-Null Count  Dtype \n",
      "---  ------        --------------  ----- \n",
      " 0   uid           328 non-null    int64 \n",
      " 1   country       328 non-null    object\n",
      " 2   joined_at     328 non-null    object\n",
      " 3   paid_at       328 non-null    object\n",
      " 4   revenue       328 non-null    int64 \n",
      " 5   payment_id    328 non-null    int64 \n",
      " 6   from_page     328 non-null    object\n",
      " 7   product_type  328 non-null    object\n",
      "dtypes: int64(3), object(5)\n",
      "memory usage: 20.6+ KB\n"
     ]
    }
   ],
   "source": [
    "A2.info()"
   ]
  },
  {
   "cell_type": "code",
   "execution_count": 13,
   "metadata": {},
   "outputs": [
    {
     "data": {
      "text/plain": [
       "5"
      ]
     },
     "execution_count": 13,
     "metadata": {},
     "output_type": "execute_result"
    }
   ],
   "source": [
    "A2.duplicated().sum()"
   ]
  },
  {
   "cell_type": "code",
   "execution_count": 14,
   "metadata": {},
   "outputs": [],
   "source": [
    "A2.drop_duplicates(inplace=True)"
   ]
  },
  {
   "cell_type": "code",
   "execution_count": 15,
   "metadata": {},
   "outputs": [
    {
     "name": "stdout",
     "output_type": "stream",
     "text": [
      "There are in А2: 323 transactions; Where 187  are unique IDs; Start date is  2017-01-11 08:36:00, end date 2017-10-31 17:43:00\n"
     ]
    }
   ],
   "source": [
    "print(\"There are in А2:\"+\" \"+ str(A2.shape[0])+\" \"+\"transactions\" + \";\"\n",
    "      + \" Where\"+\" \"+ str(A2.uid.nunique())+\" \"+\" are unique IDs\"+\"; \"+ \"Start date is\"+\"  \"+\n",
    "     str(A2['joined_at'].min())+ \", end date \"+ str(A2['joined_at'].max()))"
   ]
  },
  {
   "cell_type": "code",
   "execution_count": 16,
   "metadata": {},
   "outputs": [
    {
     "name": "stdout",
     "output_type": "stream",
     "text": [
      "<class 'pandas.core.frame.DataFrame'>\n",
      "RangeIndex: 273 entries, 0 to 272\n",
      "Data columns (total 8 columns):\n",
      " #   Column        Non-Null Count  Dtype \n",
      "---  ------        --------------  ----- \n",
      " 0   uid           273 non-null    int64 \n",
      " 1   country       273 non-null    object\n",
      " 2   joined_at     273 non-null    object\n",
      " 3   paid_at       273 non-null    object\n",
      " 4   revenue       273 non-null    int64 \n",
      " 5   payment_id    273 non-null    int64 \n",
      " 6   from_page     273 non-null    object\n",
      " 7   product_type  273 non-null    object\n",
      "dtypes: int64(3), object(5)\n",
      "memory usage: 17.2+ KB\n"
     ]
    }
   ],
   "source": [
    "Test.info()"
   ]
  },
  {
   "cell_type": "code",
   "execution_count": 17,
   "metadata": {},
   "outputs": [
    {
     "data": {
      "text/html": [
       "<div>\n",
       "<style scoped>\n",
       "    .dataframe tbody tr th:only-of-type {\n",
       "        vertical-align: middle;\n",
       "    }\n",
       "\n",
       "    .dataframe tbody tr th {\n",
       "        vertical-align: top;\n",
       "    }\n",
       "\n",
       "    .dataframe thead th {\n",
       "        text-align: right;\n",
       "    }\n",
       "</style>\n",
       "<table border=\"1\" class=\"dataframe\">\n",
       "  <thead>\n",
       "    <tr style=\"text-align: right;\">\n",
       "      <th></th>\n",
       "      <th>uid</th>\n",
       "      <th>revenue</th>\n",
       "      <th>payment_id</th>\n",
       "    </tr>\n",
       "  </thead>\n",
       "  <tbody>\n",
       "    <tr>\n",
       "      <th>count</th>\n",
       "      <td>2.730000e+02</td>\n",
       "      <td>273.000000</td>\n",
       "      <td>273.000000</td>\n",
       "    </tr>\n",
       "    <tr>\n",
       "      <th>mean</th>\n",
       "      <td>8.918375e+08</td>\n",
       "      <td>8589.380952</td>\n",
       "      <td>98.227106</td>\n",
       "    </tr>\n",
       "    <tr>\n",
       "      <th>std</th>\n",
       "      <td>3.777452e+05</td>\n",
       "      <td>11127.479971</td>\n",
       "      <td>57.762760</td>\n",
       "    </tr>\n",
       "    <tr>\n",
       "      <th>min</th>\n",
       "      <td>8.910712e+08</td>\n",
       "      <td>533.000000</td>\n",
       "      <td>0.000000</td>\n",
       "    </tr>\n",
       "    <tr>\n",
       "      <th>25%</th>\n",
       "      <td>8.915082e+08</td>\n",
       "      <td>2743.000000</td>\n",
       "      <td>19.000000</td>\n",
       "    </tr>\n",
       "    <tr>\n",
       "      <th>50%</th>\n",
       "      <td>8.919143e+08</td>\n",
       "      <td>6305.000000</td>\n",
       "      <td>146.000000</td>\n",
       "    </tr>\n",
       "    <tr>\n",
       "      <th>75%</th>\n",
       "      <td>8.921442e+08</td>\n",
       "      <td>12597.000000</td>\n",
       "      <td>147.000000</td>\n",
       "    </tr>\n",
       "    <tr>\n",
       "      <th>max</th>\n",
       "      <td>8.924386e+08</td>\n",
       "      <td>113477.000000</td>\n",
       "      <td>147.000000</td>\n",
       "    </tr>\n",
       "  </tbody>\n",
       "</table>\n",
       "</div>"
      ],
      "text/plain": [
       "                uid        revenue  payment_id\n",
       "count  2.730000e+02     273.000000  273.000000\n",
       "mean   8.918375e+08    8589.380952   98.227106\n",
       "std    3.777452e+05   11127.479971   57.762760\n",
       "min    8.910712e+08     533.000000    0.000000\n",
       "25%    8.915082e+08    2743.000000   19.000000\n",
       "50%    8.919143e+08    6305.000000  146.000000\n",
       "75%    8.921442e+08   12597.000000  147.000000\n",
       "max    8.924386e+08  113477.000000  147.000000"
      ]
     },
     "execution_count": 17,
     "metadata": {},
     "output_type": "execute_result"
    }
   ],
   "source": [
    "Test.describe()"
   ]
  },
  {
   "cell_type": "code",
   "execution_count": 18,
   "metadata": {},
   "outputs": [
    {
     "data": {
      "text/plain": [
       "7"
      ]
     },
     "execution_count": 18,
     "metadata": {},
     "output_type": "execute_result"
    }
   ],
   "source": [
    "Test.duplicated().sum()"
   ]
  },
  {
   "cell_type": "code",
   "execution_count": 19,
   "metadata": {},
   "outputs": [],
   "source": [
    "Test.drop_duplicates(inplace=True) "
   ]
  },
  {
   "cell_type": "code",
   "execution_count": 20,
   "metadata": {},
   "outputs": [
    {
     "name": "stdout",
     "output_type": "stream",
     "text": [
      "There are in Test: 266 transactions; Where 146  - unique  ID; Start date  2017-01-11 03:07:00, end date 2017-10-31 23:40:00\n"
     ]
    }
   ],
   "source": [
    "print(\"There are in Test:\"+\" \"+ str(Test.shape[0])+\" \"+\"transactions\" + \";\"\n",
    "      + \" Where\"+\" \"+ str(Test.uid.nunique())+\" \"+\" - unique  ID\"+\"; \"+ \"Start date\"+\"  \"+\n",
    "     str(Test['joined_at'].min())+ \", end date \"+ str(Test['joined_at'].max()))"
   ]
  },
  {
   "cell_type": "markdown",
   "metadata": {},
   "source": [
    "#### Let's merge the tables into one.\n",
    "First, let’s create a sign in each group in a new column"
   ]
  },
  {
   "cell_type": "code",
   "execution_count": 21,
   "metadata": {},
   "outputs": [],
   "source": [
    "A1['group']='A1'\n",
    "A2['group']='A2'\n",
    "Test['group']='Test'"
   ]
  },
  {
   "cell_type": "code",
   "execution_count": 22,
   "metadata": {},
   "outputs": [
    {
     "name": "stderr",
     "output_type": "stream",
     "text": [
      "C:\\Users\\ARunaeva\\AppData\\Local\\Temp\\ipykernel_26536\\4252977639.py:1: FutureWarning: The frame.append method is deprecated and will be removed from pandas in a future version. Use pandas.concat instead.\n",
      "  transactions = A1.append([A2, Test]) # let's add tables below each other into a single table with transaction information\n"
     ]
    }
   ],
   "source": [
    "transactions = A1.append([A2, Test]) # let's add tables below each other into a single table with transaction information"
   ]
  },
  {
   "cell_type": "code",
   "execution_count": 23,
   "metadata": {},
   "outputs": [],
   "source": [
    "#change the column data type from int to string for further grouping\n",
    "transactions['joined_at'] = pd.to_datetime(transactions['joined_at']).dt.date\n",
    "transactions['paid_at'] = pd.to_datetime(transactions['paid_at']).dt.date"
   ]
  },
  {
   "cell_type": "code",
   "execution_count": 24,
   "metadata": {},
   "outputs": [
    {
     "data": {
      "text/plain": [
       "uid             float64\n",
       "country          object\n",
       "joined_at        object\n",
       "paid_at          object\n",
       "revenue         float64\n",
       "payment_id      float64\n",
       "from_page        object\n",
       "product_type     object\n",
       "group            object\n",
       "dtype: object"
      ]
     },
     "execution_count": 24,
     "metadata": {},
     "output_type": "execute_result"
    }
   ],
   "source": [
    "transactions.dtypes"
   ]
  },
  {
   "cell_type": "code",
   "execution_count": 25,
   "metadata": {},
   "outputs": [
    {
     "data": {
      "text/plain": [
       "(946, 9)"
      ]
     },
     "execution_count": 25,
     "metadata": {},
     "output_type": "execute_result"
    }
   ],
   "source": [
    "transactions.shape "
   ]
  },
  {
   "cell_type": "code",
   "execution_count": 26,
   "metadata": {},
   "outputs": [
    {
     "data": {
      "text/plain": [
       "1"
      ]
     },
     "execution_count": 26,
     "metadata": {},
     "output_type": "execute_result"
    }
   ],
   "source": [
    "transactions.revenue.isnull().sum()"
   ]
  },
  {
   "cell_type": "code",
   "execution_count": 27,
   "metadata": {},
   "outputs": [
    {
     "name": "stdout",
     "output_type": "stream",
     "text": [
      "Total number of transactions in  A1:357; Total number of transactions in A2:323; Total number of transactions in Test :266\n"
     ]
    }
   ],
   "source": [
    "purchasesA1 = len(transactions[transactions['group']=='A1'])\n",
    "purchasesA2 = len(transactions[transactions['group']=='A2'])\n",
    "purchasesTest = len(transactions[transactions['group']=='Test'])\n",
    "print('Total number of transactions in  A1:{};'.format(purchasesA1),\n",
    "      'Total number of transactions in A2:{};'.format(purchasesA2),\n",
    "      'Total number of transactions in Test :{}'.format(purchasesTest)\n",
    "     )"
   ]
  },
  {
   "cell_type": "markdown",
   "metadata": {},
   "source": [
    "Let's look at the diagrams:\n",
    "  - frequency of registrations in groups\n",
    "  - frequency of payments"
   ]
  },
  {
   "cell_type": "code",
   "execution_count": 28,
   "metadata": {},
   "outputs": [],
   "source": [
    "regs_by_day = transactions.groupby(['group','joined_at'], as_index= False)\\\n",
    "                          .agg({\"uid\":\"count\"})\\\n",
    "                          .rename(columns = {\"uid\":\"regs\"})"
   ]
  },
  {
   "cell_type": "code",
   "execution_count": 29,
   "metadata": {},
   "outputs": [
    {
     "data": {
      "image/png": "[encoded data removed]",
      "text/plain": [
       "<Figure size 744.366x500 with 1 Axes>"
      ]
     },
     "metadata": {},
     "output_type": "display_data"
    }
   ],
   "source": [
    "#frequency of registrations in groups\n",
    "\n",
    "diagram_regs = sns.catplot(\n",
    "    data = regs_by_day, kind='bar', x='joined_at', y='regs', hue='group', palette='viridis', aspect=13.7/10.27)\n",
    "\n",
    "diagram_regs.despine(left=True)\n",
    "diagram_regs.set_ylabels('Registrations')\n",
    "diagram_regs.set_xlabels('Date')\n",
    "diagram_regs.legend.set_title('Groups')\n",
    "diagram_regs.fig.suptitle('Registrations by groups', x=0.5, y=1.01)\n",
    "plt.xticks(rotation=90);"
   ]
  },
  {
   "cell_type": "code",
   "execution_count": 30,
   "metadata": {},
   "outputs": [],
   "source": [
    "purchases_by_day = transactions.groupby(['group','paid_at'], as_index= False)\\\n",
    "                          .agg({\"uid\":\"count\"})\\\n",
    "                          .rename(columns = {\"uid\":\"purchases\"})"
   ]
  },
  {
   "cell_type": "code",
   "execution_count": 31,
   "metadata": {},
   "outputs": [],
   "source": [
    "#frequency of payments\n",
    "\n",
    "diagram_regs = sns.catplot(\n",
    "    data = purchases_by_day, kind='bar', x='paid_at', y='purchases', hue='group', palette='viridis', aspect=13.7/10.27)\n",
    "\n",
    "diagram_regs.despine(left=True)\n",
    "diagram_regs.set_ylabels('Purchases')\n",
    "diagram_regs.set_xlabels('Date')\n",
    "diagram_regs.legend.set_title('Groups')\n",
    "diagram_regs.fig.suptitle('Purchases amount in groups by days', x=0.5, y=1.01)\n",
    "plt.xticks(rotation=90);"
   ]
  },
  {
   "cell_type": "markdown",
   "metadata": {},
   "source": [
    "The time series looks very strange. The date format is probably confused and we only have information for 2 months (October and November), and not for a year."
   ]
  },
  {
   "cell_type": "markdown",
   "metadata": {},
   "source": [
    "##### Let's check the total number of registrations and payments by group"
   ]
  },
  {
   "cell_type": "code",
   "execution_count": 32,
   "metadata": {},
   "outputs": [],
   "source": [
    "regs_paids = transactions.groupby(['group'], as_index= False)\\\n",
    "                         .agg({\"joined_at\":\"count\",\"paid_at\":\"count\"})\\\n",
    "                         .rename(columns = {\"joined_at\":\"registrations\", \"paid_at\":\"paid\"})"
   ]
  },
  {
   "cell_type": "code",
   "execution_count": 33,
   "metadata": {},
   "outputs": [
    {
     "data": {
      "text/html": [
       "<div>\n",
       "<style scoped>\n",
       "    .dataframe tbody tr th:only-of-type {\n",
       "        vertical-align: middle;\n",
       "    }\n",
       "\n",
       "    .dataframe tbody tr th {\n",
       "        vertical-align: top;\n",
       "    }\n",
       "\n",
       "    .dataframe thead th {\n",
       "        text-align: right;\n",
       "    }\n",
       "</style>\n",
       "<table border=\"1\" class=\"dataframe\">\n",
       "  <thead>\n",
       "    <tr style=\"text-align: right;\">\n",
       "      <th></th>\n",
       "      <th>group</th>\n",
       "      <th>registrations</th>\n",
       "      <th>paid</th>\n",
       "    </tr>\n",
       "  </thead>\n",
       "  <tbody>\n",
       "    <tr>\n",
       "      <th>0</th>\n",
       "      <td>A1</td>\n",
       "      <td>356</td>\n",
       "      <td>356</td>\n",
       "    </tr>\n",
       "    <tr>\n",
       "      <th>1</th>\n",
       "      <td>A2</td>\n",
       "      <td>323</td>\n",
       "      <td>323</td>\n",
       "    </tr>\n",
       "    <tr>\n",
       "      <th>2</th>\n",
       "      <td>Test</td>\n",
       "      <td>266</td>\n",
       "      <td>266</td>\n",
       "    </tr>\n",
       "  </tbody>\n",
       "</table>\n",
       "</div>"
      ],
      "text/plain": [
       "  group  registrations  paid\n",
       "0    A1            356   356\n",
       "1    A2            323   323\n",
       "2  Test            266   266"
      ]
     },
     "execution_count": 33,
     "metadata": {},
     "output_type": "execute_result"
    }
   ],
   "source": [
    "regs_paids"
   ]
  },
  {
   "cell_type": "code",
   "execution_count": 34,
   "metadata": {},
   "outputs": [
    {
     "data": {
      "text/html": [
       "<div>\n",
       "<style scoped>\n",
       "    .dataframe tbody tr th:only-of-type {\n",
       "        vertical-align: middle;\n",
       "    }\n",
       "\n",
       "    .dataframe tbody tr th {\n",
       "        vertical-align: top;\n",
       "    }\n",
       "\n",
       "    .dataframe thead th {\n",
       "        text-align: right;\n",
       "    }\n",
       "</style>\n",
       "<table border=\"1\" class=\"dataframe\">\n",
       "  <thead>\n",
       "    <tr style=\"text-align: right;\">\n",
       "      <th></th>\n",
       "      <th>group</th>\n",
       "      <th>country</th>\n",
       "      <th>paid</th>\n",
       "    </tr>\n",
       "  </thead>\n",
       "  <tbody>\n",
       "    <tr>\n",
       "      <th>36</th>\n",
       "      <td>A2</td>\n",
       "      <td>United States of America</td>\n",
       "      <td>105</td>\n",
       "    </tr>\n",
       "    <tr>\n",
       "      <th>17</th>\n",
       "      <td>A1</td>\n",
       "      <td>United States of America</td>\n",
       "      <td>100</td>\n",
       "    </tr>\n",
       "    <tr>\n",
       "      <th>53</th>\n",
       "      <td>Test</td>\n",
       "      <td>United States of America</td>\n",
       "      <td>89</td>\n",
       "    </tr>\n",
       "    <tr>\n",
       "      <th>9</th>\n",
       "      <td>A1</td>\n",
       "      <td>Italy</td>\n",
       "      <td>54</td>\n",
       "    </tr>\n",
       "    <tr>\n",
       "      <th>5</th>\n",
       "      <td>A1</td>\n",
       "      <td>France</td>\n",
       "      <td>37</td>\n",
       "    </tr>\n",
       "    <tr>\n",
       "      <th>42</th>\n",
       "      <td>Test</td>\n",
       "      <td>France</td>\n",
       "      <td>34</td>\n",
       "    </tr>\n",
       "    <tr>\n",
       "      <th>27</th>\n",
       "      <td>A2</td>\n",
       "      <td>Italy</td>\n",
       "      <td>31</td>\n",
       "    </tr>\n",
       "    <tr>\n",
       "      <th>16</th>\n",
       "      <td>A1</td>\n",
       "      <td>United Kingdom (Great Britain)</td>\n",
       "      <td>30</td>\n",
       "    </tr>\n",
       "    <tr>\n",
       "      <th>0</th>\n",
       "      <td>A1</td>\n",
       "      <td>Argentina</td>\n",
       "      <td>27</td>\n",
       "    </tr>\n",
       "    <tr>\n",
       "      <th>48</th>\n",
       "      <td>Test</td>\n",
       "      <td>Spain</td>\n",
       "      <td>25</td>\n",
       "    </tr>\n",
       "  </tbody>\n",
       "</table>\n",
       "</div>"
      ],
      "text/plain": [
       "   group                         country  paid\n",
       "36    A2        United States of America   105\n",
       "17    A1        United States of America   100\n",
       "53  Test        United States of America    89\n",
       "9     A1                           Italy    54\n",
       "5     A1                          France    37\n",
       "42  Test                          France    34\n",
       "27    A2                           Italy    31\n",
       "16    A1  United Kingdom (Great Britain)    30\n",
       "0     A1                       Argentina    27\n",
       "48  Test                           Spain    25"
      ]
     },
     "execution_count": 34,
     "metadata": {},
     "output_type": "execute_result"
    }
   ],
   "source": [
    "paids_country = transactions.groupby(['group','country'], as_index= False)\\\n",
    "                            .agg({\"paid_at\":\"count\"})\\\n",
    "                            .rename(columns = {\"paid_at\":\"paid\"})\\\n",
    "                            .sort_values(by=['paid'], ascending = False)\\\n",
    "                            .head(10)\n",
    "paids_country"
   ]
  },
  {
   "cell_type": "code",
   "execution_count": 35,
   "metadata": {},
   "outputs": [
    {
     "data": {
      "text/html": [
       "<div>\n",
       "<style scoped>\n",
       "    .dataframe tbody tr th:only-of-type {\n",
       "        vertical-align: middle;\n",
       "    }\n",
       "\n",
       "    .dataframe tbody tr th {\n",
       "        vertical-align: top;\n",
       "    }\n",
       "\n",
       "    .dataframe thead th {\n",
       "        text-align: right;\n",
       "    }\n",
       "</style>\n",
       "<table border=\"1\" class=\"dataframe\">\n",
       "  <thead>\n",
       "    <tr style=\"text-align: right;\">\n",
       "      <th>product_type</th>\n",
       "      <th>coins</th>\n",
       "      <th>other_type</th>\n",
       "      <th>premium_no_trial</th>\n",
       "      <th>trial_premium</th>\n",
       "    </tr>\n",
       "    <tr>\n",
       "      <th>group</th>\n",
       "      <th></th>\n",
       "      <th></th>\n",
       "      <th></th>\n",
       "      <th></th>\n",
       "    </tr>\n",
       "  </thead>\n",
       "  <tbody>\n",
       "    <tr>\n",
       "      <th>A1</th>\n",
       "      <td>137</td>\n",
       "      <td>46</td>\n",
       "      <td>106</td>\n",
       "      <td>67</td>\n",
       "    </tr>\n",
       "    <tr>\n",
       "      <th>A2</th>\n",
       "      <td>120</td>\n",
       "      <td>43</td>\n",
       "      <td>107</td>\n",
       "      <td>53</td>\n",
       "    </tr>\n",
       "    <tr>\n",
       "      <th>Test</th>\n",
       "      <td>101</td>\n",
       "      <td>27</td>\n",
       "      <td>76</td>\n",
       "      <td>62</td>\n",
       "    </tr>\n",
       "  </tbody>\n",
       "</table>\n",
       "</div>"
      ],
      "text/plain": [
       "product_type  coins  other_type  premium_no_trial  trial_premium\n",
       "group                                                           \n",
       "A1              137          46               106             67\n",
       "A2              120          43               107             53\n",
       "Test            101          27                76             62"
      ]
     },
     "execution_count": 35,
     "metadata": {},
     "output_type": "execute_result"
    }
   ],
   "source": [
    "pd.crosstab(transactions.group, transactions.product_type) # distribution of purchases by product type in groups"
   ]
  },
  {
   "cell_type": "markdown",
   "metadata": {},
   "source": [
    "The number of transactions in groups is comparable. Among the leaders in the number of transactions by country is the USA in all 3 groups."
   ]
  },
  {
   "cell_type": "markdown",
   "metadata": {},
   "source": [
    "##### Revenue by products in groups"
   ]
  },
  {
   "cell_type": "code",
   "execution_count": 36,
   "metadata": {},
   "outputs": [],
   "source": [
    "sns.boxplot(\n",
    "    x=\"group\", y=\"revenue\",\n",
    "    hue=\"group\", data=transactions, palette='viridis')\n",
    "    \n",
    "plt.title('Revenue by groups');"
   ]
  },
  {
   "cell_type": "code",
   "execution_count": 37,
   "metadata": {},
   "outputs": [],
   "source": [
    "sns.boxplot(\n",
    "    x=\"product_type\", y=\"revenue\",\n",
    "    hue=\"group\", data=transactions, palette='viridis'\n",
    ")\n",
    "\n",
    "plt.title('Revenue by countries in groups', x=0.5, y=1.01)\n",
    "\n",
    "plt.xticks(rotation=90);"
   ]
  },
  {
   "cell_type": "markdown",
   "metadata": {},
   "source": [
    "##### Average Revenue by country"
   ]
  },
  {
   "cell_type": "code",
   "execution_count": 38,
   "metadata": {},
   "outputs": [],
   "source": [
    "av_revenue_country = transactions.groupby(['group','country'], as_index= False)\\\n",
    "                                 .agg({\"revenue\":\"mean\"})"
   ]
  },
  {
   "cell_type": "code",
   "execution_count": 39,
   "metadata": {},
   "outputs": [],
   "source": [
    "diagram_av_rev = sns.catplot(\n",
    "    data = av_revenue_country, kind='bar', x='country', y='revenue', hue='group', palette='viridis', aspect=13.7/10.27)\n",
    "\n",
    "diagram_av_rev.despine(left=True)\n",
    "diagram_av_rev.set_ylabels('Av.Revenue')\n",
    "diagram_av_rev.legend.set_title('Groups')\n",
    "diagram_av_rev.fig.suptitle('Average revenue in countries', x=0.5, y=1.01)\n",
    "\n",
    "plt.xticks(rotation=90);"
   ]
  },
  {
   "cell_type": "markdown",
   "metadata": {},
   "source": [
    "#### Let's check how similar the user groups are"
   ]
  },
  {
   "cell_type": "code",
   "execution_count": 40,
   "metadata": {},
   "outputs": [],
   "source": [
    "users_a1 = pd.read_csv('./Проект_3_users_control_1.csv', sep = \";\")"
   ]
  },
  {
   "cell_type": "code",
   "execution_count": 41,
   "metadata": {},
   "outputs": [],
   "source": [
    "users_a2 = pd.read_csv('./Проект_3_users_control_2.csv', sep = \";\")"
   ]
  },
  {
   "cell_type": "code",
   "execution_count": 42,
   "metadata": {},
   "outputs": [],
   "source": [
    "users_test = pd.read_csv('./Проект_3_users_test.csv', sep = \";\")"
   ]
  },
  {
   "cell_type": "code",
   "execution_count": 43,
   "metadata": {},
   "outputs": [
    {
     "data": {
      "text/plain": [
       "uid                   int64\n",
       "age                   int64\n",
       "attraction_coeff      int64\n",
       "coins               float64\n",
       "country              object\n",
       "visit_days           object\n",
       "gender                int64\n",
       "age_filter_start      int64\n",
       "age_filter_end        int64\n",
       "views_count           int64\n",
       "was_premium         float64\n",
       "is_premium          float64\n",
       "total_revenue         int64\n",
       "dtype: object"
      ]
     },
     "execution_count": 43,
     "metadata": {},
     "output_type": "execute_result"
    }
   ],
   "source": [
    "users_a1.dtypes"
   ]
  },
  {
   "cell_type": "code",
   "execution_count": 44,
   "metadata": {},
   "outputs": [
    {
     "data": {
      "text/plain": [
       "0"
      ]
     },
     "execution_count": 44,
     "metadata": {},
     "output_type": "execute_result"
    }
   ],
   "source": [
    "users_a1.duplicated().sum()"
   ]
  },
  {
   "cell_type": "code",
   "execution_count": 45,
   "metadata": {},
   "outputs": [
    {
     "data": {
      "text/plain": [
       "uid                   int64\n",
       "age                   int64\n",
       "attraction_coeff      int64\n",
       "coins               float64\n",
       "country              object\n",
       "visit_days           object\n",
       "gender                int64\n",
       "age_filter_start      int64\n",
       "age_filter_end        int64\n",
       "views_count           int64\n",
       "was_premium         float64\n",
       "is_premium          float64\n",
       "total_revenue         int64\n",
       "dtype: object"
      ]
     },
     "execution_count": 45,
     "metadata": {},
     "output_type": "execute_result"
    }
   ],
   "source": [
    "users_a2.dtypes"
   ]
  },
  {
   "cell_type": "code",
   "execution_count": 46,
   "metadata": {},
   "outputs": [
    {
     "data": {
      "text/plain": [
       "0"
      ]
     },
     "execution_count": 46,
     "metadata": {},
     "output_type": "execute_result"
    }
   ],
   "source": [
    "users_a2.duplicated().sum()"
   ]
  },
  {
   "cell_type": "code",
   "execution_count": 47,
   "metadata": {},
   "outputs": [
    {
     "data": {
      "text/plain": [
       "uid                   int64\n",
       "age                   int64\n",
       "attraction_coeff      int64\n",
       "coins               float64\n",
       "country              object\n",
       "visit_days           object\n",
       "gender                int64\n",
       "age_filter_start      int64\n",
       "age_filter_end        int64\n",
       "views_count           int64\n",
       "was_premium         float64\n",
       "is_premium          float64\n",
       "total_revenue         int64\n",
       "dtype: object"
      ]
     },
     "execution_count": 47,
     "metadata": {},
     "output_type": "execute_result"
    }
   ],
   "source": [
    "users_test.dtypes"
   ]
  },
  {
   "cell_type": "code",
   "execution_count": 48,
   "metadata": {},
   "outputs": [
    {
     "data": {
      "text/plain": [
       "0"
      ]
     },
     "execution_count": 48,
     "metadata": {},
     "output_type": "execute_result"
    }
   ],
   "source": [
    "users_test.duplicated().sum()"
   ]
  },
  {
   "cell_type": "markdown",
   "metadata": {},
   "source": [
    "The data types are identical; tables can be combined into a common table."
   ]
  },
  {
   "cell_type": "code",
   "execution_count": 49,
   "metadata": {},
   "outputs": [],
   "source": [
    "users_a1['group']= \"A1\"\n",
    "users_a2['group']= \"A2\"\n",
    "users_test['group']= \"Test\""
   ]
  },
  {
   "cell_type": "code",
   "execution_count": 50,
   "metadata": {},
   "outputs": [
    {
     "name": "stderr",
     "output_type": "stream",
     "text": [
      "C:\\Users\\ARunaeva\\AppData\\Local\\Temp\\ipykernel_26536\\1111200710.py:1: FutureWarning: The frame.append method is deprecated and will be removed from pandas in a future version. Use pandas.concat instead.\n",
      "  all_users = users_a1.append([users_a2, users_test]) #general user table\n"
     ]
    }
   ],
   "source": [
    "all_users = users_a1.append([users_a2, users_test]) #general user table"
   ]
  },
  {
   "cell_type": "code",
   "execution_count": 51,
   "metadata": {},
   "outputs": [
    {
     "data": {
      "text/plain": [
       "12912"
      ]
     },
     "execution_count": 51,
     "metadata": {},
     "output_type": "execute_result"
    }
   ],
   "source": [
    "all_users.uid.nunique() #total unique users"
   ]
  },
  {
   "cell_type": "code",
   "execution_count": 52,
   "metadata": {},
   "outputs": [],
   "source": [
    "#change the column data type from int to string for further grouping\n",
    "\n",
    "all_users['uid'] = all_users['uid'].astype('string')"
   ]
  },
  {
   "cell_type": "code",
   "execution_count": 53,
   "metadata": {},
   "outputs": [],
   "source": [
    "transactions['uid'] = transactions['uid'].astype('str')\n",
    "transactions['uid']=[x.split('.')[0] for x in transactions.uid] # remove 0 at the end of uid"
   ]
  },
  {
   "cell_type": "code",
   "execution_count": 54,
   "metadata": {},
   "outputs": [
    {
     "data": {
      "text/html": [
       "<div>\n",
       "<style scoped>\n",
       "    .dataframe tbody tr th:only-of-type {\n",
       "        vertical-align: middle;\n",
       "    }\n",
       "\n",
       "    .dataframe tbody tr th {\n",
       "        vertical-align: top;\n",
       "    }\n",
       "\n",
       "    .dataframe thead th {\n",
       "        text-align: right;\n",
       "    }\n",
       "</style>\n",
       "<table border=\"1\" class=\"dataframe\">\n",
       "  <thead>\n",
       "    <tr style=\"text-align: right;\">\n",
       "      <th>gender</th>\n",
       "      <th>0</th>\n",
       "      <th>1</th>\n",
       "    </tr>\n",
       "    <tr>\n",
       "      <th>group</th>\n",
       "      <th></th>\n",
       "      <th></th>\n",
       "    </tr>\n",
       "  </thead>\n",
       "  <tbody>\n",
       "    <tr>\n",
       "      <th>A1</th>\n",
       "      <td>182</td>\n",
       "      <td>4158</td>\n",
       "    </tr>\n",
       "    <tr>\n",
       "      <th>A2</th>\n",
       "      <td>195</td>\n",
       "      <td>4069</td>\n",
       "    </tr>\n",
       "    <tr>\n",
       "      <th>Test</th>\n",
       "      <td>202</td>\n",
       "      <td>4106</td>\n",
       "    </tr>\n",
       "  </tbody>\n",
       "</table>\n",
       "</div>"
      ],
      "text/plain": [
       "gender    0     1\n",
       "group            \n",
       "A1      182  4158\n",
       "A2      195  4069\n",
       "Test    202  4106"
      ]
     },
     "execution_count": 54,
     "metadata": {},
     "output_type": "execute_result"
    }
   ],
   "source": [
    "pd.crosstab(all_users.group, all_users.gender)\n",
    "#comparing the tables with each other by gender"
   ]
  },
  {
   "cell_type": "code",
   "execution_count": 55,
   "metadata": {},
   "outputs": [
    {
     "data": {
      "text/html": [
       "<div>\n",
       "<style scoped>\n",
       "    .dataframe tbody tr th:only-of-type {\n",
       "        vertical-align: middle;\n",
       "    }\n",
       "\n",
       "    .dataframe tbody tr th {\n",
       "        vertical-align: top;\n",
       "    }\n",
       "\n",
       "    .dataframe thead th {\n",
       "        text-align: right;\n",
       "    }\n",
       "</style>\n",
       "<table border=\"1\" class=\"dataframe\">\n",
       "  <thead>\n",
       "    <tr style=\"text-align: right;\">\n",
       "      <th></th>\n",
       "      <th>uid</th>\n",
       "    </tr>\n",
       "    <tr>\n",
       "      <th>group</th>\n",
       "      <th></th>\n",
       "    </tr>\n",
       "  </thead>\n",
       "  <tbody>\n",
       "    <tr>\n",
       "      <th>A1</th>\n",
       "      <td>4340</td>\n",
       "    </tr>\n",
       "    <tr>\n",
       "      <th>A2</th>\n",
       "      <td>4264</td>\n",
       "    </tr>\n",
       "    <tr>\n",
       "      <th>Test</th>\n",
       "      <td>4308</td>\n",
       "    </tr>\n",
       "  </tbody>\n",
       "</table>\n",
       "</div>"
      ],
      "text/plain": [
       "        uid\n",
       "group      \n",
       "A1     4340\n",
       "A2     4264\n",
       "Test   4308"
      ]
     },
     "execution_count": 55,
     "metadata": {},
     "output_type": "execute_result"
    }
   ],
   "source": [
    "all_users.groupby('group').agg({\"uid\":\"count\"}) # number of users by groups"
   ]
  },
  {
   "cell_type": "code",
   "execution_count": 56,
   "metadata": {},
   "outputs": [
    {
     "data": {
      "text/plain": [
       "group  gender\n",
       "A1     0         29.74\n",
       "       1         32.20\n",
       "A2     0         29.07\n",
       "       1         32.19\n",
       "Test   0         29.30\n",
       "       1         32.02\n",
       "Name: age, dtype: float64"
      ]
     },
     "execution_count": 56,
     "metadata": {},
     "output_type": "execute_result"
    }
   ],
   "source": [
    "all_users.groupby(['group','gender']).age.mean().round(2)\n",
    "#comparing the tables with each other according to the ratio of age categories"
   ]
  },
  {
   "cell_type": "code",
   "execution_count": 57,
   "metadata": {},
   "outputs": [],
   "source": [
    "fig,ax = plt.subplots()\n",
    "\n",
    "all_users.groupby(['group'])\\\n",
    "    .age.hist(alpha=0.7, ax=ax,legend = True); \n",
    "# build a histogram based on age values, not categories"
   ]
  },
  {
   "cell_type": "markdown",
   "metadata": {},
   "source": [
    "##### For convenience, we will divide the age into groups"
   ]
  },
  {
   "cell_type": "code",
   "execution_count": 58,
   "metadata": {},
   "outputs": [],
   "source": [
    "def age_fun(value):\n",
    "     if value <= 20:\n",
    "         return 1\n",
    "     elif value >= 21 and value <= 30:\n",
    "         return 2\n",
    "     elif value >= 31 and value <= 40:\n",
    "         return 3\n",
    "     elif value >= 41 and value <= 55: \n",
    "         return 4\n",
    "     else:\n",
    "         return 5"
   ]
  },
  {
   "cell_type": "code",
   "execution_count": 59,
   "metadata": {},
   "outputs": [],
   "source": [
    "all_users['age_Coef'] = all_users['age'].apply(age_fun) #create new column with age group"
   ]
  },
  {
   "cell_type": "code",
   "execution_count": 60,
   "metadata": {},
   "outputs": [
    {
     "data": {
      "text/html": [
       "<div>\n",
       "<style scoped>\n",
       "    .dataframe tbody tr th:only-of-type {\n",
       "        vertical-align: middle;\n",
       "    }\n",
       "\n",
       "    .dataframe tbody tr th {\n",
       "        vertical-align: top;\n",
       "    }\n",
       "\n",
       "    .dataframe thead th {\n",
       "        text-align: right;\n",
       "    }\n",
       "</style>\n",
       "<table border=\"1\" class=\"dataframe\">\n",
       "  <thead>\n",
       "    <tr style=\"text-align: right;\">\n",
       "      <th>age_Coef</th>\n",
       "      <th>1</th>\n",
       "      <th>2</th>\n",
       "      <th>3</th>\n",
       "      <th>4</th>\n",
       "      <th>5</th>\n",
       "    </tr>\n",
       "    <tr>\n",
       "      <th>group</th>\n",
       "      <th></th>\n",
       "      <th></th>\n",
       "      <th></th>\n",
       "      <th></th>\n",
       "      <th></th>\n",
       "    </tr>\n",
       "  </thead>\n",
       "  <tbody>\n",
       "    <tr>\n",
       "      <th>A1</th>\n",
       "      <td>387</td>\n",
       "      <td>1853</td>\n",
       "      <td>1225</td>\n",
       "      <td>797</td>\n",
       "      <td>78</td>\n",
       "    </tr>\n",
       "    <tr>\n",
       "      <th>A2</th>\n",
       "      <td>379</td>\n",
       "      <td>1835</td>\n",
       "      <td>1192</td>\n",
       "      <td>767</td>\n",
       "      <td>91</td>\n",
       "    </tr>\n",
       "    <tr>\n",
       "      <th>Test</th>\n",
       "      <td>401</td>\n",
       "      <td>1874</td>\n",
       "      <td>1195</td>\n",
       "      <td>749</td>\n",
       "      <td>89</td>\n",
       "    </tr>\n",
       "  </tbody>\n",
       "</table>\n",
       "</div>"
      ],
      "text/plain": [
       "age_Coef    1     2     3    4   5\n",
       "group                             \n",
       "A1        387  1853  1225  797  78\n",
       "A2        379  1835  1192  767  91\n",
       "Test      401  1874  1195  749  89"
      ]
     },
     "execution_count": 60,
     "metadata": {},
     "output_type": "execute_result"
    }
   ],
   "source": [
    "pd.crosstab(all_users.group, all_users.age_Coef)"
   ]
  },
  {
   "cell_type": "markdown",
   "metadata": {},
   "source": [
    "#### Let's combine users and transactions"
   ]
  },
  {
   "cell_type": "code",
   "execution_count": 61,
   "metadata": {},
   "outputs": [],
   "source": [
    "full = transactions.merge(all_users, on = ('uid','group'), how = \"outer\")"
   ]
  },
  {
   "cell_type": "code",
   "execution_count": 62,
   "metadata": {},
   "outputs": [
    {
     "data": {
      "text/plain": [
       "(13332, 22)"
      ]
     },
     "execution_count": 62,
     "metadata": {},
     "output_type": "execute_result"
    }
   ],
   "source": [
    "full.shape"
   ]
  },
  {
   "cell_type": "code",
   "execution_count": 63,
   "metadata": {},
   "outputs": [
    {
     "data": {
      "text/plain": [
       "uid                  object\n",
       "country_x            object\n",
       "joined_at            object\n",
       "paid_at              object\n",
       "revenue             float64\n",
       "payment_id          float64\n",
       "from_page            object\n",
       "product_type         object\n",
       "group                object\n",
       "age                 float64\n",
       "attraction_coeff    float64\n",
       "coins               float64\n",
       "country_y            object\n",
       "visit_days           object\n",
       "gender              float64\n",
       "age_filter_start    float64\n",
       "age_filter_end      float64\n",
       "views_count         float64\n",
       "was_premium         float64\n",
       "is_premium          float64\n",
       "total_revenue       float64\n",
       "age_Coef            float64\n",
       "dtype: object"
      ]
     },
     "execution_count": 63,
     "metadata": {},
     "output_type": "execute_result"
    }
   ],
   "source": [
    "full.dtypes"
   ]
  },
  {
   "cell_type": "code",
   "execution_count": 64,
   "metadata": {},
   "outputs": [],
   "source": [
    "#let's leave only some columns\n",
    "full = full[['uid','country_x','joined_at','paid_at','revenue','total_revenue','payment_id','product_type','group','was_premium','is_premium','visit_days','gender','age','age_Coef','attraction_coeff']]"
   ]
  },
  {
   "cell_type": "code",
   "execution_count": 65,
   "metadata": {},
   "outputs": [],
   "source": [
    "full = full.fillna(0)"
   ]
  },
  {
   "cell_type": "code",
   "execution_count": 66,
   "metadata": {},
   "outputs": [
    {
     "data": {
      "text/html": [
       "<div>\n",
       "<style scoped>\n",
       "    .dataframe tbody tr th:only-of-type {\n",
       "        vertical-align: middle;\n",
       "    }\n",
       "\n",
       "    .dataframe tbody tr th {\n",
       "        vertical-align: top;\n",
       "    }\n",
       "\n",
       "    .dataframe thead th {\n",
       "        text-align: right;\n",
       "    }\n",
       "</style>\n",
       "<table border=\"1\" class=\"dataframe\">\n",
       "  <thead>\n",
       "    <tr style=\"text-align: right;\">\n",
       "      <th></th>\n",
       "      <th>uid</th>\n",
       "      <th>country_x</th>\n",
       "      <th>joined_at</th>\n",
       "      <th>paid_at</th>\n",
       "      <th>revenue</th>\n",
       "      <th>total_revenue</th>\n",
       "      <th>payment_id</th>\n",
       "      <th>product_type</th>\n",
       "      <th>group</th>\n",
       "      <th>was_premium</th>\n",
       "      <th>is_premium</th>\n",
       "      <th>visit_days</th>\n",
       "      <th>gender</th>\n",
       "      <th>age</th>\n",
       "      <th>age_Coef</th>\n",
       "      <th>attraction_coeff</th>\n",
       "    </tr>\n",
       "  </thead>\n",
       "  <tbody>\n",
       "    <tr>\n",
       "      <th>5452</th>\n",
       "      <td>1053059022</td>\n",
       "      <td>0</td>\n",
       "      <td>0</td>\n",
       "      <td>0</td>\n",
       "      <td>0.0</td>\n",
       "      <td>0.0</td>\n",
       "      <td>0.0</td>\n",
       "      <td>0</td>\n",
       "      <td>A2</td>\n",
       "      <td>1.0</td>\n",
       "      <td>0.0</td>\n",
       "      <td>2,15,16,20,23,27,28,30,60,90,120,150,180</td>\n",
       "      <td>0.0</td>\n",
       "      <td>21.0</td>\n",
       "      <td>2.0</td>\n",
       "      <td>1.0</td>\n",
       "    </tr>\n",
       "    <tr>\n",
       "      <th>8930</th>\n",
       "      <td>891050916</td>\n",
       "      <td>0</td>\n",
       "      <td>0</td>\n",
       "      <td>0</td>\n",
       "      <td>0.0</td>\n",
       "      <td>0.0</td>\n",
       "      <td>0.0</td>\n",
       "      <td>0</td>\n",
       "      <td>A2</td>\n",
       "      <td>0.0</td>\n",
       "      <td>0.0</td>\n",
       "      <td>1,2,3,4</td>\n",
       "      <td>0.0</td>\n",
       "      <td>34.0</td>\n",
       "      <td>3.0</td>\n",
       "      <td>277.0</td>\n",
       "    </tr>\n",
       "    <tr>\n",
       "      <th>2123</th>\n",
       "      <td>891050997</td>\n",
       "      <td>0</td>\n",
       "      <td>0</td>\n",
       "      <td>0</td>\n",
       "      <td>0.0</td>\n",
       "      <td>0.0</td>\n",
       "      <td>0.0</td>\n",
       "      <td>0</td>\n",
       "      <td>A1</td>\n",
       "      <td>0.0</td>\n",
       "      <td>0.0</td>\n",
       "      <td>1,2,3,4</td>\n",
       "      <td>1.0</td>\n",
       "      <td>38.0</td>\n",
       "      <td>3.0</td>\n",
       "      <td>0.0</td>\n",
       "    </tr>\n",
       "  </tbody>\n",
       "</table>\n",
       "</div>"
      ],
      "text/plain": [
       "             uid country_x joined_at paid_at  revenue  total_revenue  \\\n",
       "5452  1053059022         0         0       0      0.0            0.0   \n",
       "8930   891050916         0         0       0      0.0            0.0   \n",
       "2123   891050997         0         0       0      0.0            0.0   \n",
       "\n",
       "      payment_id product_type group  was_premium  is_premium  \\\n",
       "5452         0.0            0    A2          1.0         0.0   \n",
       "8930         0.0            0    A2          0.0         0.0   \n",
       "2123         0.0            0    A1          0.0         0.0   \n",
       "\n",
       "                                    visit_days  gender   age  age_Coef  \\\n",
       "5452  2,15,16,20,23,27,28,30,60,90,120,150,180     0.0  21.0       2.0   \n",
       "8930                                   1,2,3,4     0.0  34.0       3.0   \n",
       "2123                                   1,2,3,4     1.0  38.0       3.0   \n",
       "\n",
       "      attraction_coeff  \n",
       "5452               1.0  \n",
       "8930             277.0  \n",
       "2123               0.0  "
      ]
     },
     "execution_count": 66,
     "metadata": {},
     "output_type": "execute_result"
    }
   ],
   "source": [
    "full.sort_values(by = 'uid').head(3)"
   ]
  },
  {
   "cell_type": "code",
   "execution_count": 67,
   "metadata": {},
   "outputs": [
    {
     "data": {
      "text/plain": [
       "uid                  object\n",
       "country_x            object\n",
       "joined_at            object\n",
       "paid_at              object\n",
       "revenue             float64\n",
       "total_revenue       float64\n",
       "payment_id          float64\n",
       "product_type         object\n",
       "group                object\n",
       "was_premium         float64\n",
       "is_premium          float64\n",
       "visit_days           object\n",
       "gender              float64\n",
       "age                 float64\n",
       "age_Coef            float64\n",
       "attraction_coeff    float64\n",
       "dtype: object"
      ]
     },
     "execution_count": 67,
     "metadata": {},
     "output_type": "execute_result"
    }
   ],
   "source": [
    "full.dtypes"
   ]
  },
  {
   "cell_type": "code",
   "execution_count": 68,
   "metadata": {},
   "outputs": [
    {
     "data": {
      "text/html": [
       "<div>\n",
       "<style scoped>\n",
       "    .dataframe tbody tr th:only-of-type {\n",
       "        vertical-align: middle;\n",
       "    }\n",
       "\n",
       "    .dataframe tbody tr th {\n",
       "        vertical-align: top;\n",
       "    }\n",
       "\n",
       "    .dataframe thead th {\n",
       "        text-align: right;\n",
       "    }\n",
       "</style>\n",
       "<table border=\"1\" class=\"dataframe\">\n",
       "  <thead>\n",
       "    <tr style=\"text-align: right;\">\n",
       "      <th></th>\n",
       "      <th></th>\n",
       "      <th></th>\n",
       "      <th>transactions</th>\n",
       "      <th>revenue</th>\n",
       "    </tr>\n",
       "    <tr>\n",
       "      <th>group</th>\n",
       "      <th>uid</th>\n",
       "      <th>country_x</th>\n",
       "      <th></th>\n",
       "      <th></th>\n",
       "    </tr>\n",
       "  </thead>\n",
       "  <tbody>\n",
       "    <tr>\n",
       "      <th>A2</th>\n",
       "      <th>891778551</th>\n",
       "      <th>United Arab Emirates</th>\n",
       "      <td>1</td>\n",
       "      <td>81796.0</td>\n",
       "    </tr>\n",
       "    <tr>\n",
       "      <th rowspan=\"3\" valign=\"top\">Test</th>\n",
       "      <th>892236423</th>\n",
       "      <th>United States of America</th>\n",
       "      <td>11</td>\n",
       "      <td>86996.0</td>\n",
       "    </tr>\n",
       "    <tr>\n",
       "      <th>892038759</th>\n",
       "      <th>United Arab Emirates</th>\n",
       "      <td>3</td>\n",
       "      <td>123565.0</td>\n",
       "    </tr>\n",
       "    <tr>\n",
       "      <th>891178380</th>\n",
       "      <th>Spain</th>\n",
       "      <td>3</td>\n",
       "      <td>129870.0</td>\n",
       "    </tr>\n",
       "    <tr>\n",
       "      <th>A1</th>\n",
       "      <th>892333905</th>\n",
       "      <th>Italy</th>\n",
       "      <td>19</td>\n",
       "      <td>403104.0</td>\n",
       "    </tr>\n",
       "  </tbody>\n",
       "</table>\n",
       "</div>"
      ],
      "text/plain": [
       "                                          transactions   revenue\n",
       "group uid       country_x                                       \n",
       "A2    891778551 United Arab Emirates                 1   81796.0\n",
       "Test  892236423 United States of America            11   86996.0\n",
       "      892038759 United Arab Emirates                 3  123565.0\n",
       "      891178380 Spain                                3  129870.0\n",
       "A1    892333905 Italy                               19  403104.0"
      ]
     },
     "execution_count": 68,
     "metadata": {},
     "output_type": "execute_result"
    }
   ],
   "source": [
    "max_revenue = full.groupby(['group','uid','country_x'])\\\n",
    "                  .agg({\"country_x\":\"count\", \"revenue\":\"sum\"})\\\n",
    "                  .sort_values(by = \"revenue\", ascending = True)\\\n",
    "                  .rename(columns = {\"country_x\":\"transactions\" })\\\n",
    "                  .tail(5)\n",
    "# find users with the maximum number of payments and purchases\n",
    "max_revenue "
   ]
  },
  {
   "cell_type": "code",
   "execution_count": 69,
   "metadata": {},
   "outputs": [
    {
     "data": {
      "text/html": [
       "<div>\n",
       "<style scoped>\n",
       "    .dataframe tbody tr th:only-of-type {\n",
       "        vertical-align: middle;\n",
       "    }\n",
       "\n",
       "    .dataframe tbody tr th {\n",
       "        vertical-align: top;\n",
       "    }\n",
       "\n",
       "    .dataframe thead th {\n",
       "        text-align: right;\n",
       "    }\n",
       "</style>\n",
       "<table border=\"1\" class=\"dataframe\">\n",
       "  <thead>\n",
       "    <tr style=\"text-align: right;\">\n",
       "      <th></th>\n",
       "      <th>uid</th>\n",
       "      <th>country_x</th>\n",
       "      <th>joined_at</th>\n",
       "      <th>paid_at</th>\n",
       "      <th>revenue</th>\n",
       "      <th>total_revenue</th>\n",
       "      <th>payment_id</th>\n",
       "      <th>product_type</th>\n",
       "      <th>group</th>\n",
       "      <th>was_premium</th>\n",
       "      <th>is_premium</th>\n",
       "      <th>visit_days</th>\n",
       "      <th>gender</th>\n",
       "      <th>age</th>\n",
       "      <th>age_Coef</th>\n",
       "      <th>attraction_coeff</th>\n",
       "    </tr>\n",
       "  </thead>\n",
       "  <tbody>\n",
       "    <tr>\n",
       "      <th>29</th>\n",
       "      <td>892333905</td>\n",
       "      <td>Italy</td>\n",
       "      <td>2017-10-16</td>\n",
       "      <td>2017-10-16</td>\n",
       "      <td>12610.0</td>\n",
       "      <td>486330.0</td>\n",
       "      <td>19.0</td>\n",
       "      <td>coins</td>\n",
       "      <td>A1</td>\n",
       "      <td>1.0</td>\n",
       "      <td>1.0</td>\n",
       "      <td>1,2,3,4,5,6,7,15</td>\n",
       "      <td>1.0</td>\n",
       "      <td>22.0</td>\n",
       "      <td>2.0</td>\n",
       "      <td>175.0</td>\n",
       "    </tr>\n",
       "    <tr>\n",
       "      <th>30</th>\n",
       "      <td>892333905</td>\n",
       "      <td>Italy</td>\n",
       "      <td>2017-10-16</td>\n",
       "      <td>2017-10-16</td>\n",
       "      <td>3783.0</td>\n",
       "      <td>486330.0</td>\n",
       "      <td>67.0</td>\n",
       "      <td>other_type</td>\n",
       "      <td>A1</td>\n",
       "      <td>1.0</td>\n",
       "      <td>1.0</td>\n",
       "      <td>1,2,3,4,5,6,7,15</td>\n",
       "      <td>1.0</td>\n",
       "      <td>22.0</td>\n",
       "      <td>2.0</td>\n",
       "      <td>175.0</td>\n",
       "    </tr>\n",
       "    <tr>\n",
       "      <th>31</th>\n",
       "      <td>892333905</td>\n",
       "      <td>Italy</td>\n",
       "      <td>2017-10-16</td>\n",
       "      <td>2017-10-16</td>\n",
       "      <td>3783.0</td>\n",
       "      <td>486330.0</td>\n",
       "      <td>67.0</td>\n",
       "      <td>other_type</td>\n",
       "      <td>A1</td>\n",
       "      <td>1.0</td>\n",
       "      <td>1.0</td>\n",
       "      <td>1,2,3,4,5,6,7,15</td>\n",
       "      <td>1.0</td>\n",
       "      <td>22.0</td>\n",
       "      <td>2.0</td>\n",
       "      <td>175.0</td>\n",
       "    </tr>\n",
       "    <tr>\n",
       "      <th>32</th>\n",
       "      <td>892333905</td>\n",
       "      <td>Italy</td>\n",
       "      <td>2017-10-16</td>\n",
       "      <td>2017-10-16</td>\n",
       "      <td>3783.0</td>\n",
       "      <td>486330.0</td>\n",
       "      <td>67.0</td>\n",
       "      <td>other_type</td>\n",
       "      <td>A1</td>\n",
       "      <td>1.0</td>\n",
       "      <td>1.0</td>\n",
       "      <td>1,2,3,4,5,6,7,15</td>\n",
       "      <td>1.0</td>\n",
       "      <td>22.0</td>\n",
       "      <td>2.0</td>\n",
       "      <td>175.0</td>\n",
       "    </tr>\n",
       "    <tr>\n",
       "      <th>33</th>\n",
       "      <td>892333905</td>\n",
       "      <td>Italy</td>\n",
       "      <td>2017-10-16</td>\n",
       "      <td>2017-10-16</td>\n",
       "      <td>3783.0</td>\n",
       "      <td>486330.0</td>\n",
       "      <td>67.0</td>\n",
       "      <td>other_type</td>\n",
       "      <td>A1</td>\n",
       "      <td>1.0</td>\n",
       "      <td>1.0</td>\n",
       "      <td>1,2,3,4,5,6,7,15</td>\n",
       "      <td>1.0</td>\n",
       "      <td>22.0</td>\n",
       "      <td>2.0</td>\n",
       "      <td>175.0</td>\n",
       "    </tr>\n",
       "    <tr>\n",
       "      <th>34</th>\n",
       "      <td>892333905</td>\n",
       "      <td>Italy</td>\n",
       "      <td>2017-10-16</td>\n",
       "      <td>2017-10-16</td>\n",
       "      <td>31525.0</td>\n",
       "      <td>486330.0</td>\n",
       "      <td>19.0</td>\n",
       "      <td>coins</td>\n",
       "      <td>A1</td>\n",
       "      <td>1.0</td>\n",
       "      <td>1.0</td>\n",
       "      <td>1,2,3,4,5,6,7,15</td>\n",
       "      <td>1.0</td>\n",
       "      <td>22.0</td>\n",
       "      <td>2.0</td>\n",
       "      <td>175.0</td>\n",
       "    </tr>\n",
       "    <tr>\n",
       "      <th>35</th>\n",
       "      <td>892333905</td>\n",
       "      <td>Italy</td>\n",
       "      <td>2017-10-16</td>\n",
       "      <td>2017-10-16</td>\n",
       "      <td>31525.0</td>\n",
       "      <td>486330.0</td>\n",
       "      <td>19.0</td>\n",
       "      <td>coins</td>\n",
       "      <td>A1</td>\n",
       "      <td>1.0</td>\n",
       "      <td>1.0</td>\n",
       "      <td>1,2,3,4,5,6,7,15</td>\n",
       "      <td>1.0</td>\n",
       "      <td>22.0</td>\n",
       "      <td>2.0</td>\n",
       "      <td>175.0</td>\n",
       "    </tr>\n",
       "    <tr>\n",
       "      <th>36</th>\n",
       "      <td>892333905</td>\n",
       "      <td>Italy</td>\n",
       "      <td>2017-10-16</td>\n",
       "      <td>2017-10-16</td>\n",
       "      <td>19773.0</td>\n",
       "      <td>486330.0</td>\n",
       "      <td>146.0</td>\n",
       "      <td>coins</td>\n",
       "      <td>A1</td>\n",
       "      <td>1.0</td>\n",
       "      <td>1.0</td>\n",
       "      <td>1,2,3,4,5,6,7,15</td>\n",
       "      <td>1.0</td>\n",
       "      <td>22.0</td>\n",
       "      <td>2.0</td>\n",
       "      <td>175.0</td>\n",
       "    </tr>\n",
       "    <tr>\n",
       "      <th>37</th>\n",
       "      <td>892333905</td>\n",
       "      <td>Italy</td>\n",
       "      <td>2017-10-16</td>\n",
       "      <td>2017-10-16</td>\n",
       "      <td>31525.0</td>\n",
       "      <td>486330.0</td>\n",
       "      <td>19.0</td>\n",
       "      <td>coins</td>\n",
       "      <td>A1</td>\n",
       "      <td>1.0</td>\n",
       "      <td>1.0</td>\n",
       "      <td>1,2,3,4,5,6,7,15</td>\n",
       "      <td>1.0</td>\n",
       "      <td>22.0</td>\n",
       "      <td>2.0</td>\n",
       "      <td>175.0</td>\n",
       "    </tr>\n",
       "    <tr>\n",
       "      <th>38</th>\n",
       "      <td>892333905</td>\n",
       "      <td>Italy</td>\n",
       "      <td>2017-10-16</td>\n",
       "      <td>2017-10-16</td>\n",
       "      <td>63037.0</td>\n",
       "      <td>486330.0</td>\n",
       "      <td>147.0</td>\n",
       "      <td>premium_no_trial</td>\n",
       "      <td>A1</td>\n",
       "      <td>1.0</td>\n",
       "      <td>1.0</td>\n",
       "      <td>1,2,3,4,5,6,7,15</td>\n",
       "      <td>1.0</td>\n",
       "      <td>22.0</td>\n",
       "      <td>2.0</td>\n",
       "      <td>175.0</td>\n",
       "    </tr>\n",
       "    <tr>\n",
       "      <th>39</th>\n",
       "      <td>892333905</td>\n",
       "      <td>Italy</td>\n",
       "      <td>2017-10-16</td>\n",
       "      <td>2017-10-16</td>\n",
       "      <td>1261.0</td>\n",
       "      <td>486330.0</td>\n",
       "      <td>19.0</td>\n",
       "      <td>coins</td>\n",
       "      <td>A1</td>\n",
       "      <td>1.0</td>\n",
       "      <td>1.0</td>\n",
       "      <td>1,2,3,4,5,6,7,15</td>\n",
       "      <td>1.0</td>\n",
       "      <td>22.0</td>\n",
       "      <td>2.0</td>\n",
       "      <td>175.0</td>\n",
       "    </tr>\n",
       "    <tr>\n",
       "      <th>40</th>\n",
       "      <td>892333905</td>\n",
       "      <td>Italy</td>\n",
       "      <td>2017-10-16</td>\n",
       "      <td>2017-10-17</td>\n",
       "      <td>31525.0</td>\n",
       "      <td>486330.0</td>\n",
       "      <td>19.0</td>\n",
       "      <td>coins</td>\n",
       "      <td>A1</td>\n",
       "      <td>1.0</td>\n",
       "      <td>1.0</td>\n",
       "      <td>1,2,3,4,5,6,7,15</td>\n",
       "      <td>1.0</td>\n",
       "      <td>22.0</td>\n",
       "      <td>2.0</td>\n",
       "      <td>175.0</td>\n",
       "    </tr>\n",
       "    <tr>\n",
       "      <th>41</th>\n",
       "      <td>892333905</td>\n",
       "      <td>Italy</td>\n",
       "      <td>2017-10-16</td>\n",
       "      <td>2017-10-17</td>\n",
       "      <td>31525.0</td>\n",
       "      <td>486330.0</td>\n",
       "      <td>19.0</td>\n",
       "      <td>coins</td>\n",
       "      <td>A1</td>\n",
       "      <td>1.0</td>\n",
       "      <td>1.0</td>\n",
       "      <td>1,2,3,4,5,6,7,15</td>\n",
       "      <td>1.0</td>\n",
       "      <td>22.0</td>\n",
       "      <td>2.0</td>\n",
       "      <td>175.0</td>\n",
       "    </tr>\n",
       "    <tr>\n",
       "      <th>42</th>\n",
       "      <td>892333905</td>\n",
       "      <td>Italy</td>\n",
       "      <td>2017-10-16</td>\n",
       "      <td>2017-10-16</td>\n",
       "      <td>3783.0</td>\n",
       "      <td>486330.0</td>\n",
       "      <td>67.0</td>\n",
       "      <td>other_type</td>\n",
       "      <td>A1</td>\n",
       "      <td>1.0</td>\n",
       "      <td>1.0</td>\n",
       "      <td>1,2,3,4,5,6,7,15</td>\n",
       "      <td>1.0</td>\n",
       "      <td>22.0</td>\n",
       "      <td>2.0</td>\n",
       "      <td>175.0</td>\n",
       "    </tr>\n",
       "    <tr>\n",
       "      <th>43</th>\n",
       "      <td>892333905</td>\n",
       "      <td>Italy</td>\n",
       "      <td>2017-10-16</td>\n",
       "      <td>2017-10-16</td>\n",
       "      <td>31525.0</td>\n",
       "      <td>486330.0</td>\n",
       "      <td>19.0</td>\n",
       "      <td>coins</td>\n",
       "      <td>A1</td>\n",
       "      <td>1.0</td>\n",
       "      <td>1.0</td>\n",
       "      <td>1,2,3,4,5,6,7,15</td>\n",
       "      <td>1.0</td>\n",
       "      <td>22.0</td>\n",
       "      <td>2.0</td>\n",
       "      <td>175.0</td>\n",
       "    </tr>\n",
       "    <tr>\n",
       "      <th>44</th>\n",
       "      <td>892333905</td>\n",
       "      <td>Italy</td>\n",
       "      <td>2017-10-16</td>\n",
       "      <td>2017-10-16</td>\n",
       "      <td>31525.0</td>\n",
       "      <td>486330.0</td>\n",
       "      <td>19.0</td>\n",
       "      <td>coins</td>\n",
       "      <td>A1</td>\n",
       "      <td>1.0</td>\n",
       "      <td>1.0</td>\n",
       "      <td>1,2,3,4,5,6,7,15</td>\n",
       "      <td>1.0</td>\n",
       "      <td>22.0</td>\n",
       "      <td>2.0</td>\n",
       "      <td>175.0</td>\n",
       "    </tr>\n",
       "    <tr>\n",
       "      <th>45</th>\n",
       "      <td>892333905</td>\n",
       "      <td>Italy</td>\n",
       "      <td>2017-10-16</td>\n",
       "      <td>2017-10-16</td>\n",
       "      <td>31525.0</td>\n",
       "      <td>486330.0</td>\n",
       "      <td>19.0</td>\n",
       "      <td>coins</td>\n",
       "      <td>A1</td>\n",
       "      <td>1.0</td>\n",
       "      <td>1.0</td>\n",
       "      <td>1,2,3,4,5,6,7,15</td>\n",
       "      <td>1.0</td>\n",
       "      <td>22.0</td>\n",
       "      <td>2.0</td>\n",
       "      <td>175.0</td>\n",
       "    </tr>\n",
       "    <tr>\n",
       "      <th>46</th>\n",
       "      <td>892333905</td>\n",
       "      <td>Italy</td>\n",
       "      <td>2017-10-16</td>\n",
       "      <td>2017-10-17</td>\n",
       "      <td>31525.0</td>\n",
       "      <td>486330.0</td>\n",
       "      <td>19.0</td>\n",
       "      <td>coins</td>\n",
       "      <td>A1</td>\n",
       "      <td>1.0</td>\n",
       "      <td>1.0</td>\n",
       "      <td>1,2,3,4,5,6,7,15</td>\n",
       "      <td>1.0</td>\n",
       "      <td>22.0</td>\n",
       "      <td>2.0</td>\n",
       "      <td>175.0</td>\n",
       "    </tr>\n",
       "    <tr>\n",
       "      <th>47</th>\n",
       "      <td>892333905</td>\n",
       "      <td>Italy</td>\n",
       "      <td>2017-10-16</td>\n",
       "      <td>2017-10-17</td>\n",
       "      <td>3783.0</td>\n",
       "      <td>486330.0</td>\n",
       "      <td>67.0</td>\n",
       "      <td>other_type</td>\n",
       "      <td>A1</td>\n",
       "      <td>1.0</td>\n",
       "      <td>1.0</td>\n",
       "      <td>1,2,3,4,5,6,7,15</td>\n",
       "      <td>1.0</td>\n",
       "      <td>22.0</td>\n",
       "      <td>2.0</td>\n",
       "      <td>175.0</td>\n",
       "    </tr>\n",
       "  </tbody>\n",
       "</table>\n",
       "</div>"
      ],
      "text/plain": [
       "          uid country_x   joined_at     paid_at  revenue  total_revenue  \\\n",
       "29  892333905     Italy  2017-10-16  2017-10-16  12610.0       486330.0   \n",
       "30  892333905     Italy  2017-10-16  2017-10-16   3783.0       486330.0   \n",
       "31  892333905     Italy  2017-10-16  2017-10-16   3783.0       486330.0   \n",
       "32  892333905     Italy  2017-10-16  2017-10-16   3783.0       486330.0   \n",
       "33  892333905     Italy  2017-10-16  2017-10-16   3783.0       486330.0   \n",
       "34  892333905     Italy  2017-10-16  2017-10-16  31525.0       486330.0   \n",
       "35  892333905     Italy  2017-10-16  2017-10-16  31525.0       486330.0   \n",
       "36  892333905     Italy  2017-10-16  2017-10-16  19773.0       486330.0   \n",
       "37  892333905     Italy  2017-10-16  2017-10-16  31525.0       486330.0   \n",
       "38  892333905     Italy  2017-10-16  2017-10-16  63037.0       486330.0   \n",
       "39  892333905     Italy  2017-10-16  2017-10-16   1261.0       486330.0   \n",
       "40  892333905     Italy  2017-10-16  2017-10-17  31525.0       486330.0   \n",
       "41  892333905     Italy  2017-10-16  2017-10-17  31525.0       486330.0   \n",
       "42  892333905     Italy  2017-10-16  2017-10-16   3783.0       486330.0   \n",
       "43  892333905     Italy  2017-10-16  2017-10-16  31525.0       486330.0   \n",
       "44  892333905     Italy  2017-10-16  2017-10-16  31525.0       486330.0   \n",
       "45  892333905     Italy  2017-10-16  2017-10-16  31525.0       486330.0   \n",
       "46  892333905     Italy  2017-10-16  2017-10-17  31525.0       486330.0   \n",
       "47  892333905     Italy  2017-10-16  2017-10-17   3783.0       486330.0   \n",
       "\n",
       "    payment_id      product_type group  was_premium  is_premium  \\\n",
       "29        19.0             coins    A1          1.0         1.0   \n",
       "30        67.0        other_type    A1          1.0         1.0   \n",
       "31        67.0        other_type    A1          1.0         1.0   \n",
       "32        67.0        other_type    A1          1.0         1.0   \n",
       "33        67.0        other_type    A1          1.0         1.0   \n",
       "34        19.0             coins    A1          1.0         1.0   \n",
       "35        19.0             coins    A1          1.0         1.0   \n",
       "36       146.0             coins    A1          1.0         1.0   \n",
       "37        19.0             coins    A1          1.0         1.0   \n",
       "38       147.0  premium_no_trial    A1          1.0         1.0   \n",
       "39        19.0             coins    A1          1.0         1.0   \n",
       "40        19.0             coins    A1          1.0         1.0   \n",
       "41        19.0             coins    A1          1.0         1.0   \n",
       "42        67.0        other_type    A1          1.0         1.0   \n",
       "43        19.0             coins    A1          1.0         1.0   \n",
       "44        19.0             coins    A1          1.0         1.0   \n",
       "45        19.0             coins    A1          1.0         1.0   \n",
       "46        19.0             coins    A1          1.0         1.0   \n",
       "47        67.0        other_type    A1          1.0         1.0   \n",
       "\n",
       "          visit_days  gender   age  age_Coef  attraction_coeff  \n",
       "29  1,2,3,4,5,6,7,15     1.0  22.0       2.0             175.0  \n",
       "30  1,2,3,4,5,6,7,15     1.0  22.0       2.0             175.0  \n",
       "31  1,2,3,4,5,6,7,15     1.0  22.0       2.0             175.0  \n",
       "32  1,2,3,4,5,6,7,15     1.0  22.0       2.0             175.0  \n",
       "33  1,2,3,4,5,6,7,15     1.0  22.0       2.0             175.0  \n",
       "34  1,2,3,4,5,6,7,15     1.0  22.0       2.0             175.0  \n",
       "35  1,2,3,4,5,6,7,15     1.0  22.0       2.0             175.0  \n",
       "36  1,2,3,4,5,6,7,15     1.0  22.0       2.0             175.0  \n",
       "37  1,2,3,4,5,6,7,15     1.0  22.0       2.0             175.0  \n",
       "38  1,2,3,4,5,6,7,15     1.0  22.0       2.0             175.0  \n",
       "39  1,2,3,4,5,6,7,15     1.0  22.0       2.0             175.0  \n",
       "40  1,2,3,4,5,6,7,15     1.0  22.0       2.0             175.0  \n",
       "41  1,2,3,4,5,6,7,15     1.0  22.0       2.0             175.0  \n",
       "42  1,2,3,4,5,6,7,15     1.0  22.0       2.0             175.0  \n",
       "43  1,2,3,4,5,6,7,15     1.0  22.0       2.0             175.0  \n",
       "44  1,2,3,4,5,6,7,15     1.0  22.0       2.0             175.0  \n",
       "45  1,2,3,4,5,6,7,15     1.0  22.0       2.0             175.0  \n",
       "46  1,2,3,4,5,6,7,15     1.0  22.0       2.0             175.0  \n",
       "47  1,2,3,4,5,6,7,15     1.0  22.0       2.0             175.0  "
      ]
     },
     "execution_count": 69,
     "metadata": {},
     "output_type": "execute_result"
    }
   ],
   "source": [
    "full.query(\"uid == '892333905'\")"
   ]
  },
  {
   "cell_type": "markdown",
   "metadata": {},
   "source": [
    "There is a suspicion that this 892333905 representative of the A1 group from Italy either made a mistake when purchasing the number of subscriptions or there was a failure in the system on 10/16/17, since he made 19 transactions for three products on two days in a row. We will delete the entries about him, considering them erroneous."
   ]
  },
  {
   "cell_type": "code",
   "execution_count": 70,
   "metadata": {},
   "outputs": [],
   "source": [
    "full = full.drop(full[full.uid == (\"892333905\")].index)"
   ]
  },
  {
   "cell_type": "markdown",
   "metadata": {},
   "source": [
    "##### How many users cancel their subscription?"
   ]
  },
  {
   "cell_type": "code",
   "execution_count": 71,
   "metadata": {},
   "outputs": [],
   "source": [
    "full['is_cancelled'] = np.where(full['is_premium']< full['was_premium'], True, False)\n",
    "# creating a new column where True-subscription was, but cancelled.\n",
    "# cases when it was not there at all or is present are not taken into account"
   ]
  },
  {
   "cell_type": "code",
   "execution_count": 72,
   "metadata": {},
   "outputs": [
    {
     "data": {
      "text/html": [
       "<div>\n",
       "<style scoped>\n",
       "    .dataframe tbody tr th:only-of-type {\n",
       "        vertical-align: middle;\n",
       "    }\n",
       "\n",
       "    .dataframe tbody tr th {\n",
       "        vertical-align: top;\n",
       "    }\n",
       "\n",
       "    .dataframe thead th {\n",
       "        text-align: right;\n",
       "    }\n",
       "</style>\n",
       "<table border=\"1\" class=\"dataframe\">\n",
       "  <thead>\n",
       "    <tr style=\"text-align: right;\">\n",
       "      <th></th>\n",
       "      <th>uid</th>\n",
       "      <th>country_x</th>\n",
       "      <th>joined_at</th>\n",
       "      <th>paid_at</th>\n",
       "      <th>revenue</th>\n",
       "      <th>total_revenue</th>\n",
       "      <th>payment_id</th>\n",
       "      <th>product_type</th>\n",
       "      <th>group</th>\n",
       "      <th>was_premium</th>\n",
       "      <th>is_premium</th>\n",
       "      <th>visit_days</th>\n",
       "      <th>gender</th>\n",
       "      <th>age</th>\n",
       "      <th>age_Coef</th>\n",
       "      <th>attraction_coeff</th>\n",
       "      <th>is_cancelled</th>\n",
       "    </tr>\n",
       "  </thead>\n",
       "  <tbody>\n",
       "    <tr>\n",
       "      <th>0</th>\n",
       "      <td>891319275</td>\n",
       "      <td>France</td>\n",
       "      <td>2017-05-11</td>\n",
       "      <td>2017-12-11</td>\n",
       "      <td>12727.0</td>\n",
       "      <td>13455.0</td>\n",
       "      <td>147.0</td>\n",
       "      <td>trial_premium</td>\n",
       "      <td>A1</td>\n",
       "      <td>1.0</td>\n",
       "      <td>1.0</td>\n",
       "      <td>1,2,3</td>\n",
       "      <td>1.0</td>\n",
       "      <td>27.0</td>\n",
       "      <td>2.0</td>\n",
       "      <td>0.0</td>\n",
       "      <td>False</td>\n",
       "    </tr>\n",
       "    <tr>\n",
       "      <th>1</th>\n",
       "      <td>891319275</td>\n",
       "      <td>France</td>\n",
       "      <td>2017-05-11</td>\n",
       "      <td>2017-05-11</td>\n",
       "      <td>728.0</td>\n",
       "      <td>13455.0</td>\n",
       "      <td>146.0</td>\n",
       "      <td>coins</td>\n",
       "      <td>A1</td>\n",
       "      <td>1.0</td>\n",
       "      <td>1.0</td>\n",
       "      <td>1,2,3</td>\n",
       "      <td>1.0</td>\n",
       "      <td>27.0</td>\n",
       "      <td>2.0</td>\n",
       "      <td>0.0</td>\n",
       "      <td>False</td>\n",
       "    </tr>\n",
       "    <tr>\n",
       "      <th>2</th>\n",
       "      <td>892421826</td>\n",
       "      <td>Israel</td>\n",
       "      <td>2017-10-14</td>\n",
       "      <td>2017-10-23</td>\n",
       "      <td>14586.0</td>\n",
       "      <td>14586.0</td>\n",
       "      <td>147.0</td>\n",
       "      <td>trial_premium</td>\n",
       "      <td>A1</td>\n",
       "      <td>1.0</td>\n",
       "      <td>1.0</td>\n",
       "      <td>1,2,4,6,7,10,11,12,13,14,15,17,18,19,20,21,22,...</td>\n",
       "      <td>1.0</td>\n",
       "      <td>31.0</td>\n",
       "      <td>3.0</td>\n",
       "      <td>43.0</td>\n",
       "      <td>False</td>\n",
       "    </tr>\n",
       "    <tr>\n",
       "      <th>3</th>\n",
       "      <td>891822480</td>\n",
       "      <td>Italy</td>\n",
       "      <td>2017-10-26</td>\n",
       "      <td>2017-12-11</td>\n",
       "      <td>1911.0</td>\n",
       "      <td>17810.0</td>\n",
       "      <td>19.0</td>\n",
       "      <td>coins</td>\n",
       "      <td>A1</td>\n",
       "      <td>1.0</td>\n",
       "      <td>1.0</td>\n",
       "      <td>1,2,3,4,5,6,7,8,9,10,11,12,13,14,15,16,17,18,19</td>\n",
       "      <td>1.0</td>\n",
       "      <td>28.0</td>\n",
       "      <td>2.0</td>\n",
       "      <td>337.0</td>\n",
       "      <td>False</td>\n",
       "    </tr>\n",
       "    <tr>\n",
       "      <th>4</th>\n",
       "      <td>891822480</td>\n",
       "      <td>Italy</td>\n",
       "      <td>2017-10-26</td>\n",
       "      <td>2017-01-11</td>\n",
       "      <td>1898.0</td>\n",
       "      <td>17810.0</td>\n",
       "      <td>19.0</td>\n",
       "      <td>coins</td>\n",
       "      <td>A1</td>\n",
       "      <td>1.0</td>\n",
       "      <td>1.0</td>\n",
       "      <td>1,2,3,4,5,6,7,8,9,10,11,12,13,14,15,16,17,18,19</td>\n",
       "      <td>1.0</td>\n",
       "      <td>28.0</td>\n",
       "      <td>2.0</td>\n",
       "      <td>337.0</td>\n",
       "      <td>False</td>\n",
       "    </tr>\n",
       "  </tbody>\n",
       "</table>\n",
       "</div>"
      ],
      "text/plain": [
       "         uid country_x   joined_at     paid_at  revenue  total_revenue  \\\n",
       "0  891319275    France  2017-05-11  2017-12-11  12727.0        13455.0   \n",
       "1  891319275    France  2017-05-11  2017-05-11    728.0        13455.0   \n",
       "2  892421826    Israel  2017-10-14  2017-10-23  14586.0        14586.0   \n",
       "3  891822480     Italy  2017-10-26  2017-12-11   1911.0        17810.0   \n",
       "4  891822480     Italy  2017-10-26  2017-01-11   1898.0        17810.0   \n",
       "\n",
       "   payment_id   product_type group  was_premium  is_premium  \\\n",
       "0       147.0  trial_premium    A1          1.0         1.0   \n",
       "1       146.0          coins    A1          1.0         1.0   \n",
       "2       147.0  trial_premium    A1          1.0         1.0   \n",
       "3        19.0          coins    A1          1.0         1.0   \n",
       "4        19.0          coins    A1          1.0         1.0   \n",
       "\n",
       "                                          visit_days  gender   age  age_Coef  \\\n",
       "0                                              1,2,3     1.0  27.0       2.0   \n",
       "1                                              1,2,3     1.0  27.0       2.0   \n",
       "2  1,2,4,6,7,10,11,12,13,14,15,17,18,19,20,21,22,...     1.0  31.0       3.0   \n",
       "3    1,2,3,4,5,6,7,8,9,10,11,12,13,14,15,16,17,18,19     1.0  28.0       2.0   \n",
       "4    1,2,3,4,5,6,7,8,9,10,11,12,13,14,15,16,17,18,19     1.0  28.0       2.0   \n",
       "\n",
       "   attraction_coeff  is_cancelled  \n",
       "0               0.0         False  \n",
       "1               0.0         False  \n",
       "2              43.0         False  \n",
       "3             337.0         False  \n",
       "4             337.0         False  "
      ]
     },
     "execution_count": 72,
     "metadata": {},
     "output_type": "execute_result"
    }
   ],
   "source": [
    "full.head()"
   ]
  },
  {
   "cell_type": "code",
   "execution_count": 73,
   "metadata": {},
   "outputs": [
    {
     "data": {
      "text/html": [
       "<div>\n",
       "<style scoped>\n",
       "    .dataframe tbody tr th:only-of-type {\n",
       "        vertical-align: middle;\n",
       "    }\n",
       "\n",
       "    .dataframe tbody tr th {\n",
       "        vertical-align: top;\n",
       "    }\n",
       "\n",
       "    .dataframe thead th {\n",
       "        text-align: right;\n",
       "    }\n",
       "</style>\n",
       "<table border=\"1\" class=\"dataframe\">\n",
       "  <thead>\n",
       "    <tr style=\"text-align: right;\">\n",
       "      <th></th>\n",
       "      <th></th>\n",
       "      <th>uid</th>\n",
       "    </tr>\n",
       "    <tr>\n",
       "      <th>group</th>\n",
       "      <th>product_type</th>\n",
       "      <th></th>\n",
       "    </tr>\n",
       "  </thead>\n",
       "  <tbody>\n",
       "    <tr>\n",
       "      <th rowspan=\"5\" valign=\"top\">A1</th>\n",
       "      <th>0</th>\n",
       "      <td>221</td>\n",
       "    </tr>\n",
       "    <tr>\n",
       "      <th>coins</th>\n",
       "      <td>16</td>\n",
       "    </tr>\n",
       "    <tr>\n",
       "      <th>other_type</th>\n",
       "      <td>12</td>\n",
       "    </tr>\n",
       "    <tr>\n",
       "      <th>premium_no_trial</th>\n",
       "      <td>13</td>\n",
       "    </tr>\n",
       "    <tr>\n",
       "      <th>trial_premium</th>\n",
       "      <td>1</td>\n",
       "    </tr>\n",
       "    <tr>\n",
       "      <th rowspan=\"5\" valign=\"top\">A2</th>\n",
       "      <th>0</th>\n",
       "      <td>194</td>\n",
       "    </tr>\n",
       "    <tr>\n",
       "      <th>coins</th>\n",
       "      <td>24</td>\n",
       "    </tr>\n",
       "    <tr>\n",
       "      <th>other_type</th>\n",
       "      <td>7</td>\n",
       "    </tr>\n",
       "    <tr>\n",
       "      <th>premium_no_trial</th>\n",
       "      <td>10</td>\n",
       "    </tr>\n",
       "    <tr>\n",
       "      <th>trial_premium</th>\n",
       "      <td>1</td>\n",
       "    </tr>\n",
       "    <tr>\n",
       "      <th rowspan=\"4\" valign=\"top\">Test</th>\n",
       "      <th>0</th>\n",
       "      <td>234</td>\n",
       "    </tr>\n",
       "    <tr>\n",
       "      <th>coins</th>\n",
       "      <td>13</td>\n",
       "    </tr>\n",
       "    <tr>\n",
       "      <th>other_type</th>\n",
       "      <td>4</td>\n",
       "    </tr>\n",
       "    <tr>\n",
       "      <th>premium_no_trial</th>\n",
       "      <td>7</td>\n",
       "    </tr>\n",
       "  </tbody>\n",
       "</table>\n",
       "</div>"
      ],
      "text/plain": [
       "                        uid\n",
       "group product_type         \n",
       "A1    0                 221\n",
       "      coins              16\n",
       "      other_type         12\n",
       "      premium_no_trial   13\n",
       "      trial_premium       1\n",
       "A2    0                 194\n",
       "      coins              24\n",
       "      other_type          7\n",
       "      premium_no_trial   10\n",
       "      trial_premium       1\n",
       "Test  0                 234\n",
       "      coins              13\n",
       "      other_type          4\n",
       "      premium_no_trial    7"
      ]
     },
     "execution_count": 73,
     "metadata": {},
     "output_type": "execute_result"
    }
   ],
   "source": [
    "cancelled_groups = full.query('is_cancelled == True').groupby([\"group\",\"product_type\"]).agg({\"uid\":\"count\"})\n",
    "cancelled_groups\n",
    "# unsubscribe by product in groups"
   ]
  },
  {
   "cell_type": "code",
   "execution_count": 74,
   "metadata": {},
   "outputs": [],
   "source": [
    "full['visit_days'] = full['visit_days'].apply(lambda day: len(str(day).split(',')) if day !=0 else 0)"
   ]
  },
  {
   "cell_type": "markdown",
   "metadata": {},
   "source": [
    "##### Average number of site visits by category and group"
   ]
  },
  {
   "cell_type": "code",
   "execution_count": 75,
   "metadata": {},
   "outputs": [
    {
     "data": {
      "text/plain": [
       "group  product_type    \n",
       "A1     0                    4.0\n",
       "       coins               14.0\n",
       "       other_type          13.0\n",
       "       premium_no_trial    11.0\n",
       "       trial_premium        8.0\n",
       "A2     0                    4.0\n",
       "       coins               12.0\n",
       "       other_type          13.0\n",
       "       premium_no_trial    11.0\n",
       "       trial_premium        8.0\n",
       "Test   0                    4.0\n",
       "       coins               15.0\n",
       "       other_type          13.0\n",
       "       premium_no_trial    13.0\n",
       "       trial_premium        7.0\n",
       "Name: visit_days, dtype: float64"
      ]
     },
     "execution_count": 75,
     "metadata": {},
     "output_type": "execute_result"
    }
   ],
   "source": [
    "av_visits = full.groupby(['group','product_type']).visit_days.mean().round()\n",
    "av_visits"
   ]
  },
  {
   "cell_type": "markdown",
   "metadata": {},
   "source": [
    "##### How many of the users who purchased a premium subscription have never logged into the application? What countries are they from?"
   ]
  },
  {
   "cell_type": "code",
   "execution_count": 76,
   "metadata": {},
   "outputs": [],
   "source": [
    "zero_visits_premium = full.query('product_type == \"premium_no_trial\" & visit_days == \"0\" ')\\\n",
    "                          .groupby(['group','country_x'])\\\n",
    "                          .agg({\"paid_at\":\"count\"})\\\n",
    "                          .rename(columns = {\"paid_at\":\"qty\"})"
   ]
  },
  {
   "cell_type": "code",
   "execution_count": 77,
   "metadata": {},
   "outputs": [
    {
     "data": {
      "text/html": [
       "<div>\n",
       "<style scoped>\n",
       "    .dataframe tbody tr th:only-of-type {\n",
       "        vertical-align: middle;\n",
       "    }\n",
       "\n",
       "    .dataframe tbody tr th {\n",
       "        vertical-align: top;\n",
       "    }\n",
       "\n",
       "    .dataframe thead th {\n",
       "        text-align: right;\n",
       "    }\n",
       "</style>\n",
       "<table border=\"1\" class=\"dataframe\">\n",
       "  <thead>\n",
       "    <tr style=\"text-align: right;\">\n",
       "      <th></th>\n",
       "      <th></th>\n",
       "      <th>qty</th>\n",
       "    </tr>\n",
       "    <tr>\n",
       "      <th>group</th>\n",
       "      <th>country_x</th>\n",
       "      <th></th>\n",
       "    </tr>\n",
       "  </thead>\n",
       "  <tbody>\n",
       "  </tbody>\n",
       "</table>\n",
       "</div>"
      ],
      "text/plain": [
       "Empty DataFrame\n",
       "Columns: [qty]\n",
       "Index: []"
      ]
     },
     "execution_count": 77,
     "metadata": {},
     "output_type": "execute_result"
    }
   ],
   "source": [
    "zero_visits_premium"
   ]
  },
  {
   "cell_type": "markdown",
   "metadata": {},
   "source": [
    "Conclusion:\n",
    "- Although there are quantitative differences in the groups, at this stage they do not seem significant.\n",
    "- In the test group, the number of users does not exceed the control groups, but the amounts for rhubarb are higher.\n",
    "- The distribution by gender, age, number of users is also quantitatively comparable.\n",
    "- Regarding the target audience, we note that the bulk of users are representatives of gender 1 at the age of 32 years.\n",
    "- In terms of the number of purchases, the USA is the leader in all three groups, and the USA is also the leader in the number of users who buy a subscription and forget about it.\n",
    "- On average, users spend no more than 15 days on the site, the maximum being those who own the site’s internal currency. Although then they may change the product? But we do not have data on the date of subscription cancellation, for example, to calculate this in more detail.\n",
    "- In Latvia and Mexico, purchases were only in the test group. And in India, Ukraine, Austria and Lithuania there were no test purchases.\n",
    "- The best-selling product type is coins, the site’s internal currency."
   ]
  },
  {
   "cell_type": "markdown",
   "metadata": {},
   "source": [
    "### Key metrics"
   ]
  },
  {
   "cell_type": "markdown",
   "metadata": {},
   "source": [
    "According to the conditions of the experiment, the price was changed to premium_no_trial and a payment system was added.\n",
    "  ***\n",
    "  -ARPU ((ARPU = all_users_revenue / unique_users_qty)) Will show whether users of the test group began to spend more - renew their subscription (if the price was reduced, for example) or maybe the indicator fell because the price increased.\n",
    "  ***\n",
    "  -ARPPU (ARPPU = paid_users_revenue / paying_users_qty) is the average income per paying user, it can be interpreted as the reaction of users to prices as well.\n",
    "  ***\n",
    "  -CR_reg (total_action/users * 100%) - conversion from site visit to registration.\n",
    "  ***\n",
    "  -CR_trial (registers/users_with_free_premium * 100%) - conversion from registration to free trial version. Shows potentially interested users in the premium version.\n",
    "  ***\n",
    "  -CR_premium (registers/users_with_premium_no_trial * 100%) - conversion from registration on the site to purchase of premium_no_trial. If a new payment option has appeared in the test group and new users like it, then this metric should increase significantly compared to the control groups.\n",
    "We do not have data that the user was first in the trial version, then purchased a paid version. The was_premium and is_premium statuses do not give an unambiguous answer to the payment terms in the past."
   ]
  },
  {
   "cell_type": "code",
   "execution_count": 78,
   "metadata": {},
   "outputs": [
    {
     "data": {
      "text/plain": [
       "uid                 0\n",
       "country_x           0\n",
       "joined_at           0\n",
       "paid_at             0\n",
       "revenue             0\n",
       "total_revenue       0\n",
       "payment_id          0\n",
       "product_type        0\n",
       "group               0\n",
       "was_premium         0\n",
       "is_premium          0\n",
       "visit_days          0\n",
       "gender              0\n",
       "age                 0\n",
       "age_Coef            0\n",
       "attraction_coeff    0\n",
       "is_cancelled        0\n",
       "dtype: int64"
      ]
     },
     "execution_count": 78,
     "metadata": {},
     "output_type": "execute_result"
    }
   ],
   "source": [
    "full.isna().sum() #the number of  empty lines"
   ]
  },
  {
   "cell_type": "markdown",
   "metadata": {},
   "source": [
    "There are 2 values for revenue in our data. Apparently, revenue is how much the user paid for 1 specific transaction, and total_revenue is the cumulative value of how much he spent in total."
   ]
  },
  {
   "cell_type": "markdown",
   "metadata": {},
   "source": [
    "#### APRU"
   ]
  },
  {
   "cell_type": "code",
   "execution_count": 79,
   "metadata": {},
   "outputs": [
    {
     "data": {
      "text/html": [
       "<div>\n",
       "<style scoped>\n",
       "    .dataframe tbody tr th:only-of-type {\n",
       "        vertical-align: middle;\n",
       "    }\n",
       "\n",
       "    .dataframe tbody tr th {\n",
       "        vertical-align: top;\n",
       "    }\n",
       "\n",
       "    .dataframe thead th {\n",
       "        text-align: right;\n",
       "    }\n",
       "</style>\n",
       "<table border=\"1\" class=\"dataframe\">\n",
       "  <thead>\n",
       "    <tr style=\"text-align: right;\">\n",
       "      <th></th>\n",
       "      <th>revenue</th>\n",
       "      <th>uid</th>\n",
       "      <th>ARPU</th>\n",
       "    </tr>\n",
       "    <tr>\n",
       "      <th>group</th>\n",
       "      <th></th>\n",
       "      <th></th>\n",
       "      <th></th>\n",
       "    </tr>\n",
       "  </thead>\n",
       "  <tbody>\n",
       "    <tr>\n",
       "      <th>A1</th>\n",
       "      <td>2091700.0</td>\n",
       "      <td>4340</td>\n",
       "      <td>481.96</td>\n",
       "    </tr>\n",
       "    <tr>\n",
       "      <th>A2</th>\n",
       "      <td>1907997.0</td>\n",
       "      <td>4264</td>\n",
       "      <td>447.47</td>\n",
       "    </tr>\n",
       "    <tr>\n",
       "      <th>Test</th>\n",
       "      <td>2332226.0</td>\n",
       "      <td>4308</td>\n",
       "      <td>541.37</td>\n",
       "    </tr>\n",
       "  </tbody>\n",
       "</table>\n",
       "</div>"
      ],
      "text/plain": [
       "         revenue   uid    ARPU\n",
       "group                         \n",
       "A1     2091700.0  4340  481.96\n",
       "A2     1907997.0  4264  447.47\n",
       "Test   2332226.0  4308  541.37"
      ]
     },
     "execution_count": 79,
     "metadata": {},
     "output_type": "execute_result"
    }
   ],
   "source": [
    "ARPU = full.groupby('group').agg({'revenue':'sum', 'uid':'nunique'})\n",
    "ARPU['ARPU'] = (ARPU.revenue/ ARPU.uid).round(2)\n",
    "ARPU"
   ]
  },
  {
   "cell_type": "markdown",
   "metadata": {},
   "source": [
    "#### ARPPU"
   ]
  },
  {
   "cell_type": "code",
   "execution_count": 80,
   "metadata": {},
   "outputs": [],
   "source": [
    "# calculating it in a different way than ARPU\n",
    "\n",
    "unique_buyers_a1 = full.query('group == \"A1\" & revenue > 0').uid.unique()\n",
    "unique_buyers_a2 = full.query('group == \"A2\" & revenue > 0').uid.unique()\n",
    "unique_buyers_Test = full.query('group == \"Test\" & revenue > 0').uid.unique()"
   ]
  },
  {
   "cell_type": "code",
   "execution_count": 81,
   "metadata": {},
   "outputs": [],
   "source": [
    "ARPPU_a1 = (full.query('group == \"A1\"').agg({\"revenue\":\"sum\"}))/len(unique_buyers_a1)"
   ]
  },
  {
   "cell_type": "code",
   "execution_count": 82,
   "metadata": {},
   "outputs": [],
   "source": [
    "ARPPU_a2 = (full.query('group == \"A2\"').agg({\"revenue\":\"sum\"}))/len(unique_buyers_a2)"
   ]
  },
  {
   "cell_type": "code",
   "execution_count": 83,
   "metadata": {},
   "outputs": [],
   "source": [
    "ARPPU_Test = (full.query('group == \"Test\"').agg({\"revenue\":\"sum\"}))/len(unique_buyers_Test)"
   ]
  },
  {
   "cell_type": "code",
   "execution_count": 84,
   "metadata": {},
   "outputs": [
    {
     "name": "stdout",
     "output_type": "stream",
     "text": [
      "ARPPU(A1):revenue    10894.270833\n",
      "dtype: float64\n",
      "ARPPU(A2):revenue    10203.192513\n",
      "dtype: float64\n",
      "ARPPU(Test):revenue    15974.150685\n",
      "dtype: float64\n"
     ]
    }
   ],
   "source": [
    "print(\"ARPPU(A1):\" + str(ARPPU_a1))\n",
    "print(\"ARPPU(A2):\" + str(ARPPU_a2))\n",
    "print(\"ARPPU(Test):\" + str(ARPPU_Test))"
   ]
  },
  {
   "cell_type": "markdown",
   "metadata": {},
   "source": [
    "#### Conversion options for groups"
   ]
  },
  {
   "cell_type": "markdown",
   "metadata": {},
   "source": [
    "Let's check if it is possible to not register and buy the product?"
   ]
  },
  {
   "cell_type": "code",
   "execution_count": 85,
   "metadata": {},
   "outputs": [
    {
     "data": {
      "text/html": [
       "<div>\n",
       "<style scoped>\n",
       "    .dataframe tbody tr th:only-of-type {\n",
       "        vertical-align: middle;\n",
       "    }\n",
       "\n",
       "    .dataframe tbody tr th {\n",
       "        vertical-align: top;\n",
       "    }\n",
       "\n",
       "    .dataframe thead th {\n",
       "        text-align: right;\n",
       "    }\n",
       "</style>\n",
       "<table border=\"1\" class=\"dataframe\">\n",
       "  <thead>\n",
       "    <tr style=\"text-align: right;\">\n",
       "      <th></th>\n",
       "      <th>uid</th>\n",
       "      <th>country_x</th>\n",
       "      <th>joined_at</th>\n",
       "      <th>paid_at</th>\n",
       "      <th>revenue</th>\n",
       "      <th>total_revenue</th>\n",
       "      <th>payment_id</th>\n",
       "      <th>product_type</th>\n",
       "      <th>group</th>\n",
       "      <th>was_premium</th>\n",
       "      <th>is_premium</th>\n",
       "      <th>visit_days</th>\n",
       "      <th>gender</th>\n",
       "      <th>age</th>\n",
       "      <th>age_Coef</th>\n",
       "      <th>attraction_coeff</th>\n",
       "      <th>is_cancelled</th>\n",
       "    </tr>\n",
       "  </thead>\n",
       "  <tbody>\n",
       "  </tbody>\n",
       "</table>\n",
       "</div>"
      ],
      "text/plain": [
       "Empty DataFrame\n",
       "Columns: [uid, country_x, joined_at, paid_at, revenue, total_revenue, payment_id, product_type, group, was_premium, is_premium, visit_days, gender, age, age_Coef, attraction_coeff, is_cancelled]\n",
       "Index: []"
      ]
     },
     "execution_count": 85,
     "metadata": {},
     "output_type": "execute_result"
    }
   ],
   "source": [
    "full.query('joined_at == 0 & product_type != 0')"
   ]
  },
  {
   "cell_type": "markdown",
   "metadata": {},
   "source": [
    "All registrants have the product"
   ]
  },
  {
   "cell_type": "markdown",
   "metadata": {},
   "source": [
    "Is it possible not to register and take the free version?"
   ]
  },
  {
   "cell_type": "code",
   "execution_count": 86,
   "metadata": {},
   "outputs": [
    {
     "data": {
      "text/html": [
       "<div>\n",
       "<style scoped>\n",
       "    .dataframe tbody tr th:only-of-type {\n",
       "        vertical-align: middle;\n",
       "    }\n",
       "\n",
       "    .dataframe tbody tr th {\n",
       "        vertical-align: top;\n",
       "    }\n",
       "\n",
       "    .dataframe thead th {\n",
       "        text-align: right;\n",
       "    }\n",
       "</style>\n",
       "<table border=\"1\" class=\"dataframe\">\n",
       "  <thead>\n",
       "    <tr style=\"text-align: right;\">\n",
       "      <th></th>\n",
       "      <th>uid</th>\n",
       "      <th>country_x</th>\n",
       "      <th>joined_at</th>\n",
       "      <th>paid_at</th>\n",
       "      <th>revenue</th>\n",
       "      <th>total_revenue</th>\n",
       "      <th>payment_id</th>\n",
       "      <th>product_type</th>\n",
       "      <th>group</th>\n",
       "      <th>was_premium</th>\n",
       "      <th>is_premium</th>\n",
       "      <th>visit_days</th>\n",
       "      <th>gender</th>\n",
       "      <th>age</th>\n",
       "      <th>age_Coef</th>\n",
       "      <th>attraction_coeff</th>\n",
       "      <th>is_cancelled</th>\n",
       "    </tr>\n",
       "  </thead>\n",
       "  <tbody>\n",
       "  </tbody>\n",
       "</table>\n",
       "</div>"
      ],
      "text/plain": [
       "Empty DataFrame\n",
       "Columns: [uid, country_x, joined_at, paid_at, revenue, total_revenue, payment_id, product_type, group, was_premium, is_premium, visit_days, gender, age, age_Coef, attraction_coeff, is_cancelled]\n",
       "Index: []"
      ]
     },
     "execution_count": 86,
     "metadata": {},
     "output_type": "execute_result"
    }
   ],
   "source": [
    "full.query('joined_at == 0 & product_type == \"trial_premium\"')"
   ]
  },
  {
   "cell_type": "markdown",
   "metadata": {},
   "source": [
    "Free version requires registration"
   ]
  },
  {
   "cell_type": "code",
   "execution_count": 87,
   "metadata": {},
   "outputs": [],
   "source": [
    "all_users_groups = full.groupby(['group'], as_index = False)\\\n",
    "                       .agg({\"uid\":\"count\"})\\\n",
    "                       .rename(columns ={\"uid\":\"users\"})\n",
    "# how many users are in each group in total"
   ]
  },
  {
   "cell_type": "code",
   "execution_count": 88,
   "metadata": {},
   "outputs": [],
   "source": [
    "reg_users = full.query('joined_at != 0')\\\n",
    "                 .groupby(['group'], as_index = False)\\\n",
    "                 .agg({\"uid\":\"count\"})\\\n",
    "                 .rename(columns ={\"uid\":\"registrations\"})\n",
    "# how many registered users are in each group"
   ]
  },
  {
   "cell_type": "code",
   "execution_count": 89,
   "metadata": {},
   "outputs": [],
   "source": [
    "cr_reg = all_users_groups.merge(reg_users, on=['group'], how = 'inner')\n",
    "\n",
    "cr_reg['cr_reg'] = (cr_reg['registrations']/cr_reg['users']).mul(100).round(2)"
   ]
  },
  {
   "cell_type": "code",
   "execution_count": 90,
   "metadata": {},
   "outputs": [
    {
     "data": {
      "text/html": [
       "<div>\n",
       "<style scoped>\n",
       "    .dataframe tbody tr th:only-of-type {\n",
       "        vertical-align: middle;\n",
       "    }\n",
       "\n",
       "    .dataframe tbody tr th {\n",
       "        vertical-align: top;\n",
       "    }\n",
       "\n",
       "    .dataframe thead th {\n",
       "        text-align: right;\n",
       "    }\n",
       "</style>\n",
       "<table border=\"1\" class=\"dataframe\">\n",
       "  <thead>\n",
       "    <tr style=\"text-align: right;\">\n",
       "      <th></th>\n",
       "      <th>group</th>\n",
       "      <th>users</th>\n",
       "      <th>registrations</th>\n",
       "      <th>cr_reg</th>\n",
       "    </tr>\n",
       "  </thead>\n",
       "  <tbody>\n",
       "    <tr>\n",
       "      <th>0</th>\n",
       "      <td>A1</td>\n",
       "      <td>4485</td>\n",
       "      <td>337</td>\n",
       "      <td>7.51</td>\n",
       "    </tr>\n",
       "    <tr>\n",
       "      <th>1</th>\n",
       "      <td>A2</td>\n",
       "      <td>4400</td>\n",
       "      <td>323</td>\n",
       "      <td>7.34</td>\n",
       "    </tr>\n",
       "    <tr>\n",
       "      <th>2</th>\n",
       "      <td>Test</td>\n",
       "      <td>4428</td>\n",
       "      <td>266</td>\n",
       "      <td>6.01</td>\n",
       "    </tr>\n",
       "  </tbody>\n",
       "</table>\n",
       "</div>"
      ],
      "text/plain": [
       "  group  users  registrations  cr_reg\n",
       "0    A1   4485            337    7.51\n",
       "1    A2   4400            323    7.34\n",
       "2  Test   4428            266    6.01"
      ]
     },
     "execution_count": 90,
     "metadata": {},
     "output_type": "execute_result"
    }
   ],
   "source": [
    "cr_reg #  get the portion of site users by group who have registered "
   ]
  },
  {
   "cell_type": "markdown",
   "metadata": {},
   "source": [
    "Now let's see how many people by group were interested in a premium subscription, but took the trial version."
   ]
  },
  {
   "cell_type": "code",
   "execution_count": 91,
   "metadata": {},
   "outputs": [],
   "source": [
    "trial_free_premium_user = full.query('product_type == \"trial_premium\"')\\\n",
    "                                 .groupby(['group'], as_index = False)\\\n",
    "                                 .agg({\"uid\":\"count\"})\\\n",
    "                                 .rename(columns ={\"uid\":\"trial_users\"})"
   ]
  },
  {
   "cell_type": "code",
   "execution_count": 92,
   "metadata": {},
   "outputs": [
    {
     "data": {
      "text/html": [
       "<div>\n",
       "<style scoped>\n",
       "    .dataframe tbody tr th:only-of-type {\n",
       "        vertical-align: middle;\n",
       "    }\n",
       "\n",
       "    .dataframe tbody tr th {\n",
       "        vertical-align: top;\n",
       "    }\n",
       "\n",
       "    .dataframe thead th {\n",
       "        text-align: right;\n",
       "    }\n",
       "</style>\n",
       "<table border=\"1\" class=\"dataframe\">\n",
       "  <thead>\n",
       "    <tr style=\"text-align: right;\">\n",
       "      <th></th>\n",
       "      <th>group</th>\n",
       "      <th>registrations</th>\n",
       "      <th>trial_users</th>\n",
       "      <th>cr_trial</th>\n",
       "    </tr>\n",
       "  </thead>\n",
       "  <tbody>\n",
       "    <tr>\n",
       "      <th>0</th>\n",
       "      <td>A1</td>\n",
       "      <td>337</td>\n",
       "      <td>67</td>\n",
       "      <td>19.88</td>\n",
       "    </tr>\n",
       "    <tr>\n",
       "      <th>1</th>\n",
       "      <td>A2</td>\n",
       "      <td>323</td>\n",
       "      <td>53</td>\n",
       "      <td>16.41</td>\n",
       "    </tr>\n",
       "    <tr>\n",
       "      <th>2</th>\n",
       "      <td>Test</td>\n",
       "      <td>266</td>\n",
       "      <td>62</td>\n",
       "      <td>23.31</td>\n",
       "    </tr>\n",
       "  </tbody>\n",
       "</table>\n",
       "</div>"
      ],
      "text/plain": [
       "  group  registrations  trial_users  cr_trial\n",
       "0    A1            337           67     19.88\n",
       "1    A2            323           53     16.41\n",
       "2  Test            266           62     23.31"
      ]
     },
     "execution_count": 92,
     "metadata": {},
     "output_type": "execute_result"
    }
   ],
   "source": [
    "cr_trial = reg_users.merge(trial_free_premium_user, on=['group'], how = 'inner')\n",
    "\n",
    "cr_trial['cr_trial'] = (cr_trial['trial_users']/cr_trial['registrations']).mul(100).round(2)\n",
    "cr_trial  # get the portion of registered users with a premium trial version "
   ]
  },
  {
   "cell_type": "markdown",
   "metadata": {},
   "source": [
    "And finally, let’s see how many people by group bought a premium subscription."
   ]
  },
  {
   "cell_type": "code",
   "execution_count": 93,
   "metadata": {},
   "outputs": [],
   "source": [
    "premium_users = full.query('product_type == \"premium_no_trial\"')\\\n",
    "                    .groupby(['group'], as_index = False)\\\n",
    "                    .agg({\"uid\":\"count\"})\\\n",
    "                    .rename(columns ={\"uid\":\"premium_users\"})"
   ]
  },
  {
   "cell_type": "code",
   "execution_count": 94,
   "metadata": {},
   "outputs": [
    {
     "data": {
      "text/html": [
       "<div>\n",
       "<style scoped>\n",
       "    .dataframe tbody tr th:only-of-type {\n",
       "        vertical-align: middle;\n",
       "    }\n",
       "\n",
       "    .dataframe tbody tr th {\n",
       "        vertical-align: top;\n",
       "    }\n",
       "\n",
       "    .dataframe thead th {\n",
       "        text-align: right;\n",
       "    }\n",
       "</style>\n",
       "<table border=\"1\" class=\"dataframe\">\n",
       "  <thead>\n",
       "    <tr style=\"text-align: right;\">\n",
       "      <th></th>\n",
       "      <th>group</th>\n",
       "      <th>registrations</th>\n",
       "      <th>premium_users</th>\n",
       "      <th>cr_premium</th>\n",
       "    </tr>\n",
       "  </thead>\n",
       "  <tbody>\n",
       "    <tr>\n",
       "      <th>0</th>\n",
       "      <td>A1</td>\n",
       "      <td>337</td>\n",
       "      <td>105</td>\n",
       "      <td>31.16</td>\n",
       "    </tr>\n",
       "    <tr>\n",
       "      <th>1</th>\n",
       "      <td>A2</td>\n",
       "      <td>323</td>\n",
       "      <td>107</td>\n",
       "      <td>33.13</td>\n",
       "    </tr>\n",
       "    <tr>\n",
       "      <th>2</th>\n",
       "      <td>Test</td>\n",
       "      <td>266</td>\n",
       "      <td>76</td>\n",
       "      <td>28.57</td>\n",
       "    </tr>\n",
       "  </tbody>\n",
       "</table>\n",
       "</div>"
      ],
      "text/plain": [
       "  group  registrations  premium_users  cr_premium\n",
       "0    A1            337            105       31.16\n",
       "1    A2            323            107       33.13\n",
       "2  Test            266             76       28.57"
      ]
     },
     "execution_count": 94,
     "metadata": {},
     "output_type": "execute_result"
    }
   ],
   "source": [
    "cr_premium = reg_users.merge(premium_users, on=['group'], how = 'inner')\n",
    "cr_premium['cr_premium'] = (cr_premium['premium_users']/cr_premium['registrations']).mul(100).round(2)\n",
    "cr_premium # get the portion of registered users with the premium version "
   ]
  },
  {
   "cell_type": "markdown",
   "metadata": {},
   "source": [
    "Conclusion: users in the test group pay more, but the demand for the paid version is lower in the test group than in the control group. However, interest in the free version is higher in the test group -> There is interest in the product, but not much motivation to pay for it.\n",
    "\n",
    "The prices have probably increased, but the new payment systems are not more attractive than the previously used ones."
   ]
  },
  {
   "cell_type": "markdown",
   "metadata": {},
   "source": [
    "#### Let's see how valid our conclusions are. First, let's check the splitting system.\n"
   ]
  },
  {
   "cell_type": "markdown",
   "metadata": {},
   "source": [
    "Knowing that there was a particularly active buyer in group A1, we will compare the control groups by total_revenue also on raw data, and then we will check the splitting system."
   ]
  },
  {
   "cell_type": "code",
   "execution_count": 95,
   "metadata": {},
   "outputs": [],
   "source": [
    "ttl_revenue = full.query(\"group == ('A1','A2')\")\\\n",
    "                   .groupby(['group','country_x'], as_index= False)\\\n",
    "                   .agg({'total_revenue':'sum'})\\\n",
    "                   .pivot(index=['country_x'], columns='group',values='total_revenue')"
   ]
  },
  {
   "cell_type": "code",
   "execution_count": 96,
   "metadata": {},
   "outputs": [
    {
     "data": {
      "text/html": [
       "<div>\n",
       "<style scoped>\n",
       "    .dataframe tbody tr th:only-of-type {\n",
       "        vertical-align: middle;\n",
       "    }\n",
       "\n",
       "    .dataframe tbody tr th {\n",
       "        vertical-align: top;\n",
       "    }\n",
       "\n",
       "    .dataframe thead th {\n",
       "        text-align: right;\n",
       "    }\n",
       "</style>\n",
       "<table border=\"1\" class=\"dataframe\">\n",
       "  <thead>\n",
       "    <tr style=\"text-align: right;\">\n",
       "      <th>group</th>\n",
       "      <th>A1</th>\n",
       "      <th>A2</th>\n",
       "    </tr>\n",
       "    <tr>\n",
       "      <th>country_x</th>\n",
       "      <th></th>\n",
       "      <th></th>\n",
       "    </tr>\n",
       "  </thead>\n",
       "  <tbody>\n",
       "    <tr>\n",
       "      <th>0</th>\n",
       "      <td>0.0</td>\n",
       "      <td>0.0</td>\n",
       "    </tr>\n",
       "    <tr>\n",
       "      <th>Argentina</th>\n",
       "      <td>422916.0</td>\n",
       "      <td>309517.0</td>\n",
       "    </tr>\n",
       "    <tr>\n",
       "      <th>Australia</th>\n",
       "      <td>18304.0</td>\n",
       "      <td>32084.0</td>\n",
       "    </tr>\n",
       "    <tr>\n",
       "      <th>Austria</th>\n",
       "      <td>NaN</td>\n",
       "      <td>36504.0</td>\n",
       "    </tr>\n",
       "    <tr>\n",
       "      <th>Belgium</th>\n",
       "      <td>45630.0</td>\n",
       "      <td>150683.0</td>\n",
       "    </tr>\n",
       "    <tr>\n",
       "      <th>Canada</th>\n",
       "      <td>217100.0</td>\n",
       "      <td>38428.0</td>\n",
       "    </tr>\n",
       "    <tr>\n",
       "      <th>Chile</th>\n",
       "      <td>160368.0</td>\n",
       "      <td>242021.0</td>\n",
       "    </tr>\n",
       "    <tr>\n",
       "      <th>France</th>\n",
       "      <td>416832.0</td>\n",
       "      <td>191451.0</td>\n",
       "    </tr>\n",
       "    <tr>\n",
       "      <th>Germany</th>\n",
       "      <td>39442.0</td>\n",
       "      <td>127647.0</td>\n",
       "    </tr>\n",
       "    <tr>\n",
       "      <th>India</th>\n",
       "      <td>9620.0</td>\n",
       "      <td>NaN</td>\n",
       "    </tr>\n",
       "    <tr>\n",
       "      <th>Israel</th>\n",
       "      <td>188409.0</td>\n",
       "      <td>247650.0</td>\n",
       "    </tr>\n",
       "    <tr>\n",
       "      <th>Italy</th>\n",
       "      <td>463047.0</td>\n",
       "      <td>252369.0</td>\n",
       "    </tr>\n",
       "    <tr>\n",
       "      <th>Lithuania</th>\n",
       "      <td>NaN</td>\n",
       "      <td>12766.0</td>\n",
       "    </tr>\n",
       "    <tr>\n",
       "      <th>Portugal</th>\n",
       "      <td>47151.0</td>\n",
       "      <td>88777.0</td>\n",
       "    </tr>\n",
       "    <tr>\n",
       "      <th>Russian Federation</th>\n",
       "      <td>78.0</td>\n",
       "      <td>NaN</td>\n",
       "    </tr>\n",
       "    <tr>\n",
       "      <th>Spain</th>\n",
       "      <td>154024.0</td>\n",
       "      <td>632983.0</td>\n",
       "    </tr>\n",
       "    <tr>\n",
       "      <th>Switzerland</th>\n",
       "      <td>26572.0</td>\n",
       "      <td>51389.0</td>\n",
       "    </tr>\n",
       "    <tr>\n",
       "      <th>Turkey</th>\n",
       "      <td>118755.0</td>\n",
       "      <td>46800.0</td>\n",
       "    </tr>\n",
       "    <tr>\n",
       "      <th>Ukraine</th>\n",
       "      <td>NaN</td>\n",
       "      <td>26637.0</td>\n",
       "    </tr>\n",
       "    <tr>\n",
       "      <th>United Arab Emirates</th>\n",
       "      <td>189254.0</td>\n",
       "      <td>126659.0</td>\n",
       "    </tr>\n",
       "    <tr>\n",
       "      <th>United Kingdom (Great Britain)</th>\n",
       "      <td>1368926.0</td>\n",
       "      <td>289731.0</td>\n",
       "    </tr>\n",
       "    <tr>\n",
       "      <th>United States of America</th>\n",
       "      <td>1449838.0</td>\n",
       "      <td>1313520.0</td>\n",
       "    </tr>\n",
       "  </tbody>\n",
       "</table>\n",
       "</div>"
      ],
      "text/plain": [
       "group                                  A1         A2\n",
       "country_x                                           \n",
       "0                                     0.0        0.0\n",
       "Argentina                        422916.0   309517.0\n",
       "Australia                         18304.0    32084.0\n",
       "Austria                               NaN    36504.0\n",
       "Belgium                           45630.0   150683.0\n",
       "Canada                           217100.0    38428.0\n",
       "Chile                            160368.0   242021.0\n",
       "France                           416832.0   191451.0\n",
       "Germany                           39442.0   127647.0\n",
       "India                              9620.0        NaN\n",
       "Israel                           188409.0   247650.0\n",
       "Italy                            463047.0   252369.0\n",
       "Lithuania                             NaN    12766.0\n",
       "Portugal                          47151.0    88777.0\n",
       "Russian Federation                   78.0        NaN\n",
       "Spain                            154024.0   632983.0\n",
       "Switzerland                       26572.0    51389.0\n",
       "Turkey                           118755.0    46800.0\n",
       "Ukraine                               NaN    26637.0\n",
       "United Arab Emirates             189254.0   126659.0\n",
       "United Kingdom (Great Britain)  1368926.0   289731.0\n",
       "United States of America        1449838.0  1313520.0"
      ]
     },
     "execution_count": 96,
     "metadata": {},
     "output_type": "execute_result"
    }
   ],
   "source": [
    "ttl_revenue"
   ]
  },
  {
   "cell_type": "markdown",
   "metadata": {},
   "source": [
    "In group A1, buyers without a location and, probably, registration were noticed"
   ]
  },
  {
   "cell_type": "code",
   "execution_count": 97,
   "metadata": {},
   "outputs": [
    {
     "data": {
      "text/html": [
       "<div>\n",
       "<style scoped>\n",
       "    .dataframe tbody tr th:only-of-type {\n",
       "        vertical-align: middle;\n",
       "    }\n",
       "\n",
       "    .dataframe tbody tr th {\n",
       "        vertical-align: top;\n",
       "    }\n",
       "\n",
       "    .dataframe thead th {\n",
       "        text-align: right;\n",
       "    }\n",
       "</style>\n",
       "<table border=\"1\" class=\"dataframe\">\n",
       "  <thead>\n",
       "    <tr style=\"text-align: right;\">\n",
       "      <th></th>\n",
       "      <th>total_revenue</th>\n",
       "    </tr>\n",
       "    <tr>\n",
       "      <th>uid</th>\n",
       "      <th></th>\n",
       "    </tr>\n",
       "  </thead>\n",
       "  <tbody>\n",
       "  </tbody>\n",
       "</table>\n",
       "</div>"
      ],
      "text/plain": [
       "Empty DataFrame\n",
       "Columns: [total_revenue]\n",
       "Index: []"
      ]
     },
     "execution_count": 97,
     "metadata": {},
     "output_type": "execute_result"
    }
   ],
   "source": [
    "cheatings = full.query('country_x == 0 & group == \"A1\"')\\\n",
    "                .groupby('uid').agg({'total_revenue':'sum'})\\\n",
    "                .sort_values(by = 'total_revenue', ascending = False)\\\n",
    "                .query('total_revenue > 0')\n",
    "cheatings"
   ]
  },
  {
   "cell_type": "code",
   "execution_count": 98,
   "metadata": {},
   "outputs": [
    {
     "data": {
      "text/html": [
       "<div>\n",
       "<style scoped>\n",
       "    .dataframe tbody tr th:only-of-type {\n",
       "        vertical-align: middle;\n",
       "    }\n",
       "\n",
       "    .dataframe tbody tr th {\n",
       "        vertical-align: top;\n",
       "    }\n",
       "\n",
       "    .dataframe thead th {\n",
       "        text-align: right;\n",
       "    }\n",
       "</style>\n",
       "<table border=\"1\" class=\"dataframe\">\n",
       "  <thead>\n",
       "    <tr style=\"text-align: right;\">\n",
       "      <th></th>\n",
       "      <th>uid</th>\n",
       "      <th>country_x</th>\n",
       "      <th>joined_at</th>\n",
       "      <th>paid_at</th>\n",
       "      <th>revenue</th>\n",
       "      <th>total_revenue</th>\n",
       "      <th>payment_id</th>\n",
       "      <th>product_type</th>\n",
       "      <th>group</th>\n",
       "      <th>was_premium</th>\n",
       "      <th>is_premium</th>\n",
       "      <th>visit_days</th>\n",
       "      <th>gender</th>\n",
       "      <th>age</th>\n",
       "      <th>age_Coef</th>\n",
       "      <th>attraction_coeff</th>\n",
       "      <th>is_cancelled</th>\n",
       "    </tr>\n",
       "  </thead>\n",
       "  <tbody>\n",
       "    <tr>\n",
       "      <th>141</th>\n",
       "      <td>960936960</td>\n",
       "      <td>Russian Federation</td>\n",
       "      <td>2015-01-19</td>\n",
       "      <td>2016-12-14</td>\n",
       "      <td>26.0</td>\n",
       "      <td>26.0</td>\n",
       "      <td>0.0</td>\n",
       "      <td>other_type</td>\n",
       "      <td>A1</td>\n",
       "      <td>1.0</td>\n",
       "      <td>1.0</td>\n",
       "      <td>27</td>\n",
       "      <td>1.0</td>\n",
       "      <td>30.0</td>\n",
       "      <td>2.0</td>\n",
       "      <td>4.0</td>\n",
       "      <td>False</td>\n",
       "    </tr>\n",
       "    <tr>\n",
       "      <th>142</th>\n",
       "      <td>960936960</td>\n",
       "      <td>Russian Federation</td>\n",
       "      <td>2015-01-19</td>\n",
       "      <td>2016-12-14</td>\n",
       "      <td>637.0</td>\n",
       "      <td>26.0</td>\n",
       "      <td>0.0</td>\n",
       "      <td>other_type</td>\n",
       "      <td>A1</td>\n",
       "      <td>1.0</td>\n",
       "      <td>1.0</td>\n",
       "      <td>27</td>\n",
       "      <td>1.0</td>\n",
       "      <td>30.0</td>\n",
       "      <td>2.0</td>\n",
       "      <td>4.0</td>\n",
       "      <td>False</td>\n",
       "    </tr>\n",
       "    <tr>\n",
       "      <th>143</th>\n",
       "      <td>960936960</td>\n",
       "      <td>Russian Federation</td>\n",
       "      <td>2015-01-19</td>\n",
       "      <td>2016-12-14</td>\n",
       "      <td>143.0</td>\n",
       "      <td>26.0</td>\n",
       "      <td>0.0</td>\n",
       "      <td>other_type</td>\n",
       "      <td>A1</td>\n",
       "      <td>1.0</td>\n",
       "      <td>1.0</td>\n",
       "      <td>27</td>\n",
       "      <td>1.0</td>\n",
       "      <td>30.0</td>\n",
       "      <td>2.0</td>\n",
       "      <td>4.0</td>\n",
       "      <td>False</td>\n",
       "    </tr>\n",
       "    <tr>\n",
       "      <th>225</th>\n",
       "      <td>891568008</td>\n",
       "      <td>Argentina</td>\n",
       "      <td>2017-10-31</td>\n",
       "      <td>2017-08-11</td>\n",
       "      <td>10569.0</td>\n",
       "      <td>10569.0</td>\n",
       "      <td>147.0</td>\n",
       "      <td>trial_premium</td>\n",
       "      <td>A1</td>\n",
       "      <td>1.0</td>\n",
       "      <td>1.0</td>\n",
       "      <td>7</td>\n",
       "      <td>1.0</td>\n",
       "      <td>42.0</td>\n",
       "      <td>4.0</td>\n",
       "      <td>304.0</td>\n",
       "      <td>False</td>\n",
       "    </tr>\n",
       "    <tr>\n",
       "      <th>238</th>\n",
       "      <td>891583611</td>\n",
       "      <td>Spain</td>\n",
       "      <td>2017-10-31</td>\n",
       "      <td>2017-07-11</td>\n",
       "      <td>16536.0</td>\n",
       "      <td>16536.0</td>\n",
       "      <td>147.0</td>\n",
       "      <td>trial_premium</td>\n",
       "      <td>A1</td>\n",
       "      <td>1.0</td>\n",
       "      <td>1.0</td>\n",
       "      <td>11</td>\n",
       "      <td>1.0</td>\n",
       "      <td>21.0</td>\n",
       "      <td>2.0</td>\n",
       "      <td>250.0</td>\n",
       "      <td>False</td>\n",
       "    </tr>\n",
       "    <tr>\n",
       "      <th>320</th>\n",
       "      <td>891580347</td>\n",
       "      <td>United States of America</td>\n",
       "      <td>2017-10-31</td>\n",
       "      <td>2017-07-11</td>\n",
       "      <td>13468.0</td>\n",
       "      <td>13468.0</td>\n",
       "      <td>147.0</td>\n",
       "      <td>trial_premium</td>\n",
       "      <td>A1</td>\n",
       "      <td>1.0</td>\n",
       "      <td>1.0</td>\n",
       "      <td>2</td>\n",
       "      <td>1.0</td>\n",
       "      <td>25.0</td>\n",
       "      <td>2.0</td>\n",
       "      <td>250.0</td>\n",
       "      <td>False</td>\n",
       "    </tr>\n",
       "    <tr>\n",
       "      <th>335</th>\n",
       "      <td>891607515</td>\n",
       "      <td>Spain</td>\n",
       "      <td>2017-10-31</td>\n",
       "      <td>2017-11-13</td>\n",
       "      <td>6292.0</td>\n",
       "      <td>12597.0</td>\n",
       "      <td>147.0</td>\n",
       "      <td>premium_no_trial</td>\n",
       "      <td>A1</td>\n",
       "      <td>1.0</td>\n",
       "      <td>1.0</td>\n",
       "      <td>15</td>\n",
       "      <td>1.0</td>\n",
       "      <td>58.0</td>\n",
       "      <td>5.0</td>\n",
       "      <td>510.0</td>\n",
       "      <td>False</td>\n",
       "    </tr>\n",
       "    <tr>\n",
       "      <th>336</th>\n",
       "      <td>891607515</td>\n",
       "      <td>Spain</td>\n",
       "      <td>2017-10-31</td>\n",
       "      <td>2017-11-13</td>\n",
       "      <td>6305.0</td>\n",
       "      <td>12597.0</td>\n",
       "      <td>19.0</td>\n",
       "      <td>coins</td>\n",
       "      <td>A1</td>\n",
       "      <td>1.0</td>\n",
       "      <td>1.0</td>\n",
       "      <td>15</td>\n",
       "      <td>1.0</td>\n",
       "      <td>58.0</td>\n",
       "      <td>5.0</td>\n",
       "      <td>510.0</td>\n",
       "      <td>False</td>\n",
       "    </tr>\n",
       "  </tbody>\n",
       "</table>\n",
       "</div>"
      ],
      "text/plain": [
       "           uid                 country_x   joined_at     paid_at  revenue  \\\n",
       "141  960936960        Russian Federation  2015-01-19  2016-12-14     26.0   \n",
       "142  960936960        Russian Federation  2015-01-19  2016-12-14    637.0   \n",
       "143  960936960        Russian Federation  2015-01-19  2016-12-14    143.0   \n",
       "225  891568008                 Argentina  2017-10-31  2017-08-11  10569.0   \n",
       "238  891583611                     Spain  2017-10-31  2017-07-11  16536.0   \n",
       "320  891580347  United States of America  2017-10-31  2017-07-11  13468.0   \n",
       "335  891607515                     Spain  2017-10-31  2017-11-13   6292.0   \n",
       "336  891607515                     Spain  2017-10-31  2017-11-13   6305.0   \n",
       "\n",
       "     total_revenue  payment_id      product_type group  was_premium  \\\n",
       "141           26.0         0.0        other_type    A1          1.0   \n",
       "142           26.0         0.0        other_type    A1          1.0   \n",
       "143           26.0         0.0        other_type    A1          1.0   \n",
       "225        10569.0       147.0     trial_premium    A1          1.0   \n",
       "238        16536.0       147.0     trial_premium    A1          1.0   \n",
       "320        13468.0       147.0     trial_premium    A1          1.0   \n",
       "335        12597.0       147.0  premium_no_trial    A1          1.0   \n",
       "336        12597.0        19.0             coins    A1          1.0   \n",
       "\n",
       "     is_premium  visit_days  gender   age  age_Coef  attraction_coeff  \\\n",
       "141         1.0          27     1.0  30.0       2.0               4.0   \n",
       "142         1.0          27     1.0  30.0       2.0               4.0   \n",
       "143         1.0          27     1.0  30.0       2.0               4.0   \n",
       "225         1.0           7     1.0  42.0       4.0             304.0   \n",
       "238         1.0          11     1.0  21.0       2.0             250.0   \n",
       "320         1.0           2     1.0  25.0       2.0             250.0   \n",
       "335         1.0          15     1.0  58.0       5.0             510.0   \n",
       "336         1.0          15     1.0  58.0       5.0             510.0   \n",
       "\n",
       "     is_cancelled  \n",
       "141         False  \n",
       "142         False  \n",
       "143         False  \n",
       "225         False  \n",
       "238         False  \n",
       "320         False  \n",
       "335         False  \n",
       "336         False  "
      ]
     },
     "execution_count": 98,
     "metadata": {},
     "output_type": "execute_result"
    }
   ],
   "source": [
    "full.query(\"uid ==('891583611','891580347','891607515','891568008','960936960')\")"
   ]
  },
  {
   "cell_type": "markdown",
   "metadata": {},
   "source": [
    "Strange situation: there is the age and type of product, uid, but there is no payment date, although there is payment. Perhaps these are the values of some payments in the past, since they are in the total indicator. But in any case, the absence of a country and the fact that payments were made without registration have a negative meaning for us.\n",
    "Plus, we remember a representative of group A1 with many similar purchases with uid 892333905. Let's update our full dataset without this data."
   ]
  },
  {
   "cell_type": "code",
   "execution_count": 99,
   "metadata": {},
   "outputs": [],
   "source": [
    "full = full.drop(full[full.uid == (\"960936960\",\"891583611\",\"891607515\",\"891580347\",\"891568008\")].index)"
   ]
  },
  {
   "cell_type": "markdown",
   "metadata": {},
   "source": [
    "#### А/А тест."
   ]
  },
  {
   "cell_type": "markdown",
   "metadata": {},
   "source": []
  },
  {
   "cell_type": "code",
   "execution_count": 100,
   "metadata": {},
   "outputs": [
    {
     "data": {
      "image/png": "[encoded data removed]",
      "text/plain": [
       "<Figure size 744.366x500 with 1 Axes>"
      ]
     },
     "metadata": {},
     "output_type": "display_data"
    },
    {
     "data": {
      "image/png": "[encoded data removed]",
      "text/plain": [
       "<Figure size 744.366x500 with 1 Axes>"
      ]
     },
     "metadata": {},
     "output_type": "display_data"
    },
    {
     "data": {
      "image/png": "[encoded data removed]",
      "text/plain": [
       "<Figure size 640x480 with 1 Axes>"
      ]
     },
     "metadata": {},
     "output_type": "display_data"
    }
   ],
   "source": [
    "simulations = 10000\n",
    "n = 100\n",
    "res = []\n",
    "\n",
    "# A/A test by по total_revenue\n",
    "for i in range(simulations):\n",
    "    x1 = full[full.group=='A1']['total_revenue'].sample(n, replace = False).values\n",
    "    x2 = full[full.group=='A2']['total_revenue'].sample(n, replace = False).values\n",
    "    \n",
    "    res.append(stats.ttest_ind(x1, x2, equal_var = False)[1])\n",
    "    \n",
    "# viz\n",
    "plt.hist(res, bins = 50)\n",
    "plt.style.use('ggplot')\n",
    "plt.xlabel('pvalues')\n",
    "plt.ylabel('frequency')\n",
    "plt.title(\"A/A test simulation Histogram\")\n",
    "plt.show()\n"
   ]
  },
  {
   "cell_type": "code",
   "execution_count": 101,
   "metadata": {},
   "outputs": [
    {
     "data": {
      "text/plain": [
       "0.0369"
      ]
     },
     "execution_count": 101,
     "metadata": {},
     "output_type": "execute_result"
    }
   ],
   "source": [
    "# FPR показывает превышает ли количество ложноположительных случаев альфа\n",
    "sum(np.array(res) < 0.05)/ simulations"
   ]
  },
  {
   "cell_type": "markdown",
   "metadata": {},
   "source": [
    "In the case of total_revenue, the splitting system is fair. FPR less than 5%.\n",
    "The distribution of pValue after the syntheses is more similar to uniform."
   ]
  },
  {
   "cell_type": "markdown",
   "metadata": {},
   "source": [
    "Let's make sure that our groups are also representative of whether they have a premium subscription"
   ]
  },
  {
   "cell_type": "code",
   "execution_count": 102,
   "metadata": {},
   "outputs": [
    {
     "data": {
      "image/png": "[encoded data removed]",
      "text/plain": [
       "<Figure size 640x480 with 1 Axes>"
      ]
     },
     "metadata": {},
     "output_type": "display_data"
    }
   ],
   "source": [
    "simulations = 10000\n",
    "n = 100\n",
    "res = []\n",
    "\n",
    "# A/A test by subscription type\n",
    "for i in range(simulations):\n",
    "    y1 = full[full.group=='A1']['is_premium'].sample(n, replace = False).values\n",
    "    y2 = full[full.group=='A2']['is_premium'].sample(n, replace = False).values\n",
    "    \n",
    "    res.append(stats.ttest_ind(y1, y2, equal_var = False)[1])\n",
    "    \n",
    "# viz\n",
    "plt.hist(res, bins = 50)\n",
    "plt.style.use('ggplot')\n",
    "plt.xlabel('pvalues')\n",
    "plt.ylabel('frequency')\n",
    "plt.title(\"A/A test simulation Histogram\")\n",
    "plt.show()"
   ]
  },
  {
   "cell_type": "code",
   "execution_count": 103,
   "metadata": {},
   "outputs": [
    {
     "data": {
      "text/plain": [
       "0.0452"
      ]
     },
     "execution_count": 103,
     "metadata": {},
     "output_type": "execute_result"
    }
   ],
   "source": [
    "# FPR by sunscription type\n",
    "sum(np.array(res) < 0.05)/ simulations"
   ]
  },
  {
   "cell_type": "markdown",
   "metadata": {},
   "source": [
    "FPR is also less than 5%; the groups can be considered representative based on the presence of a premium subscription."
   ]
  },
  {
   "cell_type": "markdown",
   "metadata": {},
   "source": [
    "#### A/B test"
   ]
  },
  {
   "cell_type": "code",
   "execution_count": 104,
   "metadata": {},
   "outputs": [
    {
     "data": {
      "text/html": [
       "<div>\n",
       "<style scoped>\n",
       "    .dataframe tbody tr th:only-of-type {\n",
       "        vertical-align: middle;\n",
       "    }\n",
       "\n",
       "    .dataframe tbody tr th {\n",
       "        vertical-align: top;\n",
       "    }\n",
       "\n",
       "    .dataframe thead th {\n",
       "        text-align: right;\n",
       "    }\n",
       "</style>\n",
       "<table border=\"1\" class=\"dataframe\">\n",
       "  <thead>\n",
       "    <tr style=\"text-align: right;\">\n",
       "      <th></th>\n",
       "      <th>count</th>\n",
       "      <th>mean</th>\n",
       "      <th>std</th>\n",
       "      <th>min</th>\n",
       "      <th>25%</th>\n",
       "      <th>50%</th>\n",
       "      <th>75%</th>\n",
       "      <th>max</th>\n",
       "    </tr>\n",
       "    <tr>\n",
       "      <th>group</th>\n",
       "      <th></th>\n",
       "      <th></th>\n",
       "      <th></th>\n",
       "      <th></th>\n",
       "      <th></th>\n",
       "      <th></th>\n",
       "      <th></th>\n",
       "      <th></th>\n",
       "    </tr>\n",
       "  </thead>\n",
       "  <tbody>\n",
       "    <tr>\n",
       "      <th>A1</th>\n",
       "      <td>4485.0</td>\n",
       "      <td>466.376812</td>\n",
       "      <td>2389.052174</td>\n",
       "      <td>0.0</td>\n",
       "      <td>0.0</td>\n",
       "      <td>0.0</td>\n",
       "      <td>0.0</td>\n",
       "      <td>63037.0</td>\n",
       "    </tr>\n",
       "    <tr>\n",
       "      <th>A2</th>\n",
       "      <td>4400.0</td>\n",
       "      <td>433.635682</td>\n",
       "      <td>2361.618727</td>\n",
       "      <td>0.0</td>\n",
       "      <td>0.0</td>\n",
       "      <td>0.0</td>\n",
       "      <td>0.0</td>\n",
       "      <td>81796.0</td>\n",
       "    </tr>\n",
       "    <tr>\n",
       "      <th>Test</th>\n",
       "      <td>4428.0</td>\n",
       "      <td>526.699639</td>\n",
       "      <td>3445.600810</td>\n",
       "      <td>0.0</td>\n",
       "      <td>0.0</td>\n",
       "      <td>0.0</td>\n",
       "      <td>0.0</td>\n",
       "      <td>113477.0</td>\n",
       "    </tr>\n",
       "  </tbody>\n",
       "</table>\n",
       "</div>"
      ],
      "text/plain": [
       "        count        mean          std  min  25%  50%  75%       max\n",
       "group                                                               \n",
       "A1     4485.0  466.376812  2389.052174  0.0  0.0  0.0  0.0   63037.0\n",
       "A2     4400.0  433.635682  2361.618727  0.0  0.0  0.0  0.0   81796.0\n",
       "Test   4428.0  526.699639  3445.600810  0.0  0.0  0.0  0.0  113477.0"
      ]
     },
     "execution_count": 104,
     "metadata": {},
     "output_type": "execute_result"
    }
   ],
   "source": [
    "full.groupby('group').revenue.describe()"
   ]
  },
  {
   "cell_type": "code",
   "execution_count": 105,
   "metadata": {},
   "outputs": [
    {
     "data": {
      "text/html": [
       "<div>\n",
       "<style scoped>\n",
       "    .dataframe tbody tr th:only-of-type {\n",
       "        vertical-align: middle;\n",
       "    }\n",
       "\n",
       "    .dataframe tbody tr th {\n",
       "        vertical-align: top;\n",
       "    }\n",
       "\n",
       "    .dataframe thead th {\n",
       "        text-align: right;\n",
       "    }\n",
       "</style>\n",
       "<table border=\"1\" class=\"dataframe\">\n",
       "  <thead>\n",
       "    <tr style=\"text-align: right;\">\n",
       "      <th></th>\n",
       "      <th>count</th>\n",
       "      <th>mean</th>\n",
       "      <th>std</th>\n",
       "      <th>min</th>\n",
       "      <th>25%</th>\n",
       "      <th>50%</th>\n",
       "      <th>75%</th>\n",
       "      <th>max</th>\n",
       "    </tr>\n",
       "    <tr>\n",
       "      <th>group</th>\n",
       "      <th></th>\n",
       "      <th></th>\n",
       "      <th></th>\n",
       "      <th></th>\n",
       "      <th></th>\n",
       "      <th></th>\n",
       "      <th></th>\n",
       "      <th></th>\n",
       "    </tr>\n",
       "  </thead>\n",
       "  <tbody>\n",
       "    <tr>\n",
       "      <th>A1</th>\n",
       "      <td>4485.0</td>\n",
       "      <td>466.376812</td>\n",
       "      <td>2389.052174</td>\n",
       "      <td>0.0</td>\n",
       "      <td>0.0</td>\n",
       "      <td>0.0</td>\n",
       "      <td>0.0</td>\n",
       "      <td>63037.0</td>\n",
       "    </tr>\n",
       "    <tr>\n",
       "      <th>A2</th>\n",
       "      <td>4400.0</td>\n",
       "      <td>433.635682</td>\n",
       "      <td>2361.618727</td>\n",
       "      <td>0.0</td>\n",
       "      <td>0.0</td>\n",
       "      <td>0.0</td>\n",
       "      <td>0.0</td>\n",
       "      <td>81796.0</td>\n",
       "    </tr>\n",
       "    <tr>\n",
       "      <th>Test</th>\n",
       "      <td>4428.0</td>\n",
       "      <td>526.699639</td>\n",
       "      <td>3445.600810</td>\n",
       "      <td>0.0</td>\n",
       "      <td>0.0</td>\n",
       "      <td>0.0</td>\n",
       "      <td>0.0</td>\n",
       "      <td>113477.0</td>\n",
       "    </tr>\n",
       "  </tbody>\n",
       "</table>\n",
       "</div>"
      ],
      "text/plain": [
       "        count        mean          std  min  25%  50%  75%       max\n",
       "group                                                               \n",
       "A1     4485.0  466.376812  2389.052174  0.0  0.0  0.0  0.0   63037.0\n",
       "A2     4400.0  433.635682  2361.618727  0.0  0.0  0.0  0.0   81796.0\n",
       "Test   4428.0  526.699639  3445.600810  0.0  0.0  0.0  0.0  113477.0"
      ]
     },
     "execution_count": 105,
     "metadata": {},
     "output_type": "execute_result"
    }
   ],
   "source": [
    "full.groupby('group').revenue.describe()"
   ]
  },
  {
   "cell_type": "markdown",
   "metadata": {},
   "source": [
    "##### Revenue"
   ]
  },
  {
   "cell_type": "markdown",
   "metadata": {},
   "source": [
    "Revenue = QTY * Price. We do not have data on payment currencies (and the geography of purchases is large), and we do not have data on the duration of subscriptions (QTY).\n",
    "Let's first look at the distribution of revenue in each group, using the example of the key product premium_no_trial. Even if purchases in groups were made by representatives of different currencies, but the dispersion across product categories in terms of revenue is similar, we will be satisfied."
   ]
  },
  {
   "cell_type": "markdown",
   "metadata": {},
   "source": [
    "By product premium_no_trial in group"
   ]
  },
  {
   "cell_type": "code",
   "execution_count": 106,
   "metadata": {},
   "outputs": [],
   "source": [
    "test_prod_rev = full.query('group == \"Test\" & revenue > 0 & product_type == \"premium_no_trial\"').revenue # revenue \"premium_no_trial\" in Test group\n",
    "A1_prod_rev = full.query('group == \"A1\" & revenue > 0 & product_type == \"premium_no_trial\"').revenue # revenue \"premium_no_trial\" in A1\n",
    "A2_prod_rev = full.query('group == \"A2\" & revenue > 0 & product_type == \"premium_no_trial\"').revenue # revenue \"premium_no_trial\" in A2"
   ]
  },
  {
   "cell_type": "markdown",
   "metadata": {},
   "source": [
    "Let's look at the distribution of revenue premium_no_trial by group"
   ]
  },
  {
   "cell_type": "code",
   "execution_count": 107,
   "metadata": {},
   "outputs": [
    {
     "data": {
      "text/plain": [
       "Text(0.5, 1.01, 'Revenue by \"premium_no_trial\" in Test')"
      ]
     },
     "execution_count": 107,
     "metadata": {},
     "output_type": "execute_result"
    }
   ],
   "source": [
    "f, ax = plt.subplots(figsize=(10, 7))\n",
    "\n",
    "\n",
    "sns.histplot(\n",
    "test_prod_rev \n",
    "   )\n",
    "\n",
    "plt.title('Revenue by \"premium_no_trial\" in Test', x=0.5, y=1.01)"
   ]
  },
  {
   "cell_type": "code",
   "execution_count": 108,
   "metadata": {},
   "outputs": [
    {
     "data": {
      "text/plain": [
       "Text(0.5, 1.01, 'Revenue by \"premium_no_trial\" in A1')"
      ]
     },
     "execution_count": 108,
     "metadata": {},
     "output_type": "execute_result"
    }
   ],
   "source": [
    "f, ax = plt.subplots(figsize=(10, 7))\n",
    "\n",
    "\n",
    "sns.histplot(\n",
    "A1_prod_rev \n",
    "   )\n",
    "\n",
    "plt.title('Revenue by \"premium_no_trial\" in A1', x=0.5, y=1.01)"
   ]
  },
  {
   "cell_type": "code",
   "execution_count": 109,
   "metadata": {},
   "outputs": [
    {
     "data": {
      "text/plain": [
       "Text(0.5, 1.01, 'Revenue by \"premium_no_trial\" in A2')"
      ]
     },
     "execution_count": 109,
     "metadata": {},
     "output_type": "execute_result"
    }
   ],
   "source": [
    "f, ax = plt.subplots(figsize=(10, 7))\n",
    "\n",
    "\n",
    "sns.histplot(\n",
    "A2_prod_rev \n",
    "   )\n",
    "\n",
    "plt.title('Revenue by \"premium_no_trial\" in A2', x=0.5, y=1.01)"
   ]
  },
  {
   "cell_type": "markdown",
   "metadata": {},
   "source": [
    "#### Variance"
   ]
  },
  {
   "cell_type": "markdown",
   "metadata": {},
   "source": [
    "Variance for premium_no_trial in Groups.\n",
    "- H0: variances are equal (in terms of the amount of purchases within one product in all countries).\n",
    "- H1: variances differ statistically significantly."
   ]
  },
  {
   "cell_type": "code",
   "execution_count": 110,
   "metadata": {},
   "outputs": [
    {
     "data": {
      "text/plain": [
       "LeveneResult(statistic=2.1594743512455237, pvalue=0.14344853187503281)"
      ]
     },
     "execution_count": 110,
     "metadata": {},
     "output_type": "execute_result"
    }
   ],
   "source": [
    "stats.levene(test_prod_rev, A1_prod_rev) # by premium_no_trial in А1 "
   ]
  },
  {
   "cell_type": "markdown",
   "metadata": {},
   "source": [
    "(A1-test): p-value > 0.05, accept Н0."
   ]
  },
  {
   "cell_type": "code",
   "execution_count": 111,
   "metadata": {},
   "outputs": [
    {
     "data": {
      "text/plain": [
       "LeveneResult(statistic=2.506290116645416, pvalue=0.11513832140174791)"
      ]
     },
     "execution_count": 111,
     "metadata": {},
     "output_type": "execute_result"
    }
   ],
   "source": [
    "stats.levene(test_prod_rev, A2_prod_rev) # by premium_no_trial in  А2"
   ]
  },
  {
   "cell_type": "markdown",
   "metadata": {},
   "source": [
    "(A2-test): p-value > 0.05, accept Н0."
   ]
  },
  {
   "cell_type": "code",
   "execution_count": 112,
   "metadata": {},
   "outputs": [
    {
     "data": {
      "text/plain": [
       "LeveneResult(statistic=0.036135462255358596, pvalue=0.8494196455838825)"
      ]
     },
     "execution_count": 112,
     "metadata": {},
     "output_type": "execute_result"
    }
   ],
   "source": [
    "stats.levene(A1_prod_rev, A2_prod_rev) # by premium_no_trial in control groups"
   ]
  },
  {
   "cell_type": "markdown",
   "metadata": {},
   "source": [
    "(A1-A2): p-value > 0.05, accept Н0."
   ]
  },
  {
   "cell_type": "markdown",
   "metadata": {},
   "source": [
    "Apparently, “normalized revenue” in the condition means that it is indicated in a single currency. We will assume that purchase amounts within one product in all countries are comparable to each other."
   ]
  },
  {
   "cell_type": "markdown",
   "metadata": {},
   "source": [
    "### A1/A2/Test \n",
    "#### Testing hypotheses using metrics"
   ]
  },
  {
   "cell_type": "markdown",
   "metadata": {},
   "source": [
    "Let's create variables for samples of ARPU values for all users"
   ]
  },
  {
   "cell_type": "code",
   "execution_count": 113,
   "metadata": {},
   "outputs": [],
   "source": [
    "ARPU_A1 = full.query('group == \"A1\"').revenue\n",
    "ARPU_A2 = full.query('group == \"A2\"').revenue\n",
    "ARPU_Test = full.query('group == \"Test\"').revenue"
   ]
  },
  {
   "cell_type": "markdown",
   "metadata": {},
   "source": [
    "#### Distribution in groups"
   ]
  },
  {
   "cell_type": "code",
   "execution_count": 114,
   "metadata": {},
   "outputs": [],
   "source": [
    "sns.histplot(ARPU_A1, kde=True, color='blue')\n",
    "sns.histplot(ARPU_A2, kde=True, color='red')\n",
    "sns.histplot(ARPU_Test, kde=True, color='green')\n",
    "plt.title(\"ARPU by groups\");"
   ]
  },
  {
   "cell_type": "markdown",
   "metadata": {},
   "source": [
    "Let's create variables for samples of average bill values for paying users"
   ]
  },
  {
   "cell_type": "code",
   "execution_count": 115,
   "metadata": {},
   "outputs": [],
   "source": [
    "ARPPU_A1 = full.query('group == \"A1\" & revenue > 0').revenue\n",
    "ARPPU_A2 = full.query('group == \"A2\" & revenue > 0').revenue\n",
    "ARPPU_Test = full.query('group == \"Test\" & revenue > 0').revenue"
   ]
  },
  {
   "cell_type": "code",
   "execution_count": 116,
   "metadata": {},
   "outputs": [],
   "source": [
    "sns.histplot(ARPPU_A1, kde=True, color='blue')\n",
    "sns.histplot(ARPPU_A2, kde=True, color='red')\n",
    "sns.histplot(ARPPU_Test, kde=True, color='green')\n",
    "plt.title(\"ARPPU by groups\");"
   ]
  },
  {
   "cell_type": "markdown",
   "metadata": {},
   "source": [
    "##### Let's check for normality of distribution using the Shapiro-Wilk test, where\n",
    "- H0: the distribution from which the sample is taken is normal.\n",
    "- H1: The distribution from which the sample is drawn is not normal."
   ]
  },
  {
   "cell_type": "code",
   "execution_count": 117,
   "metadata": {},
   "outputs": [
    {
     "data": {
      "text/plain": [
       "ShapiroResult(statistic=0.19031494855880737, pvalue=0.0)"
      ]
     },
     "execution_count": 117,
     "metadata": {},
     "output_type": "execute_result"
    }
   ],
   "source": [
    "stats.shapiro(ARPU_A1)"
   ]
  },
  {
   "cell_type": "code",
   "execution_count": 118,
   "metadata": {},
   "outputs": [
    {
     "data": {
      "text/plain": [
       "ShapiroResult(statistic=0.1726122498512268, pvalue=0.0)"
      ]
     },
     "execution_count": 118,
     "metadata": {},
     "output_type": "execute_result"
    }
   ],
   "source": [
    "stats.shapiro(ARPU_A2)"
   ]
  },
  {
   "cell_type": "code",
   "execution_count": 119,
   "metadata": {},
   "outputs": [
    {
     "data": {
      "text/plain": [
       "ShapiroResult(statistic=0.13292890787124634, pvalue=0.0)"
      ]
     },
     "execution_count": 119,
     "metadata": {},
     "output_type": "execute_result"
    }
   ],
   "source": [
    "stats.shapiro(ARPU_Test)"
   ]
  },
  {
   "cell_type": "code",
   "execution_count": 120,
   "metadata": {},
   "outputs": [
    {
     "data": {
      "text/plain": [
       "ShapiroResult(statistic=0.5866697430610657, pvalue=1.4801162586394618e-27)"
      ]
     },
     "execution_count": 120,
     "metadata": {},
     "output_type": "execute_result"
    }
   ],
   "source": [
    "stats.shapiro(ARPPU_A1)"
   ]
  },
  {
   "cell_type": "code",
   "execution_count": 121,
   "metadata": {},
   "outputs": [
    {
     "data": {
      "text/plain": [
       "ShapiroResult(statistic=0.5297449231147766, pvalue=1.7662834723952801e-28)"
      ]
     },
     "execution_count": 121,
     "metadata": {},
     "output_type": "execute_result"
    }
   ],
   "source": [
    "stats.shapiro(ARPPU_A2)"
   ]
  },
  {
   "cell_type": "code",
   "execution_count": 122,
   "metadata": {},
   "outputs": [
    {
     "data": {
      "text/plain": [
       "ShapiroResult(statistic=0.49752241373062134, pvalue=8.011712953511395e-27)"
      ]
     },
     "execution_count": 122,
     "metadata": {},
     "output_type": "execute_result"
    }
   ],
   "source": [
    "stats.shapiro(ARPPU_Test)"
   ]
  },
  {
   "cell_type": "markdown",
   "metadata": {},
   "source": [
    "Conclusion based on the results of the Shapiro-Wilk test P-value<0.05. We reject H0. The distributions are not normal."
   ]
  },
  {
   "cell_type": "markdown",
   "metadata": {},
   "source": [
    "We know that the distributions are not normal; they contain outliers. In this case, to assess stat. We will use Bootstrap to determine the significance of the difference between the means in the samples. It allows you to repeatedly extract subsamples from the sample obtained as part of an experiment. In the resulting subsamples, statistics are considered (mean, in our case)."
   ]
  },
  {
   "cell_type": "code",
   "execution_count": 123,
   "metadata": {},
   "outputs": [],
   "source": [
    "# Bootstrap function\n",
    "\n",
    "def get_bootstrap(\n",
    "    data_column_1, # numeric values of the first sample\n",
    "    data_column_2, # numeric values of the second sample\n",
    "    boot_it = 1000, # number of bootstrap subsamples\n",
    "    statistic = np.mean, # statistics we are interested in\n",
    "    bootstrap_conf_level = 0.95 # significance level\n",
    "):\n",
    "    boot_len = max([len(data_column_1), len(data_column_2)])\n",
    "    boot_data = []\n",
    "    for i in tqdm(range(boot_it)): # extract subsamples\n",
    "        samples_1 = data_column_1.sample(\n",
    "            boot_len, \n",
    "            replace = True # return parameter\n",
    "        ).values\n",
    "        \n",
    "        samples_2 = data_column_2.sample(\n",
    "            boot_len, \n",
    "            replace = True\n",
    "        ).values\n",
    "        \n",
    "        boot_data.append(statistic(samples_1-samples_2)) # mean() - apply statistics\n",
    "        \n",
    "    pd_boot_data = pd.DataFrame(boot_data)\n",
    "        \n",
    "    left_quant = (1 - bootstrap_conf_level)/2\n",
    "    right_quant = 1 - (1 - bootstrap_conf_level) / 2\n",
    "    ci = pd_boot_data.quantile([left_quant, right_quant])\n",
    "        \n",
    "    p_1 = norm.cdf(\n",
    "        x = 0, \n",
    "        loc = np.mean(boot_data), \n",
    "        scale = np.std(boot_data)\n",
    "    )\n",
    "    p_2 = norm.cdf(\n",
    "        x = 0, \n",
    "        loc = -np.mean(boot_data), \n",
    "        scale = np.std(boot_data)\n",
    "    )\n",
    "    p_value = min(p_1, p_2) * 2\n",
    "        \n",
    "    # Viz\n",
    "    plt.hist(pd_boot_data[0], bins = 50)\n",
    "    \n",
    "    plt.style.use('ggplot')\n",
    "    plt.vlines(ci,ymin=0,ymax=50,linestyle='--')\n",
    "    plt.xlabel('boot_data')\n",
    "    plt.ylabel('frequency')\n",
    "    plt.title(\"Histogram of boot_data\")\n",
    "    plt.show()\n",
    "       \n",
    "    return {\"boot_data\": boot_data, \n",
    "            \"ci\": ci, \n",
    "            \"p_value\": p_value}"
   ]
  },
  {
   "cell_type": "markdown",
   "metadata": {},
   "source": [
    "##### Results for ARPU"
   ]
  },
  {
   "cell_type": "code",
   "execution_count": 124,
   "metadata": {},
   "outputs": [
    {
     "data": {
      "application/vnd.jupyter.widget-view+json": {
       "model_id": "0b1e3df1597a4a75b9952bc42b8b4f6a",
       "version_major": 2,
       "version_minor": 0
      },
      "text/plain": [
       "  0%|          | 0/1000 [00:00<?, ?it/s]"
      ]
     },
     "metadata": {},
     "output_type": "display_data"
    },
    {
     "data": {
      "image/png": "[encoded data removed]",
      "text/plain": [
       "<Figure size 1000x700 with 1 Axes>"
      ]
     },
     "metadata": {},
     "output_type": "display_data"
    },
    {
     "data": {
      "image/png": "[encoded data removed]",
      "text/plain": [
       "<Figure size 1000x700 with 1 Axes>"
      ]
     },
     "metadata": {},
     "output_type": "display_data"
    },
    {
     "data": {
      "image/png": "[encoded data removed]",
      "text/plain": [
       "<Figure size 1000x700 with 1 Axes>"
      ]
     },
     "metadata": {},
     "output_type": "display_data"
    }
   ],
   "source": [
    "arpu_A1_test = get_bootstrap(ARPU_Test, ARPU_A1, boot_it = 1000)"
   ]
  },
  {
   "cell_type": "code",
   "execution_count": 125,
   "metadata": {},
   "outputs": [
    {
     "data": {
      "application/vnd.jupyter.widget-view+json": {
       "model_id": "59952accef9c4160886e2c3412392d64",
       "version_major": 2,
       "version_minor": 0
      },
      "text/plain": [
       "  0%|          | 0/1000 [00:00<?, ?it/s]"
      ]
     },
     "metadata": {},
     "output_type": "display_data"
    },
    {
     "data": {
      "image/png": "[encoded data removed]",
      "text/plain": [
       "<Figure size 640x480 with 1 Axes>"
      ]
     },
     "metadata": {},
     "output_type": "display_data"
    }
   ],
   "source": [
    "arpu_A2_test = get_bootstrap(ARPU_Test, ARPU_A2, boot_it = 1000)"
   ]
  },
  {
   "cell_type": "code",
   "execution_count": 126,
   "metadata": {},
   "outputs": [
    {
     "data": {
      "application/vnd.jupyter.widget-view+json": {
       "model_id": "f4240bfc4d5b4e20a2f9bade9622cf7b",
       "version_major": 2,
       "version_minor": 0
      },
      "text/plain": [
       "  0%|          | 0/1000 [00:00<?, ?it/s]"
      ]
     },
     "metadata": {},
     "output_type": "display_data"
    },
    {
     "data": {
      "image/png": "[encoded data removed]",
      "text/plain": [
       "<Figure size 640x480 with 1 Axes>"
      ]
     },
     "metadata": {},
     "output_type": "display_data"
    }
   ],
   "source": [
    "arpu_A1_A2test = get_bootstrap(ARPU_Test, full.query('group==\"A1\" or group==\"A2\"').revenue, boot_it = 1000)"
   ]
  },
  {
   "cell_type": "code",
   "execution_count": 127,
   "metadata": {},
   "outputs": [
    {
     "name": "stdout",
     "output_type": "stream",
     "text": [
      "ARPU(A1-Test)p_value: 0.3436779397825397\n",
      "ARPU(A2-Test)p_value: 0.14494339460316835\n",
      "ARPU(A1 + A2 / B1)p_value: 0.08636193440623728\n"
     ]
    }
   ],
   "source": [
    "print(\"ARPU(A1-Test)\" + \"p_value: \" + str(arpu_A1_test[\"p_value\"]))\n",
    "print(\"ARPU(A2-Test)\" + \"p_value: \" + str(arpu_A2_test[\"p_value\"]))\n",
    "print(\"ARPU(A1 + A2 / B1)\" + \"p_value: \" + str(arpu_A1_A2test[\"p_value\"]))"
   ]
  },
  {
   "cell_type": "markdown",
   "metadata": {},
   "source": [
    "If p-value > 0.05, we accept H0.\n",
    "If zero is outside the confidence interval, then the differences are statistically significant, otherwise not.\n",
    "  Conclusion:\n",
    "- A1-test - the differences are not significant, we accept H0;\n",
    "- A2-test - the differences are not significant, we accept H0;\n",
    "- A1 + A2 / B1 - the differences are not significant, we accept H0;"
   ]
  },
  {
   "cell_type": "markdown",
   "metadata": {},
   "source": [
    "#### Results for ARPPU"
   ]
  },
  {
   "cell_type": "code",
   "execution_count": 128,
   "metadata": {},
   "outputs": [
    {
     "data": {
      "application/vnd.jupyter.widget-view+json": {
       "model_id": "ef9c1216bc3047eeab72f98a2d60b775",
       "version_major": 2,
       "version_minor": 0
      },
      "text/plain": [
       "  0%|          | 0/1000 [00:00<?, ?it/s]"
      ]
     },
     "metadata": {},
     "output_type": "display_data"
    },
    {
     "data": {
      "image/png": "[encoded data removed]",
      "text/plain": [
       "<Figure size 640x480 with 1 Axes>"
      ]
     },
     "metadata": {},
     "output_type": "display_data"
    }
   ],
   "source": [
    "arppu_A1_test = get_bootstrap(ARPPU_Test, ARPPU_A1, boot_it = 1000)"
   ]
  },
  {
   "cell_type": "code",
   "execution_count": 129,
   "metadata": {},
   "outputs": [
    {
     "data": {
      "application/vnd.jupyter.widget-view+json": {
       "model_id": "3ce1712432fe48e1abca5341393d2cf9",
       "version_major": 2,
       "version_minor": 0
      },
      "text/plain": [
       "  0%|          | 0/1000 [00:00<?, ?it/s]"
      ]
     },
     "metadata": {},
     "output_type": "display_data"
    },
    {
     "data": {
      "image/png": "[encoded data removed]",
      "text/plain": [
       "<Figure size 640x480 with 1 Axes>"
      ]
     },
     "metadata": {},
     "output_type": "display_data"
    }
   ],
   "source": [
    "arppu_A2_test = get_bootstrap(ARPPU_Test, ARPPU_A2, boot_it = 1000)"
   ]
  },
  {
   "cell_type": "code",
   "execution_count": 130,
   "metadata": {},
   "outputs": [
    {
     "data": {
      "application/vnd.jupyter.widget-view+json": {
       "model_id": "38b0305bc00a41bc8dd542cc8b4deb56",
       "version_major": 2,
       "version_minor": 0
      },
      "text/plain": [
       "  0%|          | 0/1000 [00:00<?, ?it/s]"
      ]
     },
     "metadata": {},
     "output_type": "display_data"
    },
    {
     "data": {
      "image/png": "[encoded data removed]",
      "text/plain": [
       "<Figure size 640x480 with 1 Axes>"
      ]
     },
     "metadata": {},
     "output_type": "display_data"
    }
   ],
   "source": [
    "arppu_A1_A2test = get_bootstrap(ARPPU_Test, full.query('(group==\"A1\" or group==\"A2\") and revenue > 0').revenue, boot_it = 1000)"
   ]
  },
  {
   "cell_type": "code",
   "execution_count": 131,
   "metadata": {},
   "outputs": [
    {
     "name": "stdout",
     "output_type": "stream",
     "text": [
      "ARPPU(A1-Test)p_value: 0.00031843848809107503\n",
      "ARPPU(A2-Test)p_value: 6.839262799080341e-05\n",
      "ARPPU(A1 + A2 / B1)p_value: 1.0901944364846705e-07\n"
     ]
    }
   ],
   "source": [
    "print(\"ARPPU(A1-Test)\" + \"p_value: \" + str(arppu_A1_test[\"p_value\"]))\n",
    "print(\"ARPPU(A2-Test)\" + \"p_value: \" + str(arppu_A2_test[\"p_value\"]))\n",
    "print(\"ARPPU(A1 + A2 / B1)\" + \"p_value: \" + str(arppu_A1_A2test[\"p_value\"]))"
   ]
  },
  {
   "cell_type": "markdown",
   "metadata": {},
   "source": [
    "If p-value > 0.05, we accept H0.\n",
    "If zero is outside the confidence interval, then the differences are statistically significant, otherwise not.\n",
    "Conclusion:\n",
    "- A1-test - the differences are significant, we do not accept H0;\n",
    "- A2-test - the differences are significant, we do not accept H0;\n",
    "- A1 + A2 / B1 - the differences are significant, we do not accept H0;"
   ]
  },
  {
   "cell_type": "markdown",
   "metadata": {},
   "source": [
    "#### CR and its types.\n",
    "Conversion is a binomial metric. We will use Chi-square to evaluate this metric"
   ]
  },
  {
   "cell_type": "markdown",
   "metadata": {},
   "source": [
    "The average bill among paying users between the control and test groups did not show an increase in the test group. Perhaps new payment systems have made it possible to attract more users?\n",
    "___\n",
    "- Hypothesis H0: hypothesis about the homogeneity of populations: innovations did not bring us new customers.\n",
    "- Hypothesis H1: populations are not homogeneous: new systems have changed the proportion of those who bought premium subscriptions."
   ]
  },
  {
   "cell_type": "code",
   "execution_count": 132,
   "metadata": {},
   "outputs": [],
   "source": [
    "import statsmodels.stats.proportion as proportion"
   ]
  },
  {
   "cell_type": "code",
   "execution_count": 133,
   "metadata": {},
   "outputs": [],
   "source": [
    "?? proportion.proportions_chisquare"
   ]
  },
  {
   "cell_type": "code",
   "execution_count": 134,
   "metadata": {},
   "outputs": [],
   "source": [
    "# conversion from visit to registration\n",
    "chi2stat, pval, table = proportion.proportions_chisquare(cr_reg['registrations'],cr_reg['users'])"
   ]
  },
  {
   "cell_type": "code",
   "execution_count": 135,
   "metadata": {},
   "outputs": [],
   "source": [
    "alpha = 0.05"
   ]
  },
  {
   "cell_type": "code",
   "execution_count": 136,
   "metadata": {},
   "outputs": [
    {
     "name": "stdout",
     "output_type": "stream",
     "text": [
      "p-value is 0.009449949727754472\n",
      "We reject H0 - stat. there is a significant difference in conversion to registration between groups\n"
     ]
    }
   ],
   "source": [
    "print(\"p-value is \" + str (pval))\n",
    "if pval <= alpha:\n",
    " print('We reject H0 - stat. there is a significant difference in conversion to registration between groups' )\n",
    "else :\n",
    " print('We do not reject H0 - stat. no significant difference in conversion to registration between groups' )"
   ]
  },
  {
   "cell_type": "code",
   "execution_count": 137,
   "metadata": {},
   "outputs": [],
   "source": [
    "# conversion of registered users into purchasing a premium trial version\n",
    "chi2stat, pval_trial, table = proportion.proportions_chisquare(cr_trial['trial_users'],cr_trial['registrations'])"
   ]
  },
  {
   "cell_type": "code",
   "execution_count": 138,
   "metadata": {},
   "outputs": [
    {
     "name": "stdout",
     "output_type": "stream",
     "text": [
      "p-value is 0.10999417201464101\n",
      "We do not reject H0 - statistically there is no significant difference in the conversion of registered users into purchasing a premium trial version between groups\n"
     ]
    }
   ],
   "source": [
    "print(\"p-value is \" + str (pval_trial))\n",
    "if pval_trial <= alpha:\n",
    " print('We reject H0 - there is a statistically significant difference in the conversion of registered users into purchasing a premium trial version between groups' )\n",
    "else :\n",
    " print('We do not reject H0 - statistically there is no significant difference in the conversion of registered users into purchasing a premium trial version between groups' )"
   ]
  },
  {
   "cell_type": "code",
   "execution_count": 139,
   "metadata": {},
   "outputs": [],
   "source": [
    "# conversion of registered users into purchasing the premium paid version\n",
    "chi2stat, pval_premium, table = proportion.proportions_chisquare(cr_premium['premium_users'],cr_premium['registrations'])"
   ]
  },
  {
   "cell_type": "code",
   "execution_count": 140,
   "metadata": {},
   "outputs": [
    {
     "name": "stdout",
     "output_type": "stream",
     "text": [
      "p-value is 0.4932515194199052\n",
      "We do not reject H0 - stat. there is no significant difference in the conversion of registered users into purchasing the premium paid version between the groups\n"
     ]
    }
   ],
   "source": [
    "print(\"p-value is \" + str (pval_premium))\n",
    "if pval_premium <= alpha:\n",
    " print('We reject H0 - there is a stat. significant difference in the conversion of registered users into purchasing the premium paid version between groups' )\n",
    "else :\n",
    " print('We do not reject H0 - stat. there is no significant difference in the conversion of registered users into purchasing the premium paid version between the groups' )"
   ]
  },
  {
   "cell_type": "code",
   "execution_count": 141,
   "metadata": {},
   "outputs": [
    {
     "data": {
      "text/html": [
       "<div>\n",
       "<style scoped>\n",
       "    .dataframe tbody tr th:only-of-type {\n",
       "        vertical-align: middle;\n",
       "    }\n",
       "\n",
       "    .dataframe tbody tr th {\n",
       "        vertical-align: top;\n",
       "    }\n",
       "\n",
       "    .dataframe thead th {\n",
       "        text-align: right;\n",
       "    }\n",
       "</style>\n",
       "<table border=\"1\" class=\"dataframe\">\n",
       "  <thead>\n",
       "    <tr style=\"text-align: right;\">\n",
       "      <th></th>\n",
       "      <th>group</th>\n",
       "      <th>registrations</th>\n",
       "      <th>premium_users</th>\n",
       "      <th>cr_premium</th>\n",
       "    </tr>\n",
       "  </thead>\n",
       "  <tbody>\n",
       "    <tr>\n",
       "      <th>0</th>\n",
       "      <td>A1</td>\n",
       "      <td>337</td>\n",
       "      <td>105</td>\n",
       "      <td>31.16</td>\n",
       "    </tr>\n",
       "    <tr>\n",
       "      <th>1</th>\n",
       "      <td>A2</td>\n",
       "      <td>323</td>\n",
       "      <td>107</td>\n",
       "      <td>33.13</td>\n",
       "    </tr>\n",
       "    <tr>\n",
       "      <th>2</th>\n",
       "      <td>Test</td>\n",
       "      <td>266</td>\n",
       "      <td>76</td>\n",
       "      <td>28.57</td>\n",
       "    </tr>\n",
       "  </tbody>\n",
       "</table>\n",
       "</div>"
      ],
      "text/plain": [
       "  group  registrations  premium_users  cr_premium\n",
       "0    A1            337            105       31.16\n",
       "1    A2            323            107       33.13\n",
       "2  Test            266             76       28.57"
      ]
     },
     "execution_count": 141,
     "metadata": {},
     "output_type": "execute_result"
    }
   ],
   "source": [
    "cr_premium"
   ]
  },
  {
   "cell_type": "markdown",
   "metadata": {},
   "source": [
    "##### Conclusion:\n",
    "the test showed that the decrease in conversion at the stage of the funnel from registration to purchase in the test group is not statistically significant, that is, in all groups the result is the same -> which indicates the ineffectiveness of the tested measures."
   ]
  },
  {
   "cell_type": "markdown",
   "metadata": {},
   "source": [
    "#### Does the innovation make sense among any specific user groups?"
   ]
  },
  {
   "cell_type": "markdown",
   "metadata": {},
   "source": [
    "We will select only those who purchased the premium version. We will assume that success lies in an increase in the number of buyers and the average bill across the country."
   ]
  },
  {
   "cell_type": "code",
   "execution_count": 142,
   "metadata": {},
   "outputs": [],
   "source": [
    "premium_top = full.query('product_type == \"premium_no_trial\"')\\\n",
    "                  .groupby(['uid', 'country_x','group'], as_index=False).agg(mean_revenue=('revenue', 'mean'))\\\n",
    "                  .sort_values(by=['mean_revenue'], ascending = False)"
   ]
  },
  {
   "cell_type": "code",
   "execution_count": 143,
   "metadata": {},
   "outputs": [
    {
     "data": {
      "text/html": [
       "<div>\n",
       "<style scoped>\n",
       "    .dataframe tbody tr th:only-of-type {\n",
       "        vertical-align: middle;\n",
       "    }\n",
       "\n",
       "    .dataframe tbody tr th {\n",
       "        vertical-align: top;\n",
       "    }\n",
       "\n",
       "    .dataframe thead th {\n",
       "        text-align: right;\n",
       "    }\n",
       "</style>\n",
       "<table border=\"1\" class=\"dataframe\">\n",
       "  <thead>\n",
       "    <tr style=\"text-align: right;\">\n",
       "      <th></th>\n",
       "      <th>uid</th>\n",
       "      <th>country_x</th>\n",
       "      <th>group</th>\n",
       "      <th>mean_revenue</th>\n",
       "    </tr>\n",
       "  </thead>\n",
       "  <tbody>\n",
       "    <tr>\n",
       "      <th>166</th>\n",
       "      <td>892038759</td>\n",
       "      <td>United Arab Emirates</td>\n",
       "      <td>Test</td>\n",
       "      <td>113477.0</td>\n",
       "    </tr>\n",
       "    <tr>\n",
       "      <th>14</th>\n",
       "      <td>891178380</td>\n",
       "      <td>Spain</td>\n",
       "      <td>Test</td>\n",
       "      <td>113477.0</td>\n",
       "    </tr>\n",
       "    <tr>\n",
       "      <th>123</th>\n",
       "      <td>891778551</td>\n",
       "      <td>United Arab Emirates</td>\n",
       "      <td>A2</td>\n",
       "      <td>81796.0</td>\n",
       "    </tr>\n",
       "    <tr>\n",
       "      <th>235</th>\n",
       "      <td>892307238</td>\n",
       "      <td>Spain</td>\n",
       "      <td>A2</td>\n",
       "      <td>63037.0</td>\n",
       "    </tr>\n",
       "    <tr>\n",
       "      <th>219</th>\n",
       "      <td>892216461</td>\n",
       "      <td>United States of America</td>\n",
       "      <td>A1</td>\n",
       "      <td>63037.0</td>\n",
       "    </tr>\n",
       "    <tr>\n",
       "      <th>...</th>\n",
       "      <td>...</td>\n",
       "      <td>...</td>\n",
       "      <td>...</td>\n",
       "      <td>...</td>\n",
       "    </tr>\n",
       "    <tr>\n",
       "      <th>83</th>\n",
       "      <td>891531897</td>\n",
       "      <td>Italy</td>\n",
       "      <td>Test</td>\n",
       "      <td>1898.0</td>\n",
       "    </tr>\n",
       "    <tr>\n",
       "      <th>98</th>\n",
       "      <td>891613833</td>\n",
       "      <td>Italy</td>\n",
       "      <td>A1</td>\n",
       "      <td>1898.0</td>\n",
       "    </tr>\n",
       "    <tr>\n",
       "      <th>260</th>\n",
       "      <td>892393119</td>\n",
       "      <td>Italy</td>\n",
       "      <td>A1</td>\n",
       "      <td>1807.0</td>\n",
       "    </tr>\n",
       "    <tr>\n",
       "      <th>207</th>\n",
       "      <td>892176342</td>\n",
       "      <td>United States of America</td>\n",
       "      <td>A1</td>\n",
       "      <td>1508.0</td>\n",
       "    </tr>\n",
       "    <tr>\n",
       "      <th>29</th>\n",
       "      <td>891267564</td>\n",
       "      <td>Portugal</td>\n",
       "      <td>A2</td>\n",
       "      <td>1482.0</td>\n",
       "    </tr>\n",
       "  </tbody>\n",
       "</table>\n",
       "<p>267 rows × 4 columns</p>\n",
       "</div>"
      ],
      "text/plain": [
       "           uid                 country_x group  mean_revenue\n",
       "166  892038759      United Arab Emirates  Test      113477.0\n",
       "14   891178380                     Spain  Test      113477.0\n",
       "123  891778551      United Arab Emirates    A2       81796.0\n",
       "235  892307238                     Spain    A2       63037.0\n",
       "219  892216461  United States of America    A1       63037.0\n",
       "..         ...                       ...   ...           ...\n",
       "83   891531897                     Italy  Test        1898.0\n",
       "98   891613833                     Italy    A1        1898.0\n",
       "260  892393119                     Italy    A1        1807.0\n",
       "207  892176342  United States of America    A1        1508.0\n",
       "29   891267564                  Portugal    A2        1482.0\n",
       "\n",
       "[267 rows x 4 columns]"
      ]
     },
     "execution_count": 143,
     "metadata": {},
     "output_type": "execute_result"
    }
   ],
   "source": [
    "premium_top"
   ]
  },
  {
   "cell_type": "code",
   "execution_count": 144,
   "metadata": {},
   "outputs": [],
   "source": [
    "premium_top = premium_top.groupby(['group', 'country_x'], as_index=False) \\\n",
    "           .agg({'uid':'count','mean_revenue':'mean'})\\\n",
    "          .rename(columns ={\"uid\":\"group_size\"})"
   ]
  },
  {
   "cell_type": "code",
   "execution_count": 145,
   "metadata": {},
   "outputs": [],
   "source": [
    "premium_top['mean_revenue'] = premium_top['mean_revenue'].round(2)"
   ]
  },
  {
   "cell_type": "markdown",
   "metadata": {},
   "source": [
    "In the study of raw data, we already saw in the graph that there were no test purchases in India, Ukraine, Austria and Lithuania. Let's see, maybe somewhere there was only the type of subscription in question, then we will exclude these countries from further analysis."
   ]
  },
  {
   "cell_type": "code",
   "execution_count": 146,
   "metadata": {},
   "outputs": [],
   "source": [
    "premium_top_pivoted = premium_top.pivot(index=['country_x'], columns='group',\n",
    "                                        values=['mean_revenue', 'group_size'])"
   ]
  },
  {
   "cell_type": "code",
   "execution_count": 147,
   "metadata": {},
   "outputs": [
    {
     "data": {
      "text/html": [
       "<div>\n",
       "<style scoped>\n",
       "    .dataframe tbody tr th:only-of-type {\n",
       "        vertical-align: middle;\n",
       "    }\n",
       "\n",
       "    .dataframe tbody tr th {\n",
       "        vertical-align: top;\n",
       "    }\n",
       "\n",
       "    .dataframe thead tr th {\n",
       "        text-align: left;\n",
       "    }\n",
       "\n",
       "    .dataframe thead tr:last-of-type th {\n",
       "        text-align: right;\n",
       "    }\n",
       "</style>\n",
       "<table border=\"1\" class=\"dataframe\">\n",
       "  <thead>\n",
       "    <tr>\n",
       "      <th></th>\n",
       "      <th colspan=\"3\" halign=\"left\">mean_revenue</th>\n",
       "      <th colspan=\"3\" halign=\"left\">group_size</th>\n",
       "    </tr>\n",
       "    <tr>\n",
       "      <th>group</th>\n",
       "      <th>A1</th>\n",
       "      <th>A2</th>\n",
       "      <th>Test</th>\n",
       "      <th>A1</th>\n",
       "      <th>A2</th>\n",
       "      <th>Test</th>\n",
       "    </tr>\n",
       "    <tr>\n",
       "      <th>country_x</th>\n",
       "      <th></th>\n",
       "      <th></th>\n",
       "      <th></th>\n",
       "      <th></th>\n",
       "      <th></th>\n",
       "      <th></th>\n",
       "    </tr>\n",
       "  </thead>\n",
       "  <tbody>\n",
       "    <tr>\n",
       "      <th>Argentina</th>\n",
       "      <td>6089.20</td>\n",
       "      <td>7177.86</td>\n",
       "      <td>9882.60</td>\n",
       "      <td>5.0</td>\n",
       "      <td>7.0</td>\n",
       "      <td>5.0</td>\n",
       "    </tr>\n",
       "    <tr>\n",
       "      <th>Australia</th>\n",
       "      <td>3588.00</td>\n",
       "      <td>4719.00</td>\n",
       "      <td>12597.00</td>\n",
       "      <td>1.0</td>\n",
       "      <td>1.0</td>\n",
       "      <td>1.0</td>\n",
       "    </tr>\n",
       "    <tr>\n",
       "      <th>Austria</th>\n",
       "      <td>NaN</td>\n",
       "      <td>4056.00</td>\n",
       "      <td>NaN</td>\n",
       "      <td>NaN</td>\n",
       "      <td>1.0</td>\n",
       "      <td>NaN</td>\n",
       "    </tr>\n",
       "    <tr>\n",
       "      <th>Belgium</th>\n",
       "      <td>3042.00</td>\n",
       "      <td>6539.00</td>\n",
       "      <td>12597.00</td>\n",
       "      <td>1.0</td>\n",
       "      <td>5.0</td>\n",
       "      <td>1.0</td>\n",
       "    </tr>\n",
       "    <tr>\n",
       "      <th>Canada</th>\n",
       "      <td>5209.75</td>\n",
       "      <td>3549.00</td>\n",
       "      <td>6963.67</td>\n",
       "      <td>4.0</td>\n",
       "      <td>1.0</td>\n",
       "      <td>3.0</td>\n",
       "    </tr>\n",
       "    <tr>\n",
       "      <th>Chile</th>\n",
       "      <td>5905.25</td>\n",
       "      <td>5772.00</td>\n",
       "      <td>8183.50</td>\n",
       "      <td>4.0</td>\n",
       "      <td>6.0</td>\n",
       "      <td>4.0</td>\n",
       "    </tr>\n",
       "    <tr>\n",
       "      <th>France</th>\n",
       "      <td>5219.50</td>\n",
       "      <td>5456.75</td>\n",
       "      <td>6465.33</td>\n",
       "      <td>12.0</td>\n",
       "      <td>8.0</td>\n",
       "      <td>4.0</td>\n",
       "    </tr>\n",
       "    <tr>\n",
       "      <th>Germany</th>\n",
       "      <td>5053.75</td>\n",
       "      <td>6833.67</td>\n",
       "      <td>5167.50</td>\n",
       "      <td>4.0</td>\n",
       "      <td>3.0</td>\n",
       "      <td>2.0</td>\n",
       "    </tr>\n",
       "    <tr>\n",
       "      <th>India</th>\n",
       "      <td>4810.00</td>\n",
       "      <td>NaN</td>\n",
       "      <td>NaN</td>\n",
       "      <td>2.0</td>\n",
       "      <td>NaN</td>\n",
       "      <td>NaN</td>\n",
       "    </tr>\n",
       "    <tr>\n",
       "      <th>Israel</th>\n",
       "      <td>5978.70</td>\n",
       "      <td>6292.00</td>\n",
       "      <td>12597.00</td>\n",
       "      <td>10.0</td>\n",
       "      <td>2.0</td>\n",
       "      <td>2.0</td>\n",
       "    </tr>\n",
       "    <tr>\n",
       "      <th>Italy</th>\n",
       "      <td>5071.08</td>\n",
       "      <td>6405.75</td>\n",
       "      <td>8183.50</td>\n",
       "      <td>12.0</td>\n",
       "      <td>4.0</td>\n",
       "      <td>7.0</td>\n",
       "    </tr>\n",
       "    <tr>\n",
       "      <th>Latvia</th>\n",
       "      <td>NaN</td>\n",
       "      <td>NaN</td>\n",
       "      <td>6357.00</td>\n",
       "      <td>NaN</td>\n",
       "      <td>NaN</td>\n",
       "      <td>1.0</td>\n",
       "    </tr>\n",
       "    <tr>\n",
       "      <th>Mexico</th>\n",
       "      <td>NaN</td>\n",
       "      <td>NaN</td>\n",
       "      <td>6214.00</td>\n",
       "      <td>NaN</td>\n",
       "      <td>NaN</td>\n",
       "      <td>1.0</td>\n",
       "    </tr>\n",
       "    <tr>\n",
       "      <th>Portugal</th>\n",
       "      <td>6292.00</td>\n",
       "      <td>4867.20</td>\n",
       "      <td>NaN</td>\n",
       "      <td>1.0</td>\n",
       "      <td>5.0</td>\n",
       "      <td>NaN</td>\n",
       "    </tr>\n",
       "    <tr>\n",
       "      <th>Spain</th>\n",
       "      <td>6669.00</td>\n",
       "      <td>11538.80</td>\n",
       "      <td>24918.83</td>\n",
       "      <td>5.0</td>\n",
       "      <td>10.0</td>\n",
       "      <td>6.0</td>\n",
       "    </tr>\n",
       "    <tr>\n",
       "      <th>Switzerland</th>\n",
       "      <td>4680.00</td>\n",
       "      <td>5282.33</td>\n",
       "      <td>NaN</td>\n",
       "      <td>1.0</td>\n",
       "      <td>3.0</td>\n",
       "      <td>NaN</td>\n",
       "    </tr>\n",
       "    <tr>\n",
       "      <th>Turkey</th>\n",
       "      <td>23361.00</td>\n",
       "      <td>NaN</td>\n",
       "      <td>3614.00</td>\n",
       "      <td>3.0</td>\n",
       "      <td>NaN</td>\n",
       "      <td>1.0</td>\n",
       "    </tr>\n",
       "    <tr>\n",
       "      <th>Ukraine</th>\n",
       "      <td>NaN</td>\n",
       "      <td>6357.00</td>\n",
       "      <td>NaN</td>\n",
       "      <td>NaN</td>\n",
       "      <td>1.0</td>\n",
       "      <td>NaN</td>\n",
       "    </tr>\n",
       "    <tr>\n",
       "      <th>United Arab Emirates</th>\n",
       "      <td>5247.67</td>\n",
       "      <td>24823.50</td>\n",
       "      <td>25789.83</td>\n",
       "      <td>3.0</td>\n",
       "      <td>4.0</td>\n",
       "      <td>6.0</td>\n",
       "    </tr>\n",
       "    <tr>\n",
       "      <th>United Kingdom (Great Britain)</th>\n",
       "      <td>6552.00</td>\n",
       "      <td>5365.15</td>\n",
       "      <td>6466.20</td>\n",
       "      <td>4.0</td>\n",
       "      <td>9.0</td>\n",
       "      <td>5.0</td>\n",
       "    </tr>\n",
       "    <tr>\n",
       "      <th>United States of America</th>\n",
       "      <td>8885.50</td>\n",
       "      <td>5535.56</td>\n",
       "      <td>8920.41</td>\n",
       "      <td>26.0</td>\n",
       "      <td>32.0</td>\n",
       "      <td>18.0</td>\n",
       "    </tr>\n",
       "  </tbody>\n",
       "</table>\n",
       "</div>"
      ],
      "text/plain": [
       "                               mean_revenue                     group_size  \\\n",
       "group                                    A1        A2      Test         A1   \n",
       "country_x                                                                    \n",
       "Argentina                           6089.20   7177.86   9882.60        5.0   \n",
       "Australia                           3588.00   4719.00  12597.00        1.0   \n",
       "Austria                                 NaN   4056.00       NaN        NaN   \n",
       "Belgium                             3042.00   6539.00  12597.00        1.0   \n",
       "Canada                              5209.75   3549.00   6963.67        4.0   \n",
       "Chile                               5905.25   5772.00   8183.50        4.0   \n",
       "France                              5219.50   5456.75   6465.33       12.0   \n",
       "Germany                             5053.75   6833.67   5167.50        4.0   \n",
       "India                               4810.00       NaN       NaN        2.0   \n",
       "Israel                              5978.70   6292.00  12597.00       10.0   \n",
       "Italy                               5071.08   6405.75   8183.50       12.0   \n",
       "Latvia                                  NaN       NaN   6357.00        NaN   \n",
       "Mexico                                  NaN       NaN   6214.00        NaN   \n",
       "Portugal                            6292.00   4867.20       NaN        1.0   \n",
       "Spain                               6669.00  11538.80  24918.83        5.0   \n",
       "Switzerland                         4680.00   5282.33       NaN        1.0   \n",
       "Turkey                             23361.00       NaN   3614.00        3.0   \n",
       "Ukraine                                 NaN   6357.00       NaN        NaN   \n",
       "United Arab Emirates                5247.67  24823.50  25789.83        3.0   \n",
       "United Kingdom (Great Britain)      6552.00   5365.15   6466.20        4.0   \n",
       "United States of America            8885.50   5535.56   8920.41       26.0   \n",
       "\n",
       "                                            \n",
       "group                             A2  Test  \n",
       "country_x                                   \n",
       "Argentina                        7.0   5.0  \n",
       "Australia                        1.0   1.0  \n",
       "Austria                          1.0   NaN  \n",
       "Belgium                          5.0   1.0  \n",
       "Canada                           1.0   3.0  \n",
       "Chile                            6.0   4.0  \n",
       "France                           8.0   4.0  \n",
       "Germany                          3.0   2.0  \n",
       "India                            NaN   NaN  \n",
       "Israel                           2.0   2.0  \n",
       "Italy                            4.0   7.0  \n",
       "Latvia                           NaN   1.0  \n",
       "Mexico                           NaN   1.0  \n",
       "Portugal                         5.0   NaN  \n",
       "Spain                           10.0   6.0  \n",
       "Switzerland                      3.0   NaN  \n",
       "Turkey                           NaN   1.0  \n",
       "Ukraine                          1.0   NaN  \n",
       "United Arab Emirates             4.0   6.0  \n",
       "United Kingdom (Great Britain)   9.0   5.0  \n",
       "United States of America        32.0  18.0  "
      ]
     },
     "execution_count": 147,
     "metadata": {},
     "output_type": "execute_result"
    }
   ],
   "source": [
    "premium_top_pivoted"
   ]
  },
  {
   "cell_type": "code",
   "execution_count": 148,
   "metadata": {},
   "outputs": [],
   "source": [
    " premium_top_pivoted = premium_top_pivoted.drop(['Ukraine','Switzerland', 'Portugal', 'India', 'Austria']) \n",
    "# countries without test purchases"
   ]
  },
  {
   "cell_type": "code",
   "execution_count": 149,
   "metadata": {},
   "outputs": [
    {
     "data": {
      "text/html": [
       "<div>\n",
       "<style scoped>\n",
       "    .dataframe tbody tr th:only-of-type {\n",
       "        vertical-align: middle;\n",
       "    }\n",
       "\n",
       "    .dataframe tbody tr th {\n",
       "        vertical-align: top;\n",
       "    }\n",
       "\n",
       "    .dataframe thead tr th {\n",
       "        text-align: left;\n",
       "    }\n",
       "\n",
       "    .dataframe thead tr:last-of-type th {\n",
       "        text-align: right;\n",
       "    }\n",
       "</style>\n",
       "<table border=\"1\" class=\"dataframe\">\n",
       "  <thead>\n",
       "    <tr>\n",
       "      <th></th>\n",
       "      <th colspan=\"3\" halign=\"left\">mean_revenue</th>\n",
       "      <th colspan=\"3\" halign=\"left\">group_size</th>\n",
       "    </tr>\n",
       "    <tr>\n",
       "      <th>group</th>\n",
       "      <th>A1</th>\n",
       "      <th>A2</th>\n",
       "      <th>Test</th>\n",
       "      <th>A1</th>\n",
       "      <th>A2</th>\n",
       "      <th>Test</th>\n",
       "    </tr>\n",
       "    <tr>\n",
       "      <th>country_x</th>\n",
       "      <th></th>\n",
       "      <th></th>\n",
       "      <th></th>\n",
       "      <th></th>\n",
       "      <th></th>\n",
       "      <th></th>\n",
       "    </tr>\n",
       "  </thead>\n",
       "  <tbody>\n",
       "    <tr>\n",
       "      <th>Argentina</th>\n",
       "      <td>6089.20</td>\n",
       "      <td>7177.86</td>\n",
       "      <td>9882.60</td>\n",
       "      <td>5.0</td>\n",
       "      <td>7.0</td>\n",
       "      <td>5.0</td>\n",
       "    </tr>\n",
       "    <tr>\n",
       "      <th>Australia</th>\n",
       "      <td>3588.00</td>\n",
       "      <td>4719.00</td>\n",
       "      <td>12597.00</td>\n",
       "      <td>1.0</td>\n",
       "      <td>1.0</td>\n",
       "      <td>1.0</td>\n",
       "    </tr>\n",
       "    <tr>\n",
       "      <th>Belgium</th>\n",
       "      <td>3042.00</td>\n",
       "      <td>6539.00</td>\n",
       "      <td>12597.00</td>\n",
       "      <td>1.0</td>\n",
       "      <td>5.0</td>\n",
       "      <td>1.0</td>\n",
       "    </tr>\n",
       "    <tr>\n",
       "      <th>Canada</th>\n",
       "      <td>5209.75</td>\n",
       "      <td>3549.00</td>\n",
       "      <td>6963.67</td>\n",
       "      <td>4.0</td>\n",
       "      <td>1.0</td>\n",
       "      <td>3.0</td>\n",
       "    </tr>\n",
       "    <tr>\n",
       "      <th>Chile</th>\n",
       "      <td>5905.25</td>\n",
       "      <td>5772.00</td>\n",
       "      <td>8183.50</td>\n",
       "      <td>4.0</td>\n",
       "      <td>6.0</td>\n",
       "      <td>4.0</td>\n",
       "    </tr>\n",
       "    <tr>\n",
       "      <th>France</th>\n",
       "      <td>5219.50</td>\n",
       "      <td>5456.75</td>\n",
       "      <td>6465.33</td>\n",
       "      <td>12.0</td>\n",
       "      <td>8.0</td>\n",
       "      <td>4.0</td>\n",
       "    </tr>\n",
       "    <tr>\n",
       "      <th>Germany</th>\n",
       "      <td>5053.75</td>\n",
       "      <td>6833.67</td>\n",
       "      <td>5167.50</td>\n",
       "      <td>4.0</td>\n",
       "      <td>3.0</td>\n",
       "      <td>2.0</td>\n",
       "    </tr>\n",
       "    <tr>\n",
       "      <th>Israel</th>\n",
       "      <td>5978.70</td>\n",
       "      <td>6292.00</td>\n",
       "      <td>12597.00</td>\n",
       "      <td>10.0</td>\n",
       "      <td>2.0</td>\n",
       "      <td>2.0</td>\n",
       "    </tr>\n",
       "    <tr>\n",
       "      <th>Italy</th>\n",
       "      <td>5071.08</td>\n",
       "      <td>6405.75</td>\n",
       "      <td>8183.50</td>\n",
       "      <td>12.0</td>\n",
       "      <td>4.0</td>\n",
       "      <td>7.0</td>\n",
       "    </tr>\n",
       "    <tr>\n",
       "      <th>Latvia</th>\n",
       "      <td>NaN</td>\n",
       "      <td>NaN</td>\n",
       "      <td>6357.00</td>\n",
       "      <td>NaN</td>\n",
       "      <td>NaN</td>\n",
       "      <td>1.0</td>\n",
       "    </tr>\n",
       "    <tr>\n",
       "      <th>Mexico</th>\n",
       "      <td>NaN</td>\n",
       "      <td>NaN</td>\n",
       "      <td>6214.00</td>\n",
       "      <td>NaN</td>\n",
       "      <td>NaN</td>\n",
       "      <td>1.0</td>\n",
       "    </tr>\n",
       "    <tr>\n",
       "      <th>Spain</th>\n",
       "      <td>6669.00</td>\n",
       "      <td>11538.80</td>\n",
       "      <td>24918.83</td>\n",
       "      <td>5.0</td>\n",
       "      <td>10.0</td>\n",
       "      <td>6.0</td>\n",
       "    </tr>\n",
       "    <tr>\n",
       "      <th>Turkey</th>\n",
       "      <td>23361.00</td>\n",
       "      <td>NaN</td>\n",
       "      <td>3614.00</td>\n",
       "      <td>3.0</td>\n",
       "      <td>NaN</td>\n",
       "      <td>1.0</td>\n",
       "    </tr>\n",
       "    <tr>\n",
       "      <th>United Arab Emirates</th>\n",
       "      <td>5247.67</td>\n",
       "      <td>24823.50</td>\n",
       "      <td>25789.83</td>\n",
       "      <td>3.0</td>\n",
       "      <td>4.0</td>\n",
       "      <td>6.0</td>\n",
       "    </tr>\n",
       "    <tr>\n",
       "      <th>United Kingdom (Great Britain)</th>\n",
       "      <td>6552.00</td>\n",
       "      <td>5365.15</td>\n",
       "      <td>6466.20</td>\n",
       "      <td>4.0</td>\n",
       "      <td>9.0</td>\n",
       "      <td>5.0</td>\n",
       "    </tr>\n",
       "    <tr>\n",
       "      <th>United States of America</th>\n",
       "      <td>8885.50</td>\n",
       "      <td>5535.56</td>\n",
       "      <td>8920.41</td>\n",
       "      <td>26.0</td>\n",
       "      <td>32.0</td>\n",
       "      <td>18.0</td>\n",
       "    </tr>\n",
       "  </tbody>\n",
       "</table>\n",
       "</div>"
      ],
      "text/plain": [
       "                               mean_revenue                     group_size  \\\n",
       "group                                    A1        A2      Test         A1   \n",
       "country_x                                                                    \n",
       "Argentina                           6089.20   7177.86   9882.60        5.0   \n",
       "Australia                           3588.00   4719.00  12597.00        1.0   \n",
       "Belgium                             3042.00   6539.00  12597.00        1.0   \n",
       "Canada                              5209.75   3549.00   6963.67        4.0   \n",
       "Chile                               5905.25   5772.00   8183.50        4.0   \n",
       "France                              5219.50   5456.75   6465.33       12.0   \n",
       "Germany                             5053.75   6833.67   5167.50        4.0   \n",
       "Israel                              5978.70   6292.00  12597.00       10.0   \n",
       "Italy                               5071.08   6405.75   8183.50       12.0   \n",
       "Latvia                                  NaN       NaN   6357.00        NaN   \n",
       "Mexico                                  NaN       NaN   6214.00        NaN   \n",
       "Spain                               6669.00  11538.80  24918.83        5.0   \n",
       "Turkey                             23361.00       NaN   3614.00        3.0   \n",
       "United Arab Emirates                5247.67  24823.50  25789.83        3.0   \n",
       "United Kingdom (Great Britain)      6552.00   5365.15   6466.20        4.0   \n",
       "United States of America            8885.50   5535.56   8920.41       26.0   \n",
       "\n",
       "                                            \n",
       "group                             A2  Test  \n",
       "country_x                                   \n",
       "Argentina                        7.0   5.0  \n",
       "Australia                        1.0   1.0  \n",
       "Belgium                          5.0   1.0  \n",
       "Canada                           1.0   3.0  \n",
       "Chile                            6.0   4.0  \n",
       "France                           8.0   4.0  \n",
       "Germany                          3.0   2.0  \n",
       "Israel                           2.0   2.0  \n",
       "Italy                            4.0   7.0  \n",
       "Latvia                           NaN   1.0  \n",
       "Mexico                           NaN   1.0  \n",
       "Spain                           10.0   6.0  \n",
       "Turkey                           NaN   1.0  \n",
       "United Arab Emirates             4.0   6.0  \n",
       "United Kingdom (Great Britain)   9.0   5.0  \n",
       "United States of America        32.0  18.0  "
      ]
     },
     "execution_count": 149,
     "metadata": {},
     "output_type": "execute_result"
    }
   ],
   "source": [
    "premium_top_pivoted"
   ]
  },
  {
   "cell_type": "markdown",
   "metadata": {},
   "source": [
    "Noteworthy are Latvia and Mexico, where purchases are only available in the test group;\n",
    "Australia, Spain, Italy, Belgium, Israel, UAE with an increase in average revenue in the test group and not the highest number of people in the group."
   ]
  },
  {
   "cell_type": "code",
   "execution_count": 150,
   "metadata": {},
   "outputs": [],
   "source": [
    "countries = ['Australia', 'Spain', 'Italy', 'Belgium', 'Israel', 'United Arab Emirates']"
   ]
  },
  {
   "cell_type": "markdown",
   "metadata": {},
   "source": [
    "##### Let's look at buyers in these countries"
   ]
  },
  {
   "cell_type": "code",
   "execution_count": 151,
   "metadata": {},
   "outputs": [],
   "source": [
    "success = full.query('country_x in @countries & product_type == \"premium_no_trial\"')\\\n",
    "              .groupby(['age_Coef','gender'])\\\n",
    "              .agg({\"uid\":\"count\"})\\\n",
    "              .sort_values(by = 'uid', ascending = False)"
   ]
  },
  {
   "cell_type": "code",
   "execution_count": 152,
   "metadata": {},
   "outputs": [
    {
     "data": {
      "text/html": [
       "<div>\n",
       "<style scoped>\n",
       "    .dataframe tbody tr th:only-of-type {\n",
       "        vertical-align: middle;\n",
       "    }\n",
       "\n",
       "    .dataframe tbody tr th {\n",
       "        vertical-align: top;\n",
       "    }\n",
       "\n",
       "    .dataframe thead th {\n",
       "        text-align: right;\n",
       "    }\n",
       "</style>\n",
       "<table border=\"1\" class=\"dataframe\">\n",
       "  <thead>\n",
       "    <tr style=\"text-align: right;\">\n",
       "      <th></th>\n",
       "      <th></th>\n",
       "      <th>uid</th>\n",
       "    </tr>\n",
       "    <tr>\n",
       "      <th>age_Coef</th>\n",
       "      <th>gender</th>\n",
       "      <th></th>\n",
       "    </tr>\n",
       "  </thead>\n",
       "  <tbody>\n",
       "    <tr>\n",
       "      <th>2.0</th>\n",
       "      <th>1.0</th>\n",
       "      <td>42</td>\n",
       "    </tr>\n",
       "    <tr>\n",
       "      <th>3.0</th>\n",
       "      <th>1.0</th>\n",
       "      <td>25</td>\n",
       "    </tr>\n",
       "    <tr>\n",
       "      <th>4.0</th>\n",
       "      <th>1.0</th>\n",
       "      <td>16</td>\n",
       "    </tr>\n",
       "    <tr>\n",
       "      <th>1.0</th>\n",
       "      <th>1.0</th>\n",
       "      <td>2</td>\n",
       "    </tr>\n",
       "    <tr>\n",
       "      <th>5.0</th>\n",
       "      <th>1.0</th>\n",
       "      <td>2</td>\n",
       "    </tr>\n",
       "  </tbody>\n",
       "</table>\n",
       "</div>"
      ],
      "text/plain": [
       "                 uid\n",
       "age_Coef gender     \n",
       "2.0      1.0      42\n",
       "3.0      1.0      25\n",
       "4.0      1.0      16\n",
       "1.0      1.0       2\n",
       "5.0      1.0       2"
      ]
     },
     "execution_count": 152,
     "metadata": {},
     "output_type": "execute_result"
    }
   ],
   "source": [
    "success"
   ]
  },
  {
   "cell_type": "markdown",
   "metadata": {},
   "source": [
    "Conclusion. The experiment can be considered unsuccessful.\n",
    "- ARPU, not significantly different\n",
    "- ARPPU, much higher in the test group\n",
    "Despite the fact that the tests showed stat. significance in terms of growth of the average bill among paying users; the conversion rate from registration to purchase of the premium version is identical to that of the control groups.\n",
    "We looked at the funnel (visit-register-trial/paid premium purchase version):\n",
    "- CR-reg (conversion to registration) in the test group is lower than the control group;\n",
    "- CR_trial (conversion from registration to premium trial version) is higher in the test group;\n",
    "- CR_premium (conversion from registration to premium purchase) is also lower than control groups.\n",
    "___\n",
    "  The subscription price has probably been increased. People are interested in a premium product, but new payment methods do not motivate them to buy.\n",
    "If we “roll out” innovations, then for representatives of gender 1 aged 21-40 years in the following countries:\n",
    "Australia, Belgium, Israel, Spain, Italy, UAE. It is worth noting that users from Latvia and Mexico appeared in the test group.\n",
    "___\n",
    "It is also worth recommending that we try to eliminate the causes of failures when a user can purchase something without registration and the principle of setting dates in the system."
   ]
  }
 ],
 "metadata": {
  "kernelspec": {
   "display_name": "Python 3 (ipykernel)",
   "language": "python",
   "name": "python3"
  },
  "language_info": {
   "codemirror_mode": {
    "name": "ipython",
    "version": 3
   },
   "file_extension": ".py",
   "mimetype": "text/x-python",
   "name": "python",
   "nbconvert_exporter": "python",
   "pygments_lexer": "ipython3",
   "version": "3.9.13"
  }
 },
 "nbformat": 4,
 "nbformat_minor": 4
}
